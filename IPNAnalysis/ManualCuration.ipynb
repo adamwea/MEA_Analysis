{
 "cells": [
  {
   "cell_type": "code",
   "execution_count": 1,
   "metadata": {},
   "outputs": [],
   "source": [
    "import mea_analysis_pipeline as msp\n",
    "\n",
    "\n",
    "waveform_folder = '/home/mmp/disktb/mmpatil/MEA_Analysis/AnalyzedData/KCNT1_2/KCNT1_2/230825/16378/Network/000232/waveforms_good'\n"
   ]
  },
  {
   "cell_type": "code",
   "execution_count": 2,
   "metadata": {},
   "outputs": [],
   "source": [
    "msp.analyse_waveforms_sigui(waveform_folder) "
   ]
  }
 ],
 "metadata": {
  "kernelspec": {
   "display_name": "Python 3",
   "language": "python",
   "name": "python3"
  },
  "language_info": {
   "codemirror_mode": {
    "name": "ipython",
    "version": 3
   },
   "file_extension": ".py",
   "mimetype": "text/x-python",
   "name": "python",
   "nbconvert_exporter": "python",
   "pygments_lexer": "ipython3",
   "version": "3.10.12"
  },
  "orig_nbformat": 4
 },
 "nbformat": 4,
 "nbformat_minor": 2
}
