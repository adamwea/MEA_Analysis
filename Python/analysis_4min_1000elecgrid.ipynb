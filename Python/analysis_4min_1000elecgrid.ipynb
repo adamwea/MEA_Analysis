{
 "cells": [
  {
   "cell_type": "code",
   "execution_count": 1,
   "metadata": {},
   "outputs": [],
   "source": [
    "import numpy as np\n",
    "import matplotlib.pyplot as plt\n",
    "from tsmoothie.smoother import GaussianSmoother\n",
    "import spikeinterface\n",
    "import spikeinterface.full as si\n",
    "import spikeinterface.extractors as se\n",
    "import spikeinterface.sorters as ss\n",
    "import spikeinterface.comparison as sc\n",
    "import spikeinterface.widgets as sw\n",
    "import spikeinterface.postprocessing as sp\n",
    "import spikeinterface.preprocessing as spre\n",
    "import spikeinterface.qualitymetrics as qm\n",
    "import helper_functions as helper"
   ]
  },
  {
   "cell_type": "code",
   "execution_count": 2,
   "metadata": {},
   "outputs": [
    {
     "name": "stdout",
     "output_type": "stream",
     "text": [
      "inside get_reader\n",
      "Inside NeoBaseExtractor\n",
      "Sampling frequency: 20000.0\n",
      "Number of channels: 724\n",
      "Number of segments: 1\n",
      "total_recording: 616.87 s\n"
     ]
    }
   ],
   "source": [
    "#Reading the file, BP filtering\n",
    "local_path= '/home/mmpatil/Documents/spikesorting/Data/Trace_20230317_12_45_44_1000elec.raw.h5' #network data from chip 16848\n",
    "\n",
    "recording = se.read_maxwell(local_path)\n",
    "\n",
    "channel_ids = recording.get_channel_ids()\n",
    "fs = recording.get_sampling_frequency()\n",
    "num_chan = recording.get_num_channels()\n",
    "num_seg = recording.get_num_segments()\n",
    "total_recording = recording.get_total_duration()\n",
    "\n",
    "#print('Channel ids:', channel_ids)\n",
    "print('Sampling frequency:', fs)\n",
    "print('Number of channels:', num_chan)\n",
    "print('Number of segments:', num_seg)\n",
    "print(f\"total_recording: {total_recording} s\")\n",
    "recording_chunk = recording.frame_slice(start_frame= 30*fs,end_frame=270*fs)\n",
    "\n",
    "recording_chunk = spre.bandpass_filter(recording_chunk, freq_min=300, freq_max=6000)\n",
    "\n",
    "recodring_chunk = spre.common_reference(recording_chunk, reference='global', operator='median')\n",
    "\n",
    "\n"
   ]
  },
  {
   "cell_type": "code",
   "execution_count": 3,
   "metadata": {},
   "outputs": [
    {
     "name": "stdout",
     "output_type": "stream",
     "text": [
      "{'detect_threshold': 24, 'projection_threshold': [30, 30], 'preclust_threshold': 26, 'car': True, 'minFR': 0.2, 'minfr_goodchannels': 0.2, 'nblocks': 5, 'sig': 20, 'freq_min': 300, 'sigmaMask': 30, 'nPCs': 3, 'ntbuff': 64, 'nfilt_factor': 4, 'do_correction': True, 'NT': None, 'wave_length': 61, 'keep_good_only': True, 'n_jobs': 48, 'chunk_duration': '1s', 'progress_bar': True}\n",
      "Starting container\n",
      "Installing spikeinterface==0.97.0 in kilosort3-maxwellcomplib:latest\n"
     ]
    },
    {
     "ename": "KeyboardInterrupt",
     "evalue": "",
     "output_type": "error",
     "traceback": [
      "\u001b[0;31m---------------------------------------------------------------------------\u001b[0m",
      "\u001b[0;31mKeyboardInterrupt\u001b[0m                         Traceback (most recent call last)",
      "Cell \u001b[0;32mIn[3], line 7\u001b[0m\n\u001b[1;32m      5\u001b[0m default_KS3_params[\u001b[39m'\u001b[39m\u001b[39mpreclust_threshold\u001b[39m\u001b[39m'\u001b[39m] \u001b[39m=\u001b[39m \u001b[39m26\u001b[39m\n\u001b[1;32m      6\u001b[0m \u001b[39mprint\u001b[39m(default_KS3_params)\n\u001b[0;32m----> 7\u001b[0m run_sorter \u001b[39m=\u001b[39m ss\u001b[39m.\u001b[39;49mrun_kilosort3(recording_chunk, output_folder\u001b[39m=\u001b[39;49m\u001b[39m\"\u001b[39;49m\u001b[39mkilosort3_2min_17march_block\u001b[39;49m\u001b[39m\"\u001b[39;49m, docker_image\u001b[39m=\u001b[39;49m \u001b[39m\"\u001b[39;49m\u001b[39mkilosort3-maxwellcomplib:latest\u001b[39;49m\u001b[39m\"\u001b[39;49m,verbose\u001b[39m=\u001b[39;49m\u001b[39mTrue\u001b[39;49;00m, \u001b[39m*\u001b[39;49m\u001b[39m*\u001b[39;49mdefault_KS3_params)\n",
      "File \u001b[0;32m~/.local/lib/python3.10/site-packages/spikeinterface/sorters/runsorter.py:693\u001b[0m, in \u001b[0;36mrun_kilosort3\u001b[0;34m(*args, **kwargs)\u001b[0m\n\u001b[1;32m    692\u001b[0m \u001b[39mdef\u001b[39;00m \u001b[39mrun_kilosort3\u001b[39m(\u001b[39m*\u001b[39margs, \u001b[39m*\u001b[39m\u001b[39m*\u001b[39mkwargs):\n\u001b[0;32m--> 693\u001b[0m     \u001b[39mreturn\u001b[39;00m run_sorter(\u001b[39m'\u001b[39;49m\u001b[39mkilosort3\u001b[39;49m\u001b[39m'\u001b[39;49m, \u001b[39m*\u001b[39;49margs, \u001b[39m*\u001b[39;49m\u001b[39m*\u001b[39;49mkwargs)\n",
      "File \u001b[0;32m~/.local/lib/python3.10/site-packages/spikeinterface/sorters/runsorter.py:137\u001b[0m, in \u001b[0;36mrun_sorter\u001b[0;34m(sorter_name, recording, output_folder, remove_existing_folder, delete_output_folder, verbose, raise_error, docker_image, singularity_image, with_output, **sorter_params)\u001b[0m\n\u001b[1;32m    135\u001b[0m         \u001b[39melse\u001b[39;00m:\n\u001b[1;32m    136\u001b[0m             container_image \u001b[39m=\u001b[39m singularity_image\n\u001b[0;32m--> 137\u001b[0m     \u001b[39mreturn\u001b[39;00m run_sorter_container(\n\u001b[1;32m    138\u001b[0m         container_image\u001b[39m=\u001b[39;49mcontainer_image,\n\u001b[1;32m    139\u001b[0m         mode\u001b[39m=\u001b[39;49mmode,\n\u001b[1;32m    140\u001b[0m         \u001b[39m*\u001b[39;49m\u001b[39m*\u001b[39;49mcommon_kwargs,\n\u001b[1;32m    141\u001b[0m     )\n\u001b[1;32m    143\u001b[0m \u001b[39mreturn\u001b[39;00m run_sorter_local(\u001b[39m*\u001b[39m\u001b[39m*\u001b[39mcommon_kwargs)\n",
      "File \u001b[0;32m~/.local/lib/python3.10/site-packages/spikeinterface/sorters/runsorter.py:516\u001b[0m, in \u001b[0;36mrun_sorter_container\u001b[0;34m(sorter_name, recording, mode, container_image, output_folder, remove_existing_folder, delete_output_folder, verbose, raise_error, with_output, extra_requirements, **sorter_params)\u001b[0m\n\u001b[1;32m    514\u001b[0m             \u001b[39mprint\u001b[39m(\u001b[39mf\u001b[39m\u001b[39m\"\u001b[39m\u001b[39mInstalling spikeinterface==\u001b[39m\u001b[39m{\u001b[39;00msi_version\u001b[39m}\u001b[39;00m\u001b[39m in \u001b[39m\u001b[39m{\u001b[39;00mcontainer_image\u001b[39m}\u001b[39;00m\u001b[39m\"\u001b[39m)\n\u001b[1;32m    515\u001b[0m         cmd \u001b[39m=\u001b[39m \u001b[39mf\u001b[39m\u001b[39m'\u001b[39m\u001b[39mpip install --upgrade --no-input spikeinterface[full]==\u001b[39m\u001b[39m{\u001b[39;00msi_version\u001b[39m}\u001b[39;00m\u001b[39m'\u001b[39m\n\u001b[0;32m--> 516\u001b[0m         res_output \u001b[39m=\u001b[39m container_client\u001b[39m.\u001b[39;49mrun_command(cmd)\n\u001b[1;32m    517\u001b[0m \u001b[39melse\u001b[39;00m:\n\u001b[1;32m    518\u001b[0m     \u001b[39m# TODO version checking\u001b[39;00m\n\u001b[1;32m    519\u001b[0m     \u001b[39mif\u001b[39;00m verbose:\n",
      "File \u001b[0;32m~/.local/lib/python3.10/site-packages/spikeinterface/sorters/runsorter.py:318\u001b[0m, in \u001b[0;36mContainerClient.run_command\u001b[0;34m(self, command)\u001b[0m\n\u001b[1;32m    316\u001b[0m \u001b[39mdef\u001b[39;00m \u001b[39mrun_command\u001b[39m(\u001b[39mself\u001b[39m, command):\n\u001b[1;32m    317\u001b[0m     \u001b[39mif\u001b[39;00m \u001b[39mself\u001b[39m\u001b[39m.\u001b[39mmode \u001b[39m==\u001b[39m \u001b[39m'\u001b[39m\u001b[39mdocker\u001b[39m\u001b[39m'\u001b[39m:\n\u001b[0;32m--> 318\u001b[0m         res \u001b[39m=\u001b[39m \u001b[39mself\u001b[39;49m\u001b[39m.\u001b[39;49mdocker_container\u001b[39m.\u001b[39;49mexec_run(command)\n\u001b[1;32m    319\u001b[0m         \u001b[39mreturn\u001b[39;00m \u001b[39mstr\u001b[39m(res\u001b[39m.\u001b[39moutput)\n\u001b[1;32m    320\u001b[0m     \u001b[39melif\u001b[39;00m \u001b[39mself\u001b[39m\u001b[39m.\u001b[39mmode \u001b[39m==\u001b[39m \u001b[39m'\u001b[39m\u001b[39msingularity\u001b[39m\u001b[39m'\u001b[39m:\n",
      "File \u001b[0;32m~/.local/lib/python3.10/site-packages/docker/models/containers.py:198\u001b[0m, in \u001b[0;36mContainer.exec_run\u001b[0;34m(self, cmd, stdout, stderr, stdin, tty, privileged, user, detach, stream, socket, environment, workdir, demux)\u001b[0m\n\u001b[1;32m    155\u001b[0m \u001b[39m\u001b[39m\u001b[39m\"\"\"\u001b[39;00m\n\u001b[1;32m    156\u001b[0m \u001b[39mRun a command inside this container. Similar to\u001b[39;00m\n\u001b[1;32m    157\u001b[0m \u001b[39m``docker exec``.\u001b[39;00m\n\u001b[0;32m   (...)\u001b[0m\n\u001b[1;32m    191\u001b[0m \u001b[39m        If the server returns an error.\u001b[39;00m\n\u001b[1;32m    192\u001b[0m \u001b[39m\"\"\"\u001b[39;00m\n\u001b[1;32m    193\u001b[0m resp \u001b[39m=\u001b[39m \u001b[39mself\u001b[39m\u001b[39m.\u001b[39mclient\u001b[39m.\u001b[39mapi\u001b[39m.\u001b[39mexec_create(\n\u001b[1;32m    194\u001b[0m     \u001b[39mself\u001b[39m\u001b[39m.\u001b[39mid, cmd, stdout\u001b[39m=\u001b[39mstdout, stderr\u001b[39m=\u001b[39mstderr, stdin\u001b[39m=\u001b[39mstdin, tty\u001b[39m=\u001b[39mtty,\n\u001b[1;32m    195\u001b[0m     privileged\u001b[39m=\u001b[39mprivileged, user\u001b[39m=\u001b[39muser, environment\u001b[39m=\u001b[39menvironment,\n\u001b[1;32m    196\u001b[0m     workdir\u001b[39m=\u001b[39mworkdir,\n\u001b[1;32m    197\u001b[0m )\n\u001b[0;32m--> 198\u001b[0m exec_output \u001b[39m=\u001b[39m \u001b[39mself\u001b[39;49m\u001b[39m.\u001b[39;49mclient\u001b[39m.\u001b[39;49mapi\u001b[39m.\u001b[39;49mexec_start(\n\u001b[1;32m    199\u001b[0m     resp[\u001b[39m'\u001b[39;49m\u001b[39mId\u001b[39;49m\u001b[39m'\u001b[39;49m], detach\u001b[39m=\u001b[39;49mdetach, tty\u001b[39m=\u001b[39;49mtty, stream\u001b[39m=\u001b[39;49mstream, socket\u001b[39m=\u001b[39;49msocket,\n\u001b[1;32m    200\u001b[0m     demux\u001b[39m=\u001b[39;49mdemux\n\u001b[1;32m    201\u001b[0m )\n\u001b[1;32m    202\u001b[0m \u001b[39mif\u001b[39;00m socket \u001b[39mor\u001b[39;00m stream:\n\u001b[1;32m    203\u001b[0m     \u001b[39mreturn\u001b[39;00m ExecResult(\u001b[39mNone\u001b[39;00m, exec_output)\n",
      "File \u001b[0;32m~/.local/lib/python3.10/site-packages/docker/utils/decorators.py:19\u001b[0m, in \u001b[0;36mcheck_resource.<locals>.decorator.<locals>.wrapped\u001b[0;34m(self, resource_id, *args, **kwargs)\u001b[0m\n\u001b[1;32m     15\u001b[0m \u001b[39mif\u001b[39;00m \u001b[39mnot\u001b[39;00m resource_id:\n\u001b[1;32m     16\u001b[0m     \u001b[39mraise\u001b[39;00m errors\u001b[39m.\u001b[39mNullResource(\n\u001b[1;32m     17\u001b[0m         \u001b[39m'\u001b[39m\u001b[39mResource ID was not provided\u001b[39m\u001b[39m'\u001b[39m\n\u001b[1;32m     18\u001b[0m     )\n\u001b[0;32m---> 19\u001b[0m \u001b[39mreturn\u001b[39;00m f(\u001b[39mself\u001b[39;49m, resource_id, \u001b[39m*\u001b[39;49margs, \u001b[39m*\u001b[39;49m\u001b[39m*\u001b[39;49mkwargs)\n",
      "File \u001b[0;32m~/.local/lib/python3.10/site-packages/docker/api/exec_api.py:167\u001b[0m, in \u001b[0;36mExecApiMixin.exec_start\u001b[0;34m(self, exec_id, detach, tty, stream, socket, demux)\u001b[0m\n\u001b[1;32m    165\u001b[0m \u001b[39mif\u001b[39;00m socket:\n\u001b[1;32m    166\u001b[0m     \u001b[39mreturn\u001b[39;00m \u001b[39mself\u001b[39m\u001b[39m.\u001b[39m_get_raw_response_socket(res)\n\u001b[0;32m--> 167\u001b[0m \u001b[39mreturn\u001b[39;00m \u001b[39mself\u001b[39;49m\u001b[39m.\u001b[39;49m_read_from_socket(res, stream, tty\u001b[39m=\u001b[39;49mtty, demux\u001b[39m=\u001b[39;49mdemux)\n",
      "File \u001b[0;32m~/.local/lib/python3.10/site-packages/docker/api/client.py:424\u001b[0m, in \u001b[0;36mAPIClient._read_from_socket\u001b[0;34m(self, response, stream, tty, demux)\u001b[0m\n\u001b[1;32m    421\u001b[0m     \u001b[39mreturn\u001b[39;00m gen\n\u001b[1;32m    422\u001b[0m \u001b[39melse\u001b[39;00m:\n\u001b[1;32m    423\u001b[0m     \u001b[39m# Wait for all the frames, concatenate them, and return the result\u001b[39;00m\n\u001b[0;32m--> 424\u001b[0m     \u001b[39mreturn\u001b[39;00m consume_socket_output(gen, demux\u001b[39m=\u001b[39;49mdemux)\n",
      "File \u001b[0;32m~/.local/lib/python3.10/site-packages/docker/utils/socket.py:149\u001b[0m, in \u001b[0;36mconsume_socket_output\u001b[0;34m(frames, demux)\u001b[0m\n\u001b[1;32m    135\u001b[0m \u001b[39m\u001b[39m\u001b[39m\"\"\"\u001b[39;00m\n\u001b[1;32m    136\u001b[0m \u001b[39mIterate through frames read from the socket and return the result.\u001b[39;00m\n\u001b[1;32m    137\u001b[0m \n\u001b[0;32m   (...)\u001b[0m\n\u001b[1;32m    144\u001b[0m \u001b[39m        concatenation of frames belonging to the same stream.\u001b[39;00m\n\u001b[1;32m    145\u001b[0m \u001b[39m\"\"\"\u001b[39;00m\n\u001b[1;32m    146\u001b[0m \u001b[39mif\u001b[39;00m demux \u001b[39mis\u001b[39;00m \u001b[39mFalse\u001b[39;00m:\n\u001b[1;32m    147\u001b[0m     \u001b[39m# If the streams are multiplexed, the generator returns strings, that\u001b[39;00m\n\u001b[1;32m    148\u001b[0m     \u001b[39m# we just need to concatenate.\u001b[39;00m\n\u001b[0;32m--> 149\u001b[0m     \u001b[39mreturn\u001b[39;00m \u001b[39mbytes\u001b[39;49m()\u001b[39m.\u001b[39;49mjoin(frames)\n\u001b[1;32m    151\u001b[0m \u001b[39m# If the streams are demultiplexed, the generator yields tuples\u001b[39;00m\n\u001b[1;32m    152\u001b[0m \u001b[39m# (stdout, stderr)\u001b[39;00m\n\u001b[1;32m    153\u001b[0m out \u001b[39m=\u001b[39m [\u001b[39mNone\u001b[39;00m, \u001b[39mNone\u001b[39;00m]\n",
      "File \u001b[0;32m~/.local/lib/python3.10/site-packages/docker/api/client.py:418\u001b[0m, in \u001b[0;36m<genexpr>\u001b[0;34m(.0)\u001b[0m\n\u001b[1;32m    415\u001b[0m     gen \u001b[39m=\u001b[39m (demux_adaptor(\u001b[39m*\u001b[39mframe) \u001b[39mfor\u001b[39;00m frame \u001b[39min\u001b[39;00m gen)\n\u001b[1;32m    416\u001b[0m \u001b[39melse\u001b[39;00m:\n\u001b[1;32m    417\u001b[0m     \u001b[39m# The generator will output strings\u001b[39;00m\n\u001b[0;32m--> 418\u001b[0m     gen \u001b[39m=\u001b[39m (data \u001b[39mfor\u001b[39;00m (_, data) \u001b[39min\u001b[39;00m gen)\n\u001b[1;32m    420\u001b[0m \u001b[39mif\u001b[39;00m stream:\n\u001b[1;32m    421\u001b[0m     \u001b[39mreturn\u001b[39;00m gen\n",
      "File \u001b[0;32m~/.local/lib/python3.10/site-packages/docker/utils/socket.py:106\u001b[0m, in \u001b[0;36mframes_iter_no_tty\u001b[0;34m(socket)\u001b[0m\n\u001b[1;32m    101\u001b[0m \u001b[39m\u001b[39m\u001b[39m\"\"\"\u001b[39;00m\n\u001b[1;32m    102\u001b[0m \u001b[39mReturns a generator of data read from the socket when the tty setting is\u001b[39;00m\n\u001b[1;32m    103\u001b[0m \u001b[39mnot enabled.\u001b[39;00m\n\u001b[1;32m    104\u001b[0m \u001b[39m\"\"\"\u001b[39;00m\n\u001b[1;32m    105\u001b[0m \u001b[39mwhile\u001b[39;00m \u001b[39mTrue\u001b[39;00m:\n\u001b[0;32m--> 106\u001b[0m     (stream, n) \u001b[39m=\u001b[39m next_frame_header(socket)\n\u001b[1;32m    107\u001b[0m     \u001b[39mif\u001b[39;00m n \u001b[39m<\u001b[39m \u001b[39m0\u001b[39m:\n\u001b[1;32m    108\u001b[0m         \u001b[39mbreak\u001b[39;00m\n",
      "File \u001b[0;32m~/.local/lib/python3.10/site-packages/docker/utils/socket.py:78\u001b[0m, in \u001b[0;36mnext_frame_header\u001b[0;34m(socket)\u001b[0m\n\u001b[1;32m     71\u001b[0m \u001b[39m\u001b[39m\u001b[39m\"\"\"\u001b[39;00m\n\u001b[1;32m     72\u001b[0m \u001b[39mReturns the stream and size of the next frame of data waiting to be read\u001b[39;00m\n\u001b[1;32m     73\u001b[0m \u001b[39mfrom socket, according to the protocol defined here:\u001b[39;00m\n\u001b[1;32m     74\u001b[0m \n\u001b[1;32m     75\u001b[0m \u001b[39mhttps://docs.docker.com/engine/api/v1.24/#attach-to-a-container\u001b[39;00m\n\u001b[1;32m     76\u001b[0m \u001b[39m\"\"\"\u001b[39;00m\n\u001b[1;32m     77\u001b[0m \u001b[39mtry\u001b[39;00m:\n\u001b[0;32m---> 78\u001b[0m     data \u001b[39m=\u001b[39m read_exactly(socket, \u001b[39m8\u001b[39;49m)\n\u001b[1;32m     79\u001b[0m \u001b[39mexcept\u001b[39;00m SocketError:\n\u001b[1;32m     80\u001b[0m     \u001b[39mreturn\u001b[39;00m (\u001b[39m-\u001b[39m\u001b[39m1\u001b[39m, \u001b[39m-\u001b[39m\u001b[39m1\u001b[39m)\n",
      "File \u001b[0;32m~/.local/lib/python3.10/site-packages/docker/utils/socket.py:63\u001b[0m, in \u001b[0;36mread_exactly\u001b[0;34m(socket, n)\u001b[0m\n\u001b[1;32m     61\u001b[0m data \u001b[39m=\u001b[39m \u001b[39mbytes\u001b[39m()\n\u001b[1;32m     62\u001b[0m \u001b[39mwhile\u001b[39;00m \u001b[39mlen\u001b[39m(data) \u001b[39m<\u001b[39m n:\n\u001b[0;32m---> 63\u001b[0m     next_data \u001b[39m=\u001b[39m read(socket, n \u001b[39m-\u001b[39;49m \u001b[39mlen\u001b[39;49m(data))\n\u001b[1;32m     64\u001b[0m     \u001b[39mif\u001b[39;00m \u001b[39mnot\u001b[39;00m next_data:\n\u001b[1;32m     65\u001b[0m         \u001b[39mraise\u001b[39;00m SocketError(\u001b[39m\"\u001b[39m\u001b[39mUnexpected EOF\u001b[39m\u001b[39m\"\u001b[39m)\n",
      "File \u001b[0;32m~/.local/lib/python3.10/site-packages/docker/utils/socket.py:34\u001b[0m, in \u001b[0;36mread\u001b[0;34m(socket, n)\u001b[0m\n\u001b[1;32m     31\u001b[0m recoverable_errors \u001b[39m=\u001b[39m (errno\u001b[39m.\u001b[39mEINTR, errno\u001b[39m.\u001b[39mEDEADLK, errno\u001b[39m.\u001b[39mEWOULDBLOCK)\n\u001b[1;32m     33\u001b[0m \u001b[39mif\u001b[39;00m \u001b[39mnot\u001b[39;00m \u001b[39misinstance\u001b[39m(socket, NpipeSocket):\n\u001b[0;32m---> 34\u001b[0m     select\u001b[39m.\u001b[39;49mselect([socket], [], [])\n\u001b[1;32m     36\u001b[0m \u001b[39mtry\u001b[39;00m:\n\u001b[1;32m     37\u001b[0m     \u001b[39mif\u001b[39;00m \u001b[39mhasattr\u001b[39m(socket, \u001b[39m'\u001b[39m\u001b[39mrecv\u001b[39m\u001b[39m'\u001b[39m):\n",
      "\u001b[0;31mKeyboardInterrupt\u001b[0m: "
     ]
    }
   ],
   "source": [
    "default_KS3_params = ss.get_default_sorter_params('kilosort3')\n",
    "default_KS3_params['keep_good_only'] = True\n",
    "default_KS3_params['detect_threshold'] = 24\n",
    "default_KS3_params['projection_threshold']=[30, 30]\n",
    "default_KS3_params['preclust_threshold'] = 26\n",
    "print(default_KS3_params)\n",
    "run_sorter = ss.run_kilosort3(recording_chunk, output_folder=\"kilosort3_2min_17march_block\", docker_image= \"kilosort3-maxwellcomplib:latest\",verbose=True, **default_KS3_params)"
   ]
  },
  {
   "cell_type": "code",
   "execution_count": 4,
   "metadata": {},
   "outputs": [
    {
     "name": "stdout",
     "output_type": "stream",
     "text": [
      "[  0   3   4   5   6   8  12  13  15  16  18  22  26  27  30  31  33  34\n",
      "  35  39  40  42  43  46  47  49  50  51  53  57  58  62  66  67  68  69\n",
      "  73  74  75  77  78  87  89  92  94  95  98 101 102 103 104 106 108]\n",
      "53\n",
      "['0' '1' '2' '3' '4' '5' '6' '7' '8' '9' '10' '11' '12' '13' '14' '15'\n",
      " '16' '17' '18' '19' '20' '21' '22' '23' '24' '25' '26' '27' '28' '29'\n",
      " '30' '31' '32' '33' '34' '35' '36' '37' '38' '39' '40' '41' '42' '43'\n",
      " '44' '45' '46' '47' '48' '49' '50' '51' '52' '53' '54' '55' '56' '57'\n",
      " '58' '59' '60' '61' '62' '63' '64' '65' '66' '67' '68' '69' '70' '71'\n",
      " '72' '73' '74' '75' '76' '77' '78' '79' '80' '81' '82' '83' '84' '85'\n",
      " '86' '88' '89' '90' '91' '92' '93' '94' '95' '97' '98' '99' '100' '101'\n",
      " '102' '104' '105' '106' '107' '108' '109' '110' '111' '112' '113' '114'\n",
      " '116' '117' '118' '119' '120' '121' '122' '124' '125' '126' '129' '133'\n",
      " '137' '141' '145' '149' '153' '157' '161' '165' '169' '173' '176' '177'\n",
      " '180' '181' '185' '189' '193' '196' '197' '198' '201' '203' '205' '208'\n",
      " '209' '210' '213' '214' '217' '218' '219' '220' '221' '224' '225' '226'\n",
      " '229' '230' '232' '233' '234' '235' '236' '237' '238' '240' '241' '242'\n",
      " '245' '246' '248' '249' '250' '252' '253' '254' '257' '261' '265' '269'\n",
      " '273' '277' '281' '293' '309' '373' '377' '381' '385' '387' '388' '389'\n",
      " '392' '393' '395' '396' '397' '399' '400' '401' '405' '408' '409' '412'\n",
      " '413' '416' '417' '421' '425' '429' '433' '437' '441' '444' '445' '449'\n",
      " '453' '457' '461' '469' '473' '477' '481' '485' '489' '493' '512' '513'\n",
      " '515' '516' '517' '519' '520' '521' '523' '525' '527' '528' '529' '531'\n",
      " '532' '533' '535' '536' '537' '539' '540' '541' '543' '544' '545' '547'\n",
      " '548' '549' '551' '552' '553' '555' '556' '557' '559' '560' '561' '563'\n",
      " '564' '565' '567' '568' '569' '570' '571' '572' '573' '575' '576' '577'\n",
      " '578' '579' '580' '581' '582' '583' '584' '585' '586' '587' '588' '589'\n",
      " '591' '592' '593' '594' '595' '596' '597' '598' '599' '600' '601' '603'\n",
      " '604' '605' '606' '607' '608' '609' '610' '611' '612' '613' '614' '615'\n",
      " '616' '617' '618' '619' '620' '621' '622' '623' '624' '625' '626' '627'\n",
      " '628' '629' '630' '631' '632' '633' '634' '635' '636' '637' '638' '639'\n",
      " '640' '641' '642' '643' '644' '645' '646' '647' '648' '649' '650' '651'\n",
      " '652' '653' '654' '655' '656' '657' '658' '659' '660' '661' '662' '663'\n",
      " '664' '665' '666' '667' '668' '669' '670' '671' '672' '673' '674' '675'\n",
      " '676' '677' '678' '679' '680' '681' '682' '683' '684' '685' '686' '687'\n",
      " '688' '689' '690' '691' '692' '693' '694' '695' '696' '697' '698' '699'\n",
      " '700' '701' '702' '703' '704' '705' '706' '707' '708' '709' '710' '711'\n",
      " '712' '713' '714' '715' '716' '717' '718' '719' '720' '721' '722' '723'\n",
      " '724' '725' '726' '727' '728' '729' '730' '731' '732' '733' '734' '735'\n",
      " '736' '737' '738' '739' '740' '741' '742' '743' '744' '745' '746' '747'\n",
      " '748' '749' '750' '751' '752' '753' '754' '755' '756' '757' '758' '759'\n",
      " '760' '761' '762' '763' '764' '765' '766' '767' '768' '769' '770' '771'\n",
      " '772' '773' '774' '775' '776' '777' '778' '779' '780' '781' '782' '783'\n",
      " '784' '785' '786' '787' '788' '789' '790' '791' '792' '793' '794' '795'\n",
      " '796' '797' '798' '799' '800' '801' '802' '803' '804' '805' '806' '807'\n",
      " '808' '809' '810' '811' '812' '813' '814' '815' '816' '817' '818' '819'\n",
      " '820' '821' '822' '823' '824' '825' '826' '827' '828' '829' '830' '831'\n",
      " '832' '833' '834' '835' '836' '837' '838' '839' '840' '841' '842' '843'\n",
      " '844' '845' '846' '847' '848' '849' '850' '851' '852' '853' '854' '855'\n",
      " '856' '857' '858' '859' '860' '861' '862' '863' '864' '865' '866' '867'\n",
      " '868' '869' '870' '871' '872' '873' '874' '875' '876' '877' '878' '879'\n",
      " '880' '881' '882' '883' '884' '885' '886' '887' '888' '889' '890' '891'\n",
      " '892' '893' '894' '895' '896' '897' '898' '899' '900' '901' '902' '903'\n",
      " '904' '905' '906' '907' '908' '909' '910' '911' '912' '913' '914' '915'\n",
      " '916' '917' '918' '919' '920' '921' '922' '923' '924' '925' '926' '927'\n",
      " '928' '929' '930' '931' '932' '933' '934' '935' '936' '937' '938' '939'\n",
      " '940' '941' '942' '943' '944' '945' '946' '947' '948' '949' '950' '951'\n",
      " '952' '953' '954' '955' '956' '957' '958' '959' '960' '961' '962' '963'\n",
      " '964' '965' '966' '967' '968' '969' '970' '971' '972' '973' '974' '975'\n",
      " '976' '977' '978' '979' '980' '981' '982' '983' '984' '985' '986' '987'\n",
      " '988' '989' '990' '991' '992' '993' '994' '995' '996' '997' '998' '999'\n",
      " '1000' '1001' '1002' '1003' '1004' '1005' '1006' '1007' '1008' '1009'\n",
      " '1010' '1011' '1012' '1013' '1014' '1015' '1016' '1017' '1018' '1019'\n",
      " '1020' '1021' '1022' '1023']\n",
      "{0: 0, 1: 1, 2: 2, 3: 3, 4: 4, 5: 5, 6: 6, 7: 7, 8: 8, 9: 9, 10: 10, 11: 11, 12: 12, 13: 13, 14: 14, 15: 15, 16: 16, 17: 17, 18: 18, 19: 19, 20: 20, 21: 21, 22: 22, 23: 23, 24: 24, 25: 25, 26: 26, 27: 27, 28: 28, 29: 29, 30: 30, 31: 31, 32: 32, 33: 33, 34: 34, 35: 35, 36: 36, 37: 37, 38: 38, 39: 39, 40: 40, 41: 41, 42: 42, 43: 43, 44: 44, 45: 45, 46: 46, 47: 47, 48: 48, 49: 49, 50: 50, 51: 51, 52: 52, 53: 53, 54: 54, 55: 55, 56: 56, 57: 57, 58: 58, 59: 59, 60: 60, 61: 61, 62: 62, 63: 63, 64: 64, 65: 65, 66: 66, 67: 67, 68: 68, 69: 69, 70: 70, 71: 71, 72: 72, 73: 73, 74: 74, 75: 75, 76: 76, 77: 77, 78: 78, 79: 79, 80: 80, 81: 81, 82: 82, 83: 83, 84: 84, 85: 85, 86: 86, 88: 87, 89: 88, 90: 89, 91: 90, 92: 91, 93: 92, 94: 93, 95: 94, 97: 95, 98: 96, 99: 97, 100: 98, 101: 99, 102: 100, 104: 101, 105: 102, 106: 103, 107: 104, 108: 105, 109: 106, 110: 107, 111: 108, 112: 109, 113: 110, 114: 111, 116: 112, 117: 113, 118: 114, 119: 115, 120: 116, 121: 117, 122: 118, 124: 119, 125: 120, 126: 121, 129: 122, 133: 123, 137: 124, 141: 125, 145: 126, 149: 127, 153: 128, 157: 129, 161: 130, 165: 131, 169: 132, 173: 133, 176: 134, 177: 135, 180: 136, 181: 137, 185: 138, 189: 139, 193: 140, 196: 141, 197: 142, 198: 143, 201: 144, 203: 145, 205: 146, 208: 147, 209: 148, 210: 149, 213: 150, 214: 151, 217: 152, 218: 153, 219: 154, 220: 155, 221: 156, 224: 157, 225: 158, 226: 159, 229: 160, 230: 161, 232: 162, 233: 163, 234: 164, 235: 165, 236: 166, 237: 167, 238: 168, 240: 169, 241: 170, 242: 171, 245: 172, 246: 173, 248: 174, 249: 175, 250: 176, 252: 177, 253: 178, 254: 179, 257: 180, 261: 181, 265: 182, 269: 183, 273: 184, 277: 185, 281: 186, 293: 187, 309: 188, 373: 189, 377: 190, 381: 191, 385: 192, 387: 193, 388: 194, 389: 195, 392: 196, 393: 197, 395: 198, 396: 199, 397: 200, 399: 201, 400: 202, 401: 203, 405: 204, 408: 205, 409: 206, 412: 207, 413: 208, 416: 209, 417: 210, 421: 211, 425: 212, 429: 213, 433: 214, 437: 215, 441: 216, 444: 217, 445: 218, 449: 219, 453: 220, 457: 221, 461: 222, 469: 223, 473: 224, 477: 225, 481: 226, 485: 227, 489: 228, 493: 229, 512: 230, 513: 231, 515: 232, 516: 233, 517: 234, 519: 235, 520: 236, 521: 237, 523: 238, 525: 239, 527: 240, 528: 241, 529: 242, 531: 243, 532: 244, 533: 245, 535: 246, 536: 247, 537: 248, 539: 249, 540: 250, 541: 251, 543: 252, 544: 253, 545: 254, 547: 255, 548: 256, 549: 257, 551: 258, 552: 259, 553: 260, 555: 261, 556: 262, 557: 263, 559: 264, 560: 265, 561: 266, 563: 267, 564: 268, 565: 269, 567: 270, 568: 271, 569: 272, 570: 273, 571: 274, 572: 275, 573: 276, 575: 277, 576: 278, 577: 279, 578: 280, 579: 281, 580: 282, 581: 283, 582: 284, 583: 285, 584: 286, 585: 287, 586: 288, 587: 289, 588: 290, 589: 291, 591: 292, 592: 293, 593: 294, 594: 295, 595: 296, 596: 297, 597: 298, 598: 299, 599: 300, 600: 301, 601: 302, 603: 303, 604: 304, 605: 305, 606: 306, 607: 307, 608: 308, 609: 309, 610: 310, 611: 311, 612: 312, 613: 313, 614: 314, 615: 315, 616: 316, 617: 317, 618: 318, 619: 319, 620: 320, 621: 321, 622: 322, 623: 323, 624: 324, 625: 325, 626: 326, 627: 327, 628: 328, 629: 329, 630: 330, 631: 331, 632: 332, 633: 333, 634: 334, 635: 335, 636: 336, 637: 337, 638: 338, 639: 339, 640: 340, 641: 341, 642: 342, 643: 343, 644: 344, 645: 345, 646: 346, 647: 347, 648: 348, 649: 349, 650: 350, 651: 351, 652: 352, 653: 353, 654: 354, 655: 355, 656: 356, 657: 357, 658: 358, 659: 359, 660: 360, 661: 361, 662: 362, 663: 363, 664: 364, 665: 365, 666: 366, 667: 367, 668: 368, 669: 369, 670: 370, 671: 371, 672: 372, 673: 373, 674: 374, 675: 375, 676: 376, 677: 377, 678: 378, 679: 379, 680: 380, 681: 381, 682: 382, 683: 383, 684: 384, 685: 385, 686: 386, 687: 387, 688: 388, 689: 389, 690: 390, 691: 391, 692: 392, 693: 393, 694: 394, 695: 395, 696: 396, 697: 397, 698: 398, 699: 399, 700: 400, 701: 401, 702: 402, 703: 403, 704: 404, 705: 405, 706: 406, 707: 407, 708: 408, 709: 409, 710: 410, 711: 411, 712: 412, 713: 413, 714: 414, 715: 415, 716: 416, 717: 417, 718: 418, 719: 419, 720: 420, 721: 421, 722: 422, 723: 423, 724: 424, 725: 425, 726: 426, 727: 427, 728: 428, 729: 429, 730: 430, 731: 431, 732: 432, 733: 433, 734: 434, 735: 435, 736: 436, 737: 437, 738: 438, 739: 439, 740: 440, 741: 441, 742: 442, 743: 443, 744: 444, 745: 445, 746: 446, 747: 447, 748: 448, 749: 449, 750: 450, 751: 451, 752: 452, 753: 453, 754: 454, 755: 455, 756: 456, 757: 457, 758: 458, 759: 459, 760: 460, 761: 461, 762: 462, 763: 463, 764: 464, 765: 465, 766: 466, 767: 467, 768: 468, 769: 469, 770: 470, 771: 471, 772: 472, 773: 473, 774: 474, 775: 475, 776: 476, 777: 477, 778: 478, 779: 479, 780: 480, 781: 481, 782: 482, 783: 483, 784: 484, 785: 485, 786: 486, 787: 487, 788: 488, 789: 489, 790: 490, 791: 491, 792: 492, 793: 493, 794: 494, 795: 495, 796: 496, 797: 497, 798: 498, 799: 499, 800: 500, 801: 501, 802: 502, 803: 503, 804: 504, 805: 505, 806: 506, 807: 507, 808: 508, 809: 509, 810: 510, 811: 511, 812: 512, 813: 513, 814: 514, 815: 515, 816: 516, 817: 517, 818: 518, 819: 519, 820: 520, 821: 521, 822: 522, 823: 523, 824: 524, 825: 525, 826: 526, 827: 527, 828: 528, 829: 529, 830: 530, 831: 531, 832: 532, 833: 533, 834: 534, 835: 535, 836: 536, 837: 537, 838: 538, 839: 539, 840: 540, 841: 541, 842: 542, 843: 543, 844: 544, 845: 545, 846: 546, 847: 547, 848: 548, 849: 549, 850: 550, 851: 551, 852: 552, 853: 553, 854: 554, 855: 555, 856: 556, 857: 557, 858: 558, 859: 559, 860: 560, 861: 561, 862: 562, 863: 563, 864: 564, 865: 565, 866: 566, 867: 567, 868: 568, 869: 569, 870: 570, 871: 571, 872: 572, 873: 573, 874: 574, 875: 575, 876: 576, 877: 577, 878: 578, 879: 579, 880: 580, 881: 581, 882: 582, 883: 583, 884: 584, 885: 585, 886: 586, 887: 587, 888: 588, 889: 589, 890: 590, 891: 591, 892: 592, 893: 593, 894: 594, 895: 595, 896: 596, 897: 597, 898: 598, 899: 599, 900: 600, 901: 601, 902: 602, 903: 603, 904: 604, 905: 605, 906: 606, 907: 607, 908: 608, 909: 609, 910: 610, 911: 611, 912: 612, 913: 613, 914: 614, 915: 615, 916: 616, 917: 617, 918: 618, 919: 619, 920: 620, 921: 621, 922: 622, 923: 623, 924: 624, 925: 625, 926: 626, 927: 627, 928: 628, 929: 629, 930: 630, 931: 631, 932: 632, 933: 633, 934: 634, 935: 635, 936: 636, 937: 637, 938: 638, 939: 639, 940: 640, 941: 641, 942: 642, 943: 643, 944: 644, 945: 645, 946: 646, 947: 647, 948: 648, 949: 649, 950: 650, 951: 651, 952: 652, 953: 653, 954: 654, 955: 655, 956: 656, 957: 657, 958: 658, 959: 659, 960: 660, 961: 661, 962: 662, 963: 663, 964: 664, 965: 665, 966: 666, 967: 667, 968: 668, 969: 669, 970: 670, 971: 671, 972: 672, 973: 673, 974: 674, 975: 675, 976: 676, 977: 677, 978: 678, 979: 679, 980: 680, 981: 681, 982: 682, 983: 683, 984: 684, 985: 685, 986: 686, 987: 687, 988: 688, 989: 689, 990: 690, 991: 691, 992: 692, 993: 693, 994: 694, 995: 695, 996: 696, 997: 697, 998: 698, 999: 699, 1000: 700, 1001: 701, 1002: 702, 1003: 703, 1004: 704, 1005: 705, 1006: 706, 1007: 707, 1008: 708, 1009: 709, 1010: 710, 1011: 711, 1012: 712, 1013: 713, 1014: 714, 1015: 715, 1016: 716, 1017: 717, 1018: 718, 1019: 719, 1020: 720, 1021: 721, 1022: 722, 1023: 723}\n"
     ]
    }
   ],
   "source": [
    "sorting_KS3 = ss.Kilosort3Sorter._get_result_from_folder('/home/mmpatil/Documents/spikesorting/MEA_Analysis/Python/kilosort3_4min_17march_block/sorter_output/')\n",
    "total_units = sorting_KS3.get_unit_ids()\n",
    "print(total_units)\n",
    "print(len(total_units))\n",
    "channel_ids = recording_chunk.get_channel_ids()\n",
    "print(channel_ids)\n",
    "channel_association_dict = {int(y):x for x,y in enumerate(channel_ids) }\n",
    "print(channel_association_dict)"
   ]
  },
  {
   "cell_type": "code",
   "execution_count": 5,
   "metadata": {},
   "outputs": [
    {
     "name": "stdout",
     "output_type": "stream",
     "text": [
      "inside get_reader\n",
      "Inside NeoBaseExtractor\n",
      "WaveformExtractor: 724 channels - 53 units - 1 segments\n",
      "  before:20 after:40 n_per_units:500\n"
     ]
    },
    {
     "name": "stderr",
     "output_type": "stream",
     "text": [
      "/tmp/ipykernel_2569225/933568948.py:3: DeprecationWarning: load_if_exists=True/false is deprcated. Use load_waveforms() instead.\n",
      "  waveforms = si.extract_waveforms(recording_chunk,sorting_KS3,folder='./waveforms4min',load_if_exists=True)\n"
     ]
    }
   ],
   "source": [
    "job_kwargs = dict(n_jobs=64, chunk_duration=\"1s\", progress_bar=True)\n",
    "#waveforms = si.extract_waveforms(recording_chunk,sorting_KS3,folder=\"./waveforms4min\",overwrite=True, ms_before=1., ms_after=2.,**job_kwargs)\n",
    "waveforms = si.extract_waveforms(recording_chunk,sorting_KS3,folder='./waveforms4min',load_if_exists=True)\n",
    "print(waveforms)"
   ]
  },
  {
   "cell_type": "code",
   "execution_count": null,
   "metadata": {},
   "outputs": [],
   "source": [
    "pc = sp.compute_principal_components(waveforms, n_components = 3,**job_kwargs)"
   ]
  },
  {
   "cell_type": "code",
   "execution_count": null,
   "metadata": {},
   "outputs": [],
   "source": [
    "#projections = pc.get_projections(unit_id=1)"
   ]
  },
  {
   "cell_type": "code",
   "execution_count": 6,
   "metadata": {},
   "outputs": [
    {
     "name": "stdout",
     "output_type": "stream",
     "text": [
      "[[ 0.         0.         0.        ...  0.         6.2942505  0.       ]\n",
      " [ 0.         0.         0.        ...  0.         0.         0.       ]\n",
      " [ 6.2942505 -6.2942505  0.        ...  0.         0.         0.       ]\n",
      " ...\n",
      " [ 0.         0.        -6.2942505 ... -6.2942505  0.         0.       ]\n",
      " [-6.2942505  0.         0.        ... -6.2942505  0.        -6.2942505]\n",
      " [ 0.         0.         0.        ...  0.         0.        -6.2942505]]\n"
     ]
    },
    {
     "name": "stderr",
     "output_type": "stream",
     "text": [
      "/home/mmpatil/.local/lib/python3.10/site-packages/spikeinterface/qualitymetrics/misc_metrics.py:514: UserWarning: Units [0, 3, 4, 5, 6, 12, 15, 16, 22, 27, 30, 33, 42, 43, 47, 49, 50, 51, 66, 68, 69, 74, 77, 78, 87, 89, 92, 95, 98, 102, 103, 104, 106, 108] have too few spikes and amplitude_cutoff is set to NaN\n",
      "  warnings.warn(f\"Units {nan_units} have too few spikes and \"\n"
     ]
    },
    {
     "data": {
      "application/vnd.jupyter.widget-view+json": {
       "model_id": "9178008335f14743b261c569a64f7d9e",
       "version_major": 2,
       "version_minor": 0
      },
      "text/plain": [
       "Computing PCA metrics:   0%|          | 0/53 [00:00<?, ?it/s]"
      ]
     },
     "metadata": {},
     "output_type": "display_data"
    },
    {
     "ename": "",
     "evalue": "",
     "output_type": "error",
     "traceback": [
      "\u001b[1;31mCanceled future for execute_request message before replies were done"
     ]
    },
    {
     "ename": "",
     "evalue": "",
     "output_type": "error",
     "traceback": [
      "\u001b[1;31mThe Kernel crashed while executing code in the the current cell or a previous cell. Please review the code in the cell(s) to identify a possible cause of the failure. Click <a href='https://aka.ms/vscodeJupyterKernelCrash'>here</a> for more info. View Jupyter <a href='command:jupyter.viewOutput'>log</a> for further details."
     ]
    }
   ],
   "source": [
    "import spikeinterface.qualitymetrics as qm\n",
    "\n",
    "metrics = qm.compute_quality_metrics(waveforms,**job_kwargs)"
   ]
  },
  {
   "cell_type": "code",
   "execution_count": null,
   "metadata": {},
   "outputs": [],
   "source": [
    "display(metrics)"
   ]
  },
  {
   "cell_type": "code",
   "execution_count": null,
   "metadata": {},
   "outputs": [],
   "source": [
    "extremum_channels_ids =spikeinterface.full.get_template_extremum_channel(waveforms, peak_sign='neg')\n",
    "print(extremum_channels_ids)"
   ]
  },
  {
   "cell_type": "code",
   "execution_count": null,
   "metadata": {},
   "outputs": [],
   "source": [
    "unique_channels = list(set([x for x in extremum_channels_ids.values()])) \n",
    "print(unique_channels)"
   ]
  },
  {
   "cell_type": "code",
   "execution_count": null,
   "metadata": {},
   "outputs": [],
   "source": [
    "\n",
    "\n",
    "print(helper.get_key_by_value(extremum_channels_ids,'914'))"
   ]
  },
  {
   "cell_type": "code",
   "execution_count": null,
   "metadata": {},
   "outputs": [],
   "source": [
    "\n",
    "isi_violations_ratio, isi_violations_count = qm.compute_isi_violations(waveforms, isi_threshold_ms=1.0)\n",
    "print(isi_violations_ratio)\n",
    "print(isi_violations_count)\n",
    "\n",
    "rp_contamination,rp_violation = qm.compute_refrac_period_violations(waveforms)\n",
    "print(rp_contamination)\n",
    "print(rp_violation)\n",
    "\n",
    "snr_ratio = qm.compute_snrs(waveforms,peak_sign=\"both\", peak_mode='at_index')\n",
    "print(snr_ratio)\n",
    "\n",
    "firing_rate = qm.compute_firing_rates(waveforms)\n",
    "print(firing_rate)"
   ]
  },
  {
   "cell_type": "code",
   "execution_count": null,
   "metadata": {},
   "outputs": [],
   "source": [
    "import helper_functions as helper\n",
    "\n",
    "\n",
    "filename = 'Extremechannels_4min.json'\n",
    "helper.dumpdicttofile(extremum_channels_ids,filename)\n"
   ]
  },
  {
   "cell_type": "code",
   "execution_count": null,
   "metadata": {},
   "outputs": [],
   "source": [
    "violated_units = [unit for unit, ratio in isi_violations_ratio.items() if ratio > 0.0]\n",
    "print(violated_units)\n",
    "print(f\"isi violated units:{len(violated_units)}\")\n",
    "\n",
    "refrct_violated_units = [unit for unit,ratio in rp_contamination.items() if ratio >0.0]\n",
    "print(refrct_violated_units)\n",
    "print(f\"refract vio units:{len(refrct_violated_units)}\")"
   ]
  },
  {
   "cell_type": "code",
   "execution_count": null,
   "metadata": {},
   "outputs": [],
   "source": [
    "print(sorting_KS3)\n",
    "\n",
    "clean_sorting = sorting_KS3.remove_units(refrct_violated_units)\n",
    "print(clean_sorting)\n",
    "good_units = [units for units in total_units if units not in refrct_violated_units ]\n",
    "print(good_units)\n",
    "\n",
    "#now getting the wavefrom extractor\n",
    "\n",
    "waveform_good = waveforms.select_units(good_units,new_folder='waveforms_good_100elec')\n",
    "print(waveform_good)"
   ]
  },
  {
   "cell_type": "code",
   "execution_count": null,
   "metadata": {},
   "outputs": [],
   "source": [
    "%matplotlib widget"
   ]
  },
  {
   "cell_type": "code",
   "execution_count": null,
   "metadata": {},
   "outputs": [],
   "source": [
    "import spikeinterface.postprocessing as sp\n",
    "\n",
    "locations = sp.compute_unit_locations(waveforms)\n",
    "print(locations)\n",
    "import numpy as np\n",
    "#np.savetxt(\"unitloc_10mins.txt\",locations)\n",
    "ax = plt.subplot(111)\n",
    "sw.plot_probe_map(recording,ax=ax,with_channel_ids=True)\n",
    "for x,y in locations:\n",
    "    ax.scatter(x,y)\n"
   ]
  },
  {
   "cell_type": "code",
   "execution_count": null,
   "metadata": {},
   "outputs": [],
   "source": [
    "channel_locations = recording_chunk.get_channel_locations()\n",
    "channel_ids = recording_chunk.get_channel_ids()\n",
    "channel_locations_mappings= {channel_id: location for location, channel_id in zip(channel_locations, channel_ids)}\n",
    "print(channel_locations_mappings)\n",
    "\n"
   ]
  },
  {
   "cell_type": "code",
   "execution_count": null,
   "metadata": {},
   "outputs": [],
   "source": [
    "#thinking the unique locations have all the required electrodes.\n",
    "\n",
    "required_electrodes= {channels :[int(locations[0]/17.5),int(locations[1]/17.5)] for channels, locations in channel_locations_mappings.items() if channels in unique_channels }\n",
    "print(required_electrodes)"
   ]
  },
  {
   "cell_type": "code",
   "execution_count": null,
   "metadata": {},
   "outputs": [],
   "source": [
    "import json\n",
    "\n",
    "with open('electrode_locations_4min.json','w') as fileptr:\n",
    "    json.dump(required_electrodes,fileptr)\n",
    "\n"
   ]
  },
  {
   "cell_type": "code",
   "execution_count": null,
   "metadata": {},
   "outputs": [],
   "source": [
    "with open('electrode_locations_4min.json',) as fileptr:\n",
    "    data = json.load(fileptr)\n",
    "print(data)"
   ]
  },
  {
   "cell_type": "code",
   "execution_count": null,
   "metadata": {},
   "outputs": [],
   "source": [
    "selected_electrodes = [220 * locations[1] + locations[0] for locations in data.values()]\n",
    "print(selected_electrodes)"
   ]
  },
  {
   "cell_type": "code",
   "execution_count": null,
   "metadata": {},
   "outputs": [],
   "source": [
    "val = recording_chunk.get_electrode_info\n",
    "print(val)"
   ]
  },
  {
   "cell_type": "code",
   "execution_count": null,
   "metadata": {},
   "outputs": [],
   "source": [
    "def electrode_rectangle_indices(xmin, ymin, xmax, ymax):\n",
    "    return [220 * y + x for y in range(max(ymin, 0), min(ymax + 1, 120)) for x in range(max(xmin, 0), min(xmax + 1, 220))]\n",
    "\n",
    "\n",
    "def electrode_rectangle_um(xmin, ymin, xmax, ymax):\n",
    "    return electrode_rectangle_indices(int(xmin / 17.5), int(ymin / 17.5), int(xmax / 17.5), int(ymax / 17.5))\n",
    "\n",
    "XMULTIPLIER = 44\n",
    "YMULTIPLIER = 20\n",
    "\n",
    "for y in range(6):\n",
    "    for x in range(5):\n",
    "        #print(\"(\",XMULTIPLIER*x,YMULTIPLIER*y,XMULTIPLIER*x+XMULTIPLIER-1,YMULTIPLIER*y+YMULTIPLIER-1,\")\")\n",
    "        print(electrode_rectangle_indices(XMULTIPLIER*x,YMULTIPLIER*y,XMULTIPLIER*x+XMULTIPLIER-1,YMULTIPLIER*y+YMULTIPLIER-1))\n",
    "\n",
    "# print(electrode_rectangle_indices(218,0,219,1))"
   ]
  },
  {
   "cell_type": "code",
   "execution_count": null,
   "metadata": {},
   "outputs": [],
   "source": [
    "import datetime as datetime\n",
    "\n",
    "now = datetime.datetime.now()\n",
    "strfmt = now.strftime(\"%Y%m%d_%H_%M_%S\")\n",
    "print(strfmt)"
   ]
  },
  {
   "cell_type": "code",
   "execution_count": null,
   "metadata": {},
   "outputs": [],
   "source": [
    "import maxlab.saving\n",
    "\n",
    "obj = maxlab.saving.Saving()\n",
    "\n",
    "obj.start()"
   ]
  },
  {
   "cell_type": "code",
   "execution_count": null,
   "metadata": {},
   "outputs": [],
   "source": [
    "fig, ax1 = plt.subplots(figsize=(15,5))\n",
    "spike_times = {}\n",
    "for idx, unit_id in enumerate(clean_sorting.get_unit_ids()):\n",
    "    spike_train = clean_sorting.get_unit_spike_train(unit_id,start_frame=1*fs,end_frame=100*fs)\n",
    "    print(spike_train)\n",
    "    if len(spike_train) > 0:\n",
    "        spike_times[idx] = spike_train / float(fs)\n",
    "        #print(spike_times[unit_id])\n",
    "       # print(unit_id*np.ones_like(spike_times[unit_id]))\n",
    "        ax1.plot(spike_times[idx],idx*np.ones_like(spike_times[idx]),\n",
    "                             marker='|', mew=1, markersize=3,\n",
    "                             ls='',color='black')\n",
    "                       "
   ]
  },
  {
   "cell_type": "code",
   "execution_count": null,
   "metadata": {},
   "outputs": [],
   "source": [
    "t_start = 0 \n",
    "t_end = int(600*fs)\n",
    "dt = 1\n",
    "#initialising the spike train.\n",
    "units= clean_sorting.get_num_units()\n",
    "frame_numbers = t_end\n",
    "spike_array = np.zeros((units,frame_numbers), dtype= int)\n",
    "for idx, unit_id in enumerate(clean_sorting.get_unit_ids()):\n",
    "    spike_train = clean_sorting.get_unit_spike_train(unit_id,start_frame=t_start,end_frame=t_end)\n",
    "    for spike_time in spike_train:\n",
    "        spike_array[idx,spike_time] = 1\n",
    "\n",
    "print(spike_array)\n",
    "\n",
    "print(spike_array[0,63782])"
   ]
  },
  {
   "cell_type": "code",
   "execution_count": null,
   "metadata": {},
   "outputs": [],
   "source": [
    "np.savez_compressed('spike_array_compressed_blockactivity.npz',spike_array)"
   ]
  },
  {
   "cell_type": "code",
   "execution_count": null,
   "metadata": {},
   "outputs": [],
   "source": [
    "with np.load('spike_array_compressed_blockactivity.npz') as data:\n",
    "    decompressed_data = data['arr_0']\n",
    "\n",
    "print(np.array_equal(spike_array, decompressed_data))\n"
   ]
  },
  {
   "cell_type": "code",
   "execution_count": null,
   "metadata": {},
   "outputs": [],
   "source": [
    "extremum_channels_ids =spikeinterface.full.get_template_extremum_channel(waveforms, peak_sign='neg')\n",
    "print(extremum_channels_ids)\n",
    "\n"
   ]
  },
  {
   "cell_type": "code",
   "execution_count": null,
   "metadata": {},
   "outputs": [],
   "source": [
    "colors = [ 'Lime','Gold', 'Orange','Orangered']\n",
    "fig, ax = plt.subplots()\n",
    "wf=[]\n",
    "for i, unit_id in enumerate([34, 49]):\n",
    "    wf = waveforms.get_waveforms(unit_id)\n",
    "    color = colors[i]\n",
    "    ax.plot(wf[:, :,channel_association_dict[594]].T, color=color, lw=0.3)\n",
    "print(wf.shape)"
   ]
  },
  {
   "cell_type": "code",
   "execution_count": null,
   "metadata": {},
   "outputs": [],
   "source": [
    "colors = [ 'Fuchsia','Olive', 'Teal']\n",
    "fig, ax = plt.subplots()\n",
    "wf=[]\n",
    "for i, unit_id in enumerate([218]):\n",
    "    wf = waveform_good.get_waveforms(unit_id)\n",
    "    ax.plot(wf[:, :,channel_association_dict[902]].T, color=colors[0], lw=0.3)\n",
    "    ax.plot(wf[:, :,channel_association_dict[613]].T, color=colors[1], lw=0.3)\n",
    "    ax.plot(wf[:, :,channel_association_dict[663]].T, color=colors[2], lw=0.3)\n",
    "print(wf.shape)"
   ]
  },
  {
   "cell_type": "code",
   "execution_count": null,
   "metadata": {},
   "outputs": [],
   "source": [
    "peak_shift=si.get_template_extremum_channel_peak_shift(waveform_good)\n",
    "\n",
    "print(peak_shift)"
   ]
  },
  {
   "cell_type": "code",
   "execution_count": null,
   "metadata": {},
   "outputs": [],
   "source": [
    "colors = [ 'Fuchsia','Olive', 'Teal']\n",
    "fig, ax = plt.subplots()\n",
    "for i, unit_id in enumerate([26, 40 , 46]):\n",
    "    template = waveforms.get_template(unit_id)\n",
    "    color = colors[i]\n",
    "    ax.plot(template[:, channel_association_dict[780]].T, color=color, lw=3)\n",
    "print(template.shape)"
   ]
  },
  {
   "cell_type": "code",
   "execution_count": null,
   "metadata": {},
   "outputs": [],
   "source": [
    "w = sw.plot_unit_templates(waveform_good, unit_ids=[183],plot_channels=False )"
   ]
  },
  {
   "cell_type": "code",
   "execution_count": null,
   "metadata": {},
   "outputs": [],
   "source": [
    "w = sw.plot_unit_waveforms(waveform_good, unit_ids=[2,4,7])\n",
    "w = sw.plot_unit_templates(waveform_good, unit_ids=[2,4,7])\n",
    "w = sw.plot_unit_probe_map(waveform_good, unit_ids=[2,4,7])"
   ]
  }
 ],
 "metadata": {
  "kernelspec": {
   "display_name": "Python 3",
   "language": "python",
   "name": "python3"
  },
  "language_info": {
   "codemirror_mode": {
    "name": "ipython",
    "version": 3
   },
   "file_extension": ".py",
   "mimetype": "text/x-python",
   "name": "python",
   "nbconvert_exporter": "python",
   "pygments_lexer": "ipython3",
   "version": "3.10.6"
  },
  "orig_nbformat": 4,
  "vscode": {
   "interpreter": {
    "hash": "916dbcbb3f70747c44a77c7bcd40155683ae19c65e1c03b4aa3499c5328201f1"
   }
  }
 },
 "nbformat": 4,
 "nbformat_minor": 2
}
