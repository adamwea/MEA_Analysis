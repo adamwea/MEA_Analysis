{
 "cells": [
  {
   "cell_type": "code",
   "execution_count": 1,
   "metadata": {},
   "outputs": [],
   "source": [
    "import numpy as np\n",
    "import matplotlib.pyplot as plt\n",
    "from tsmoothie.smoother import GaussianSmoother\n",
    "import spikeinterface\n",
    "import spikeinterface.full as si\n",
    "import spikeinterface.extractors as se\n",
    "import spikeinterface.sorters as ss\n",
    "import spikeinterface.comparison as sc\n",
    "import spikeinterface.widgets as sw\n",
    "import spikeinterface.postprocessing as sp\n",
    "import spikeinterface.preprocessing as spre\n",
    "import spikeinterface.qualitymetrics as qm\n",
    "import helper_functions as helper"
   ]
  },
  {
   "cell_type": "code",
   "execution_count": 2,
   "metadata": {},
   "outputs": [
    {
     "name": "stdout",
     "output_type": "stream",
     "text": [
      "<probeinterface.probegroup.ProbeGroup object at 0x7fcc685c6800>\n",
      "Sampling frequency: 20000.0\n",
      "Number of channels: 724\n",
      "Number of segments: 1\n",
      "total_recording: 690.19 s\n",
      "chunk duration: 300.0 s\n"
     ]
    }
   ],
   "source": [
    "local_path= '/mnt/disk15tb/mmpatil/Spikesorting/Data/mandar_div18/Trace_20230410_16_04_40.raw.h5' \n",
    "\n",
    "recording2 = se.read_maxwell(local_path)\n",
    "#recording = si.ConcatenateSegmentRecording([recording1,recording2])\n",
    "channel_ids = recording2.get_channel_ids()\n",
    "fs = recording2.get_sampling_frequency()\n",
    "num_chan = recording2.get_num_channels()\n",
    "num_seg = recording2.get_num_segments()\n",
    "total_recording = recording2.get_total_duration()\n",
    "res = recording2.get_probegroup()\n",
    "print(res)\n",
    "\n",
    "#print('Channel ids:', channel_ids)\n",
    "print('Sampling frequency:', fs)\n",
    "print('Number of channels:', num_chan)\n",
    "print('Number of segments:', num_seg)\n",
    "print(f\"total_recording: {total_recording} s\")\n",
    "\n",
    "recording_bp = spre.bandpass_filter(recording2, freq_min=300, freq_max=6000)\n",
    "\n",
    "recodring_cmr = spre.common_reference(recording_bp, reference='global', operator='median')\n",
    "recording_chunk = recodring_cmr.frame_slice(start_frame= 10*fs,end_frame=310*fs)\n",
    "print(f\"chunk duration: {recording_chunk.get_total_duration()} s\")"
   ]
  },
  {
   "cell_type": "code",
   "execution_count": 3,
   "metadata": {},
   "outputs": [
    {
     "name": "stdout",
     "output_type": "stream",
     "text": [
      "{'detect_threshold': 24, 'projection_threshold': [30, 30], 'preclust_threshold': 26, 'car': True, 'minFR': 0.2, 'minfr_goodchannels': 0.2, 'nblocks': 5, 'sig': 20, 'freq_min': 300, 'sigmaMask': 30, 'nPCs': 3, 'ntbuff': 64, 'nfilt_factor': 4, 'do_correction': True, 'NT': None, 'wave_length': 61, 'keep_good_only': True, 'n_jobs': 48, 'chunk_duration': '1s', 'progress_bar': True}\n",
      "Starting container\n"
     ]
    },
    {
     "ename": "APIError",
     "evalue": "500 Server Error for http+docker://localhost/v1.43/containers/37ef029cb51496236c4862eaa27df20d0e8110f31ab62cf5fdfeab75861eb0a1/start: Internal Server Error (\"could not select device driver \"\" with capabilities: [[gpu]]\")",
     "output_type": "error",
     "traceback": [
      "\u001b[0;31m---------------------------------------------------------------------------\u001b[0m",
      "\u001b[0;31mHTTPError\u001b[0m                                 Traceback (most recent call last)",
      "File \u001b[0;32m/usr/lib/python3/dist-packages/docker/api/client.py:268\u001b[0m, in \u001b[0;36mAPIClient._raise_for_status\u001b[0;34m(self, response)\u001b[0m\n\u001b[1;32m    267\u001b[0m \u001b[38;5;28;01mtry\u001b[39;00m:\n\u001b[0;32m--> 268\u001b[0m     \u001b[43mresponse\u001b[49m\u001b[38;5;241;43m.\u001b[39;49m\u001b[43mraise_for_status\u001b[49m\u001b[43m(\u001b[49m\u001b[43m)\u001b[49m\n\u001b[1;32m    269\u001b[0m \u001b[38;5;28;01mexcept\u001b[39;00m requests\u001b[38;5;241m.\u001b[39mexceptions\u001b[38;5;241m.\u001b[39mHTTPError \u001b[38;5;28;01mas\u001b[39;00m e:\n",
      "File \u001b[0;32m/usr/lib/python3/dist-packages/requests/models.py:943\u001b[0m, in \u001b[0;36mResponse.raise_for_status\u001b[0;34m(self)\u001b[0m\n\u001b[1;32m    942\u001b[0m \u001b[38;5;28;01mif\u001b[39;00m http_error_msg:\n\u001b[0;32m--> 943\u001b[0m     \u001b[38;5;28;01mraise\u001b[39;00m HTTPError(http_error_msg, response\u001b[38;5;241m=\u001b[39m\u001b[38;5;28mself\u001b[39m)\n",
      "\u001b[0;31mHTTPError\u001b[0m: 500 Server Error: Internal Server Error for url: http+docker://localhost/v1.43/containers/37ef029cb51496236c4862eaa27df20d0e8110f31ab62cf5fdfeab75861eb0a1/start",
      "\nDuring handling of the above exception, another exception occurred:\n",
      "\u001b[0;31mAPIError\u001b[0m                                  Traceback (most recent call last)",
      "Cell \u001b[0;32mIn[3], line 7\u001b[0m\n\u001b[1;32m      5\u001b[0m default_KS3_params[\u001b[38;5;124m'\u001b[39m\u001b[38;5;124mpreclust_threshold\u001b[39m\u001b[38;5;124m'\u001b[39m] \u001b[38;5;241m=\u001b[39m \u001b[38;5;241m26\u001b[39m\n\u001b[1;32m      6\u001b[0m \u001b[38;5;28mprint\u001b[39m(default_KS3_params)\n\u001b[0;32m----> 7\u001b[0m run_sorter \u001b[38;5;241m=\u001b[39m \u001b[43mss\u001b[49m\u001b[38;5;241;43m.\u001b[39;49m\u001b[43mrun_kilosort3\u001b[49m\u001b[43m(\u001b[49m\u001b[43mrecording_chunk\u001b[49m\u001b[43m,\u001b[49m\u001b[43m \u001b[49m\u001b[43moutput_folder\u001b[49m\u001b[38;5;241;43m=\u001b[39;49m\u001b[38;5;124;43m\"\u001b[39;49m\u001b[38;5;124;43m/mnt/disk15tb/mmpatil/Spikesorting/sorter_output/kilosort_22May/kilosort3_block2_5min\u001b[39;49m\u001b[38;5;124;43m\"\u001b[39;49m\u001b[43m,\u001b[49m\u001b[43m \u001b[49m\u001b[43mdocker_image\u001b[49m\u001b[38;5;241;43m=\u001b[39;49m\u001b[43m \u001b[49m\u001b[38;5;124;43m\"\u001b[39;49m\u001b[38;5;124;43mkilosort3-maxwellcomplib:latest\u001b[39;49m\u001b[38;5;124;43m\"\u001b[39;49m\u001b[43m,\u001b[49m\u001b[43mverbose\u001b[49m\u001b[38;5;241;43m=\u001b[39;49m\u001b[38;5;28;43;01mTrue\u001b[39;49;00m\u001b[43m,\u001b[49m\u001b[43m \u001b[49m\u001b[38;5;241;43m*\u001b[39;49m\u001b[38;5;241;43m*\u001b[39;49m\u001b[43mdefault_KS3_params\u001b[49m\u001b[43m)\u001b[49m\n",
      "File \u001b[0;32m~/.local/lib/python3.10/site-packages/spikeinterface/sorters/runsorter.py:696\u001b[0m, in \u001b[0;36mrun_kilosort3\u001b[0;34m(*args, **kwargs)\u001b[0m\n\u001b[1;32m    695\u001b[0m \u001b[38;5;28;01mdef\u001b[39;00m \u001b[38;5;21mrun_kilosort3\u001b[39m(\u001b[38;5;241m*\u001b[39margs, \u001b[38;5;241m*\u001b[39m\u001b[38;5;241m*\u001b[39mkwargs):\n\u001b[0;32m--> 696\u001b[0m     \u001b[38;5;28;01mreturn\u001b[39;00m \u001b[43mrun_sorter\u001b[49m\u001b[43m(\u001b[49m\u001b[38;5;124;43m'\u001b[39;49m\u001b[38;5;124;43mkilosort3\u001b[39;49m\u001b[38;5;124;43m'\u001b[39;49m\u001b[43m,\u001b[49m\u001b[43m \u001b[49m\u001b[38;5;241;43m*\u001b[39;49m\u001b[43margs\u001b[49m\u001b[43m,\u001b[49m\u001b[43m \u001b[49m\u001b[38;5;241;43m*\u001b[39;49m\u001b[38;5;241;43m*\u001b[39;49m\u001b[43mkwargs\u001b[49m\u001b[43m)\u001b[49m\n",
      "File \u001b[0;32m~/.local/lib/python3.10/site-packages/spikeinterface/sorters/runsorter.py:137\u001b[0m, in \u001b[0;36mrun_sorter\u001b[0;34m(sorter_name, recording, output_folder, remove_existing_folder, delete_output_folder, verbose, raise_error, docker_image, singularity_image, with_output, **sorter_params)\u001b[0m\n\u001b[1;32m    135\u001b[0m         \u001b[38;5;28;01melse\u001b[39;00m:\n\u001b[1;32m    136\u001b[0m             container_image \u001b[38;5;241m=\u001b[39m singularity_image\n\u001b[0;32m--> 137\u001b[0m     \u001b[38;5;28;01mreturn\u001b[39;00m \u001b[43mrun_sorter_container\u001b[49m\u001b[43m(\u001b[49m\n\u001b[1;32m    138\u001b[0m \u001b[43m        \u001b[49m\u001b[43mcontainer_image\u001b[49m\u001b[38;5;241;43m=\u001b[39;49m\u001b[43mcontainer_image\u001b[49m\u001b[43m,\u001b[49m\n\u001b[1;32m    139\u001b[0m \u001b[43m        \u001b[49m\u001b[43mmode\u001b[49m\u001b[38;5;241;43m=\u001b[39;49m\u001b[43mmode\u001b[49m\u001b[43m,\u001b[49m\n\u001b[1;32m    140\u001b[0m \u001b[43m        \u001b[49m\u001b[38;5;241;43m*\u001b[39;49m\u001b[38;5;241;43m*\u001b[39;49m\u001b[43mcommon_kwargs\u001b[49m\u001b[43m,\u001b[49m\n\u001b[1;32m    141\u001b[0m \u001b[43m    \u001b[49m\u001b[43m)\u001b[49m\n\u001b[1;32m    143\u001b[0m \u001b[38;5;28;01mreturn\u001b[39;00m run_sorter_local(\u001b[38;5;241m*\u001b[39m\u001b[38;5;241m*\u001b[39mcommon_kwargs)\n",
      "File \u001b[0;32m~/.local/lib/python3.10/site-packages/spikeinterface/sorters/runsorter.py:478\u001b[0m, in \u001b[0;36mrun_sorter_container\u001b[0;34m(sorter_name, recording, mode, container_image, output_folder, remove_existing_folder, delete_output_folder, verbose, raise_error, with_output, extra_requirements, **sorter_params)\u001b[0m\n\u001b[1;32m    476\u001b[0m \u001b[38;5;28;01mif\u001b[39;00m verbose:\n\u001b[1;32m    477\u001b[0m     \u001b[38;5;28mprint\u001b[39m(\u001b[38;5;124m'\u001b[39m\u001b[38;5;124mStarting container\u001b[39m\u001b[38;5;124m'\u001b[39m)\n\u001b[0;32m--> 478\u001b[0m \u001b[43mcontainer_client\u001b[49m\u001b[38;5;241;43m.\u001b[39;49m\u001b[43mstart\u001b[49m\u001b[43m(\u001b[49m\u001b[43m)\u001b[49m\n\u001b[1;32m    480\u001b[0m \u001b[38;5;28;01mif\u001b[39;00m verbose \u001b[38;5;129;01mand\u001b[39;00m install_si_from_source:\n\u001b[1;32m    481\u001b[0m     \u001b[38;5;28mprint\u001b[39m(\u001b[38;5;124m\"\u001b[39m\u001b[38;5;124m******\u001b[39m\u001b[38;5;124m\"\u001b[39m)\n",
      "File \u001b[0;32m~/.local/lib/python3.10/site-packages/spikeinterface/sorters/runsorter.py:305\u001b[0m, in \u001b[0;36mContainerClient.start\u001b[0;34m(self)\u001b[0m\n\u001b[1;32m    303\u001b[0m \u001b[38;5;28;01mdef\u001b[39;00m \u001b[38;5;21mstart\u001b[39m(\u001b[38;5;28mself\u001b[39m):\n\u001b[1;32m    304\u001b[0m     \u001b[38;5;28;01mif\u001b[39;00m \u001b[38;5;28mself\u001b[39m\u001b[38;5;241m.\u001b[39mmode \u001b[38;5;241m==\u001b[39m \u001b[38;5;124m'\u001b[39m\u001b[38;5;124mdocker\u001b[39m\u001b[38;5;124m'\u001b[39m:\n\u001b[0;32m--> 305\u001b[0m         \u001b[38;5;28;43mself\u001b[39;49m\u001b[38;5;241;43m.\u001b[39;49m\u001b[43mdocker_container\u001b[49m\u001b[38;5;241;43m.\u001b[39;49m\u001b[43mstart\u001b[49m\u001b[43m(\u001b[49m\u001b[43m)\u001b[49m\n\u001b[1;32m    306\u001b[0m     \u001b[38;5;28;01melif\u001b[39;00m \u001b[38;5;28mself\u001b[39m\u001b[38;5;241m.\u001b[39mmode \u001b[38;5;241m==\u001b[39m \u001b[38;5;124m'\u001b[39m\u001b[38;5;124msingularity\u001b[39m\u001b[38;5;124m'\u001b[39m:\n\u001b[1;32m    307\u001b[0m         \u001b[38;5;28mself\u001b[39m\u001b[38;5;241m.\u001b[39mclient_instance\u001b[38;5;241m.\u001b[39mstart()\n",
      "File \u001b[0;32m/usr/lib/python3/dist-packages/docker/models/containers.py:404\u001b[0m, in \u001b[0;36mContainer.start\u001b[0;34m(self, **kwargs)\u001b[0m\n\u001b[1;32m    395\u001b[0m \u001b[38;5;28;01mdef\u001b[39;00m \u001b[38;5;21mstart\u001b[39m(\u001b[38;5;28mself\u001b[39m, \u001b[38;5;241m*\u001b[39m\u001b[38;5;241m*\u001b[39mkwargs):\n\u001b[1;32m    396\u001b[0m \u001b[38;5;250m    \u001b[39m\u001b[38;5;124;03m\"\"\"\u001b[39;00m\n\u001b[1;32m    397\u001b[0m \u001b[38;5;124;03m    Start this container. Similar to the ``docker start`` command, but\u001b[39;00m\n\u001b[1;32m    398\u001b[0m \u001b[38;5;124;03m    doesn't support attach options.\u001b[39;00m\n\u001b[0;32m   (...)\u001b[0m\n\u001b[1;32m    402\u001b[0m \u001b[38;5;124;03m            If the server returns an error.\u001b[39;00m\n\u001b[1;32m    403\u001b[0m \u001b[38;5;124;03m    \"\"\"\u001b[39;00m\n\u001b[0;32m--> 404\u001b[0m     \u001b[38;5;28;01mreturn\u001b[39;00m \u001b[38;5;28;43mself\u001b[39;49m\u001b[38;5;241;43m.\u001b[39;49m\u001b[43mclient\u001b[49m\u001b[38;5;241;43m.\u001b[39;49m\u001b[43mapi\u001b[49m\u001b[38;5;241;43m.\u001b[39;49m\u001b[43mstart\u001b[49m\u001b[43m(\u001b[49m\u001b[38;5;28;43mself\u001b[39;49m\u001b[38;5;241;43m.\u001b[39;49m\u001b[43mid\u001b[49m\u001b[43m,\u001b[49m\u001b[43m \u001b[49m\u001b[38;5;241;43m*\u001b[39;49m\u001b[38;5;241;43m*\u001b[39;49m\u001b[43mkwargs\u001b[49m\u001b[43m)\u001b[49m\n",
      "File \u001b[0;32m/usr/lib/python3/dist-packages/docker/utils/decorators.py:19\u001b[0m, in \u001b[0;36mcheck_resource.<locals>.decorator.<locals>.wrapped\u001b[0;34m(self, resource_id, *args, **kwargs)\u001b[0m\n\u001b[1;32m     15\u001b[0m \u001b[38;5;28;01mif\u001b[39;00m \u001b[38;5;129;01mnot\u001b[39;00m resource_id:\n\u001b[1;32m     16\u001b[0m     \u001b[38;5;28;01mraise\u001b[39;00m errors\u001b[38;5;241m.\u001b[39mNullResource(\n\u001b[1;32m     17\u001b[0m         \u001b[38;5;124m'\u001b[39m\u001b[38;5;124mResource ID was not provided\u001b[39m\u001b[38;5;124m'\u001b[39m\n\u001b[1;32m     18\u001b[0m     )\n\u001b[0;32m---> 19\u001b[0m \u001b[38;5;28;01mreturn\u001b[39;00m \u001b[43mf\u001b[49m\u001b[43m(\u001b[49m\u001b[38;5;28;43mself\u001b[39;49m\u001b[43m,\u001b[49m\u001b[43m \u001b[49m\u001b[43mresource_id\u001b[49m\u001b[43m,\u001b[49m\u001b[43m \u001b[49m\u001b[38;5;241;43m*\u001b[39;49m\u001b[43margs\u001b[49m\u001b[43m,\u001b[49m\u001b[43m \u001b[49m\u001b[38;5;241;43m*\u001b[39;49m\u001b[38;5;241;43m*\u001b[39;49m\u001b[43mkwargs\u001b[49m\u001b[43m)\u001b[49m\n",
      "File \u001b[0;32m/usr/lib/python3/dist-packages/docker/api/container.py:1109\u001b[0m, in \u001b[0;36mContainerApiMixin.start\u001b[0;34m(self, container, *args, **kwargs)\u001b[0m\n\u001b[1;32m   1107\u001b[0m url \u001b[38;5;241m=\u001b[39m \u001b[38;5;28mself\u001b[39m\u001b[38;5;241m.\u001b[39m_url(\u001b[38;5;124m\"\u001b[39m\u001b[38;5;124m/containers/\u001b[39m\u001b[38;5;132;01m{0}\u001b[39;00m\u001b[38;5;124m/start\u001b[39m\u001b[38;5;124m\"\u001b[39m, container)\n\u001b[1;32m   1108\u001b[0m res \u001b[38;5;241m=\u001b[39m \u001b[38;5;28mself\u001b[39m\u001b[38;5;241m.\u001b[39m_post(url)\n\u001b[0;32m-> 1109\u001b[0m \u001b[38;5;28;43mself\u001b[39;49m\u001b[38;5;241;43m.\u001b[39;49m\u001b[43m_raise_for_status\u001b[49m\u001b[43m(\u001b[49m\u001b[43mres\u001b[49m\u001b[43m)\u001b[49m\n",
      "File \u001b[0;32m/usr/lib/python3/dist-packages/docker/api/client.py:270\u001b[0m, in \u001b[0;36mAPIClient._raise_for_status\u001b[0;34m(self, response)\u001b[0m\n\u001b[1;32m    268\u001b[0m     response\u001b[38;5;241m.\u001b[39mraise_for_status()\n\u001b[1;32m    269\u001b[0m \u001b[38;5;28;01mexcept\u001b[39;00m requests\u001b[38;5;241m.\u001b[39mexceptions\u001b[38;5;241m.\u001b[39mHTTPError \u001b[38;5;28;01mas\u001b[39;00m e:\n\u001b[0;32m--> 270\u001b[0m     \u001b[38;5;28;01mraise\u001b[39;00m \u001b[43mcreate_api_error_from_http_exception\u001b[49m\u001b[43m(\u001b[49m\u001b[43me\u001b[49m\u001b[43m)\u001b[49m\n",
      "File \u001b[0;32m/usr/lib/python3/dist-packages/docker/errors.py:31\u001b[0m, in \u001b[0;36mcreate_api_error_from_http_exception\u001b[0;34m(e)\u001b[0m\n\u001b[1;32m     29\u001b[0m     \u001b[38;5;28;01melse\u001b[39;00m:\n\u001b[1;32m     30\u001b[0m         \u001b[38;5;28mcls\u001b[39m \u001b[38;5;241m=\u001b[39m NotFound\n\u001b[0;32m---> 31\u001b[0m \u001b[38;5;28;01mraise\u001b[39;00m \u001b[38;5;28mcls\u001b[39m(e, response\u001b[38;5;241m=\u001b[39mresponse, explanation\u001b[38;5;241m=\u001b[39mexplanation)\n",
      "\u001b[0;31mAPIError\u001b[0m: 500 Server Error for http+docker://localhost/v1.43/containers/37ef029cb51496236c4862eaa27df20d0e8110f31ab62cf5fdfeab75861eb0a1/start: Internal Server Error (\"could not select device driver \"\" with capabilities: [[gpu]]\")"
     ]
    }
   ],
   "source": [
    "default_KS3_params = ss.get_default_sorter_params('kilosort3')\n",
    "default_KS3_params['keep_good_only'] = True\n",
    "default_KS3_params['detect_threshold'] = 24\n",
    "default_KS3_params['projection_threshold']=[30, 30]\n",
    "default_KS3_params['preclust_threshold'] = 26\n",
    "print(default_KS3_params)\n",
    "run_sorter = ss.run_kilosort3(recording_chunk, output_folder=\"/mnt/disk15tb/mmpatil/Spikesorting/sorter_output/kilosort_22May/kilosort3_block2_5min\", docker_image= \"kilosort3-maxwellcomplib:latest\",verbose=True, **default_KS3_params)"
   ]
  },
  {
   "cell_type": "code",
   "execution_count": null,
   "metadata": {},
   "outputs": [],
   "source": [
    "sorting_KS3 = ss.Kilosort3Sorter._get_result_from_folder('/home/mmpatil/Documents/spikesorting/MEA_Analysis/Python/kilosort3_block2_5min/sorter_output/')\n",
    "total_units = sorting_KS3.get_unit_ids()\n",
    "print(total_units)\n",
    "print(len(total_units))\n",
    "channel_ids = recording_chunk.get_channel_ids()\n",
    "print(channel_ids)\n",
    "channel_association_dict = {int(y):x for x,y in enumerate(channel_ids) }\n",
    "print(channel_association_dict)"
   ]
  },
  {
   "cell_type": "code",
   "execution_count": null,
   "metadata": {},
   "outputs": [],
   "source": [
    "job_kwargs = dict(n_jobs=64, chunk_duration=\"1s\", progress_bar=True)\n",
    "waveforms = si.extract_waveforms(recording_chunk,sorting_KS3,folder=\"./waveformsblock2_4min\",overwrite=True, ms_before=1., ms_after=2.,**job_kwargs)\n",
    "#waveforms = si.extract_waveforms(recording_chunk,sorting_KS3,folder='./waveformsblock1',load_if_exists=True)\n",
    "print(waveforms)"
   ]
  },
  {
   "cell_type": "code",
   "execution_count": null,
   "metadata": {},
   "outputs": [],
   "source": [
    "pc = sp.compute_principal_components(waveforms, n_components = 3,**job_kwargs)"
   ]
  },
  {
   "cell_type": "code",
   "execution_count": null,
   "metadata": {},
   "outputs": [],
   "source": [
    "import spikeinterface.qualitymetrics as qm\n",
    "\n",
    "metrics = qm.compute_quality_metrics(waveforms,**job_kwargs)"
   ]
  },
  {
   "cell_type": "code",
   "execution_count": null,
   "metadata": {},
   "outputs": [],
   "source": [
    "display(metrics)"
   ]
  },
  {
   "cell_type": "code",
   "execution_count": null,
   "metadata": {},
   "outputs": [],
   "source": [
    "extremum_channels_ids =spikeinterface.full.get_template_extremum_channel(waveforms, peak_sign='neg')\n",
    "print(extremum_channels_ids)\n",
    "\n"
   ]
  },
  {
   "cell_type": "code",
   "execution_count": null,
   "metadata": {},
   "outputs": [],
   "source": [
    "\n",
    "\n",
    "print(helper.get_key_by_value(extremum_channels_ids,'625'))"
   ]
  },
  {
   "cell_type": "code",
   "execution_count": null,
   "metadata": {},
   "outputs": [],
   "source": [
    "\n",
    "isi_violations_ratio, isi_violations_count = qm.compute_isi_violations(waveforms, isi_threshold_ms=1.0)\n",
    "print(isi_violations_ratio)\n",
    "print(isi_violations_count)\n",
    "\n",
    "rp_contamination,rp_violation = qm.compute_refrac_period_violations(waveforms)\n",
    "print(rp_contamination)\n",
    "print(rp_violation)\n",
    "914\n",
    "snr_ratio = qm.compute_snrs(waveforms,peak_sign=\"both\", peak_mode='at_index')\n",
    "print(snr_ratio)\n",
    "\n",
    "firing_rate = qm.compute_firing_rates(waveforms)\n",
    "print(firing_rate)"
   ]
  },
  {
   "cell_type": "code",
   "execution_count": null,
   "metadata": {},
   "outputs": [],
   "source": [
    "import helper_functions as helper\n",
    "\n",
    "\n",
    "filename = 'Extremechannels_4min.json'\n",
    "helper.dumpdicttofile(extremum_channels_ids,filename)\n"
   ]
  },
  {
   "cell_type": "code",
   "execution_count": null,
   "metadata": {},
   "outputs": [],
   "source": [
    "violated_units = [unit for unit, ratio in isi_violations_ratio.items() if ratio > 0.0]\n",
    "print(violated_units)\n",
    "print(f\"isi violated units:{len(violated_units)}\")\n",
    "\n",
    "refrct_violated_units = [unit for unit,ratio in rp_contamination.items() if ratio >0.0]\n",
    "print(refrct_violated_units)\n",
    "print(f\"refract vio units:{len(refrct_violated_units)}\")"
   ]
  },
  {
   "cell_type": "code",
   "execution_count": null,
   "metadata": {},
   "outputs": [],
   "source": [
    "print(sorting_KS3)\n",
    "\n",
    "clean_sorting = sorting_KS3.remove_units(refrct_violated_units)\n",
    "print(clean_sorting)\n",
    "good_units = [units for units in total_units if units not in refrct_violated_units ]\n",
    "print(good_units)\n",
    "\n",
    "#now getting the wavefrom extractor\n",
    "\n",
    "waveform_good = waveforms.select_units(good_units,new_folder='waveforms_good_100elec')\n",
    "print(waveform_good)"
   ]
  },
  {
   "cell_type": "code",
   "execution_count": null,
   "metadata": {},
   "outputs": [],
   "source": [
    "%matplotlib widget"
   ]
  },
  {
   "cell_type": "code",
   "execution_count": null,
   "metadata": {},
   "outputs": [],
   "source": [
    "import spikeinterface.postprocessing as sp\n",
    "\n",
    "locations = sp.compute_unit_locations(waveforms)\n",
    "print(type(locations))\n",
    "import numpy as np\n",
    "#np.savetxt(\"unitloc_10mins.txt\",locations)\n",
    "ax = plt.subplot(111)\n",
    "sw.plot_probe_map(recording2,ax=ax,with_channel_ids=False)\n",
    "for x,y in locations:\n",
    "    ax.scatter(x,y)"
   ]
  },
  {
   "cell_type": "code",
   "execution_count": null,
   "metadata": {},
   "outputs": [],
   "source": [
    "channel_locations = recording_chunk.get_channel_locations()\n",
    "channel_ids = recording_chunk.get_channel_ids()\n",
    "_ = [print(f\"{channel_id}: {location}\") for location, channel_id in zip(channel_locations, channel_ids)]\n",
    "\n"
   ]
  },
  {
   "cell_type": "code",
   "execution_count": null,
   "metadata": {},
   "outputs": [],
   "source": [
    "fig, ax1 = plt.subplots(figsize=(15,5))\n",
    "spike_times = {}\n",
    "for idx, unit_id in enumerate(clean_sorting.get_unit_ids()):\n",
    "    spike_train = clean_sorting.get_unit_spike_train(unit_id,start_frame=1*fs,end_frame=100*fs)\n",
    "    print(spike_train)\n",
    "    if len(spike_train) > 0:\n",
    "        spike_times[idx] = spike_train / float(fs)\n",
    "        #print(spike_times[unit_id])\n",
    "       # print(unit_id*np.ones_like(spike_times[unit_id]))\n",
    "        ax1.plot(spike_times[idx],idx*np.ones_like(spike_times[idx]),\n",
    "                             marker='|', mew=1, markersize=3,\n",
    "                             ls='',color='black')\n",
    "                       "
   ]
  },
  {
   "cell_type": "code",
   "execution_count": null,
   "metadata": {},
   "outputs": [],
   "source": [
    "t_start = 0 \n",
    "t_end = int(600*fs)\n",
    "dt = 1\n",
    "#initialising the spike train.\n",
    "units= clean_sorting.get_num_units()\n",
    "frame_numbers = t_end\n",
    "spike_array = np.zeros((units,frame_numbers), dtype= int)\n",
    "for idx, unit_id in enumerate(clean_sorting.get_unit_ids()):\n",
    "    spike_train = clean_sorting.get_unit_spike_train(unit_id,start_frame=t_start,end_frame=t_end)\n",
    "    for spike_time in spike_train:\n",
    "        spike_array[idx,spike_time] = 1\n",
    "\n",
    "print(spike_array)\n",
    "\n",
    "print(spike_array[0,63782])"
   ]
  },
  {
   "cell_type": "code",
   "execution_count": null,
   "metadata": {},
   "outputs": [],
   "source": [
    "np.savez_compressed('spike_array_compressed_blockactivity.npz',spike_array)"
   ]
  },
  {
   "cell_type": "code",
   "execution_count": null,
   "metadata": {},
   "outputs": [],
   "source": [
    "with np.load('spike_array_compressed_blockactivity.npz') as data:\n",
    "    decompressed_data = data['arr_0']\n",
    "\n",
    "print(np.array_equal(spike_array, decompressed_data))\n"
   ]
  },
  {
   "cell_type": "code",
   "execution_count": null,
   "metadata": {},
   "outputs": [],
   "source": [
    "extremum_channels_ids =spikeinterface.full.get_template_extremum_channel(waveforms, peak_sign='neg')\n",
    "print(extremum_channels_ids)\n",
    "\n"
   ]
  },
  {
   "cell_type": "code",
   "execution_count": null,
   "metadata": {},
   "outputs": [],
   "source": [
    "colors = [ 'Lime','Gold', 'Orange','Orangered']\n",
    "fig, ax = plt.subplots()\n",
    "wf=[]\n",
    "for i, unit_id in enumerate([34, 49]):\n",
    "    wf = waveforms.get_waveforms(unit_id)\n",
    "    color = colors[i]\n",
    "    ax.plot(wf[:, :,channel_association_dict[594]].T, color=color, lw=0.3)\n",
    "print(wf.shape)"
   ]
  },
  {
   "cell_type": "code",
   "execution_count": null,
   "metadata": {},
   "outputs": [],
   "source": [
    "colors = [ 'Fuchsia','Olive', 'Teal']\n",
    "fig, ax = plt.subplots()\n",
    "wf=[]\n",
    "for i, unit_id in enumerate([218]):\n",
    "    wf = waveform_good.get_waveforms(unit_id)\n",
    "    ax.plot(wf[:, :,channel_association_dict[902]].T, color=colors[0], lw=0.3)\n",
    "    ax.plot(wf[:, :,channel_association_dict[613]].T, color=colors[1], lw=0.3)\n",
    "    ax.plot(wf[:, :,channel_association_dict[663]].T, color=colors[2], lw=0.3)\n",
    "print(wf.shape)"
   ]
  },
  {
   "cell_type": "code",
   "execution_count": null,
   "metadata": {},
   "outputs": [],
   "source": [
    "peak_shift=si.get_template_extremum_channel_peak_shift(waveform_good)\n",
    "\n",
    "print(peak_shift)"
   ]
  },
  {
   "cell_type": "code",
   "execution_count": null,
   "metadata": {},
   "outputs": [],
   "source": [
    "colors = [ 'Fuchsia','Olive', 'Teal']\n",
    "fig, ax = plt.subplots()\n",
    "for i, unit_id in enumerate([26, 40 , 46]):\n",
    "    template = waveforms.get_template(unit_id)\n",
    "    color = colors[i]\n",
    "    ax.plot(template[:, channel_association_dict[780]].T, color=color, lw=3)\n",
    "print(template.shape)"
   ]
  },
  {
   "cell_type": "code",
   "execution_count": null,
   "metadata": {},
   "outputs": [],
   "source": [
    "w = sw.plot_unit_templates(waveform_good, unit_ids=[183],plot_channels=False )"
   ]
  },
  {
   "cell_type": "code",
   "execution_count": null,
   "metadata": {},
   "outputs": [],
   "source": [
    "w = sw.plot_unit_waveforms(waveform_good, unit_ids=[2,4,7])\n",
    "w = sw.plot_unit_templates(waveform_good, unit_ids=[2,4,7])\n",
    "w = sw.plot_unit_probe_map(waveform_good, unit_ids=[2,4,7])"
   ]
  }
 ],
 "metadata": {
  "kernelspec": {
   "display_name": "Python 3 (ipykernel)",
   "language": "python",
   "name": "python3"
  },
  "language_info": {
   "codemirror_mode": {
    "name": "ipython",
    "version": 3
   },
   "file_extension": ".py",
   "mimetype": "text/x-python",
   "name": "python",
   "nbconvert_exporter": "python",
   "pygments_lexer": "ipython3",
   "version": "3.10.6"
  },
  "vscode": {
   "interpreter": {
    "hash": "916dbcbb3f70747c44a77c7bcd40155683ae19c65e1c03b4aa3499c5328201f1"
   }
  }
 },
 "nbformat": 4,
 "nbformat_minor": 2
}
