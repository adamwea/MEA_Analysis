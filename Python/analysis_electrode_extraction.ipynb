{
 "cells": [
  {
   "cell_type": "code",
   "execution_count": 1,
   "metadata": {},
   "outputs": [],
   "source": [
    "import helper_functions as helper\n",
    "\n",
    "root_directory = \"/mnt/disk15tb/jonathan/Syngap3\"\n",
    "file_name_pattern = \"data.raw.h5\"\n",
    "subfolder_name = \"Network\"\n",
    "\n",
    "result = helper.find_files_with_subfolder(root_directory, file_name_pattern, subfolder_name)\n",
    "\n"
   ]
  },
  {
   "cell_type": "code",
   "execution_count": null,
   "metadata": {},
   "outputs": [],
   "source": [
    "import mea_analysis_pipeline as msp\n",
    "import csv\n",
    "# Path to the CSV file\n",
    "csv_file_path = \"./path_electrodes_2.csv\"\n",
    "\n",
    "# Writing data to the CSV file\n",
    "with open(csv_file_path, mode=\"w\", newline=\"\") as file:\n",
    "    writer = csv.writer(file)\n",
    "    writer.writerow([\"path\",\"electrodes\"])\n",
    "    if result:\n",
    "        print(\"Found the file in the following locations:\")\n",
    "        for path in result:\n",
    "            try:\n",
    "                electrodes = msp.process_block(0,path,300)\n",
    "                writer.writerow([path,electrodes])\n",
    "            except Exception as e:\n",
    "                print(e)\n",
    "                writer.writerow([path,e])\n",
    "            \n",
    "    else:\n",
    "        print(\"The file was not found in any subdirectory named 'Network.'\")"
   ]
  },
  {
   "cell_type": "code",
   "execution_count": 2,
   "metadata": {},
   "outputs": [
    {
     "name": "stderr",
     "output_type": "stream",
     "text": [
      "INFO:root:Processing recording: rec0000\n"
     ]
    },
    {
     "name": "stdout",
     "output_type": "stream",
     "text": [
      "The directory './sorting' has been emptied.\n",
      "Sampling frequency: 20000.0\n",
      "Number of channels: 1004\n",
      "Number of segments: 1\n",
      "total_recording: 299.99 s\n",
      "Starting container\n",
      "Installing spikeinterface==0.98.2 in kilosort2-maxwellcomplib:latest\n"
     ]
    }
   ],
   "source": [
    "import mea_analysis_pipeline as msp\n",
    "path = '/mnt/disk15tb/jonathan/Syngap3/Syngap3/230111/16873/Network/000238/data.raw.h5'\n",
    "try:\n",
    "    electrodes = msp.process_block(0,path,300)\n",
    "\n",
    "except Exception as e:\n",
    "    print(e)"
   ]
  },
  {
   "cell_type": "code",
   "execution_count": null,
   "metadata": {},
   "outputs": [],
   "source": []
  }
 ],
 "metadata": {
  "kernelspec": {
   "display_name": "Python 3",
   "language": "python",
   "name": "python3"
  },
  "language_info": {
   "codemirror_mode": {
    "name": "ipython",
    "version": 3
   },
   "file_extension": ".py",
   "mimetype": "text/x-python",
   "name": "python",
   "nbconvert_exporter": "python",
   "pygments_lexer": "ipython3",
   "version": "3.10.12"
  },
  "orig_nbformat": 4
 },
 "nbformat": 4,
 "nbformat_minor": 2
}
