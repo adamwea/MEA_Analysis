{
 "cells": [
  {
   "cell_type": "code",
   "execution_count": 2,
   "metadata": {},
   "outputs": [],
   "source": [
    "import mea_analysis_pipeline as msp\n",
    "import helper_functions as helper"
   ]
  },
  {
   "cell_type": "code",
   "execution_count": null,
   "metadata": {},
   "outputs": [],
   "source": [
    "import importlib\n",
    "importlib.reload(msp)"
   ]
  },
  {
   "cell_type": "code",
   "execution_count": null,
   "metadata": {},
   "outputs": [],
   "source": [
    "file_path= '/home/mmpatil/Documents/spikesorting/Data/activity_16757_1min_fullsccan/data.raw.h5' #network data from chip 16848\n",
    "   \n",
    "number_of_configurations = 3# need to know it while recording\n",
    "\n",
    "time_in_s = 59\n",
    "\n",
    "result = msp.routine_sequential(file_path,number_of_configurations,time_in_s)"
   ]
  },
  {
   "cell_type": "code",
   "execution_count": null,
   "metadata": {},
   "outputs": [],
   "source": [
    "file_path= '/home/mmpatil/Documents/spikesorting/Data/activity_16757_1min_fullsccan/data.raw.h5' #network data from chip 16848\n",
    "   \n",
    "number_of_configurations = 3# need to know it while recording\n",
    "\n",
    "time_in_s = 59\n",
    "\n",
    "msp.process_block(5,file_path,time_in_s)"
   ]
  },
  {
   "cell_type": "code",
   "execution_count": 3,
   "metadata": {},
   "outputs": [],
   "source": [
    "sorting1min = msp.get_kilosort_result('/home/mmpatil/Documents/spikesorting/MEA_Analysis/Python/sorter_workspace/block_rec0005/kilosort3_rec0005/sorter_output')\n",
    "waveforms1min = msp.get_waveforms_result(sorting1min,'/home/mmpatil/Documents/spikesorting/MEA_Analysis/Python/sorter_workspace/block_rec0005/waverforms_rec0005')\n",
    "waveforms_good = msp.get_waveforms_result(sorting1min,'/home/mmpatil/Documents/spikesorting/MEA_Analysis/Python/sorter_workspace/block_rec0005/waveforms_good_rec0005')"
   ]
  },
  {
   "cell_type": "code",
   "execution_count": 7,
   "metadata": {},
   "outputs": [
    {
     "name": "stdout",
     "output_type": "stream",
     "text": [
      "Total units counts 50\n",
      "Units : [  1   2   4   5  13  15  22  23  24  27  28  32  35  36  41  43  46  47\n",
      "  51  52  55  59  63  64  69  71  74  84  87  94  97 100 108 110 113 116\n",
      " 119 124 129 130 139 140 141 147 151 152 159 160 164 165]\n",
      "rp_contaminaiton : {1: 0.0, 2: 0.0, 4: 0.0, 5: 0.0, 13: 0.0, 15: 0.0, 22: 0.0, 23: 0.0, 24: 0.0, 27: 0.0, 28: 0.0, 32: 0.0, 35: 0.0, 36: 0.0, 41: 0.0, 43: 0.0, 46: 0.0, 47: 1.0, 51: 0.0, 52: 0.0, 55: 0.0, 59: 1.0, 63: 0.0, 64: 0.0, 69: 1.0, 71: 0.0, 74: 0.0, 84: 0.0, 87: 0.0, 94: 0.0, 97: 0.0, 100: 0.0, 108: 0.0, 110: 1.0, 113: 0.0, 116: 1.0, 119: 0.0, 124: 0.0, 129: 0.0, 130: 0.0, 139: 0.0, 140: 0.0, 141: 0.0, 147: 0.0, 151: 0.0, 152: 0.0, 159: 0.0, 160: 0.0, 164: 0.0, 165: 0.0}\n",
      "SNR ratio : {1: 102.8382, 2: 102.74827, 4: 142.73386, 5: 103.01013, 13: 102.70232, 15: 102.7545, 22: 102.82044, 23: 102.92525, 24: 101.003265, 27: 103.405365, 28: 102.78663, 32: 101.33762, 35: 103.06642, 36: 100.896034, 41: 138.69502, 43: 102.85595, 46: 102.350815, 47: 102.7061, 51: 102.65734, 52: 102.74081, 55: 136.9902, 59: 151.3278, 63: 102.562256, 64: 147.73508, 69: 102.7908, 71: 102.48997, 74: 150.04822, 84: 102.88825, 87: 77.70608, 94: 102.68344, 97: 102.00782, 100: 142.92912, 108: 148.43228, 110: 103.13742, 113: 102.29728, 116: 152.07361, 119: 139.34825, 124: 102.88331, 129: 151.08716, 130: 102.79802, 139: 102.67326, 140: 102.694176, 141: 102.62974, 147: 152.46315, 151: 142.86668, 152: 139.77924, 159: 102.6466, 160: 76.710045, 164: 102.70586, 165: 102.58669}\n",
      "Firing rate : {1: 1.681371732978192, 2: 2.846678874646246, 4: 0.7657732645247212, 5: 0.6825370401198602, 13: 7.04178458465124, 15: 1.9810221408356916, 22: 1.7313134676211086, 23: 0.4827701015481938, 24: 1.4982520392874978, 27: 0.2330614283336108, 28: 1.4150158148826368, 32: 2.0476111203595804, 35: 0.31629765273847177, 36: 4.794406525719993, 41: 0.31629765273847177, 43: 0.5493590810720825, 46: 0.6991842850008324, 47: 3.4792741801231895, 51: 2.2140835691693024, 52: 1.8311969369069419, 55: 0.41618112202430496, 59: 0.2996504078574996, 63: 0.4661228566672216, 64: 0.4827701015481938, 69: 0.6825370401198602, 71: 0.6991842850008324, 74: 2.7800898951223574, 84: 0.5826535708340269, 87: 0.09988346928583319, 94: 2.9465623439320794, 97: 1.4483103046445813, 100: 0.1831196936906942, 108: 5.260529382387215, 110: 0.6325953054769435, 113: 0.3495921425004162, 116: 0.6658897952388879, 119: 1.8311969369069419, 124: 1.015481937739304, 129: 0.6325953054769435, 130: 1.8311969369069419, 139: 0.9655402030963876, 140: 1.348426835358748, 141: 1.5648410188113868, 147: 2.080905610121525, 151: 2.1308473447644416, 152: 1.6647244880972198, 159: 2.014316630597636, 160: 6.325953054769435, 164: 1.7313134676211086, 165: 1.5648410188113868}\n",
      "violated units [69, 110, 47, 116, 87, 59] removed\n",
      "[1, 2, 4, 5, 13, 15, 22, 23, 24, 27, 28, 32, 35, 36, 41, 43, 46, 51, 52, 55, 63, 64, 71, 74, 84, 94, 97, 100, 108, 113, 119, 124, 129, 130, 139, 140, 141, 147, 151, 152, 159, 160, 164, 165]\n",
      "extremum channel : {1: '414', 2: '414', 4: '280', 5: '414', 13: '414', 15: '414', 22: '414', 23: '414', 24: '414', 27: '414', 28: '414', 32: '414', 35: '414', 36: '414', 41: '94', 43: '414', 46: '414', 51: '414', 52: '414', 55: '710', 63: '414', 64: '94', 71: '414', 74: '972', 84: '414', 94: '414', 97: '783', 100: '345', 108: '881', 113: '414', 119: '1021', 124: '414', 129: '833', 130: '414', 139: '414', 140: '414', 141: '414', 147: '707', 151: '707', 152: '53', 159: '414', 160: '111', 164: '414', 165: '414'}\n",
      "Units that correspond to same electrode: [[41, 64], [1, 2, 5, 13, 15, 22, 23, 24, 27, 28, 32, 35, 36, 43, 46, 51, 52, 63, 71, 84, 94, 113, 124, 130, 139, 140, 141, 159, 164, 165], [147, 151]]\n"
     ]
    },
    {
     "name": "stderr",
     "output_type": "stream",
     "text": [
      "/home/mmpatil/.local/lib/python3.10/site-packages/spikeinterface/postprocessing/template_tools.py:19: DeprecationWarning: The spikeinterface.postprocessing.template_tools is submodule is deprecated.Use spikeinterface.core.template_tools instead\n",
      "  _warn()\n"
     ]
    },
    {
     "name": "stdout",
     "output_type": "stream",
     "text": [
      "Best unit among the same electrodes [64, 27, 147]\n",
      "[4, 27, 55, 64, 74, 97, 100, 108, 119, 129, 147, 152, 160]\n"
     ]
    },
    {
     "name": "stderr",
     "output_type": "stream",
     "text": [
      "/home/mmpatil/.local/lib/python3.10/site-packages/spikeinterface/qualitymetrics/misc_metrics.py:514: UserWarning: Units [1, 2, 4, 5, 13, 15, 22, 23, 24, 27, 28, 32, 35, 36, 41, 43, 46, 47, 51, 52, 55, 59, 63, 64, 69, 71, 74, 84, 87, 94, 97, 100, 108, 110, 113, 116, 119, 124, 129, 130, 139, 140, 141, 147, 151, 152, 159, 160, 164, 165] have too few spikes and amplitude_cutoff is set to NaN\n",
      "  warnings.warn(f\"Units {nan_units} have too few spikes and \"\n"
     ]
    }
   ],
   "source": [
    "non_violated_units = msp.remove_violated_units(sorting1min,waveforms1min)\n",
    "print(non_violated_units)\n",
    "template_channel_dict = msp.get_unique_templates_channels(non_violated_units,waveforms1min)\n",
    "non_redundant_templates = list(template_channel_dict.keys())\n",
    "print(non_redundant_templates)"
   ]
  },
  {
   "cell_type": "code",
   "execution_count": 8,
   "metadata": {},
   "outputs": [
    {
     "data": {
      "application/vnd.jupyter.widget-view+json": {
       "model_id": "57bef799b76c4f0aa1506ef41bf330cf",
       "version_major": 2,
       "version_minor": 0
      },
      "text/plain": [
       "extract waveforms memmap:   0%|          | 0/61 [00:00<?, ?it/s]"
      ]
     },
     "metadata": {},
     "output_type": "display_data"
    }
   ],
   "source": [
    "\n",
    "import os\n",
    "os.chdir('/home/mmpatil/Documents/spikesorting/MEA_Analysis/Python/sorter_workspace/block_rec0005')\n",
    "waveform_good = waveforms1min.select_units(non_redundant_templates,new_folder='waveforms_good_rec0002')\n",
    "waveform_good.run_extract_waveforms()"
   ]
  },
  {
   "cell_type": "code",
   "execution_count": 9,
   "metadata": {},
   "outputs": [
    {
     "name": "stdout",
     "output_type": "stream",
     "text": [
      "Force compute_noise_levels() this is needed\n"
     ]
    },
    {
     "name": "stderr",
     "output_type": "stream",
     "text": [
      "/home/mmpatil/Documents/spikesorting/MEA_Analysis/Python/mea_analysis_pipeline.py:123: DeprecationWarning: 'exec_' will be removed in the future. Use 'exec' instead.\n",
      "  app.exec_()\n"
     ]
    }
   ],
   "source": [
    "\n",
    "msp.analyse_waveforms_sigui(waveform_good)"
   ]
  },
  {
   "cell_type": "code",
   "execution_count": null,
   "metadata": {},
   "outputs": [],
   "source": [
    "%matplotlib widget"
   ]
  },
  {
   "cell_type": "code",
   "execution_count": null,
   "metadata": {},
   "outputs": [],
   "source": [
    "import spikeinterface.postprocessing as sp\n",
    "\n",
    "locations = sp.compute_unit_locations(waveforms1min)\n",
    "print(locations)\n",
    "import numpy as np\n",
    "#np.savetxt(\"unitloc_10mins.txt\",locations)\n",
    "ax = plt.subplot(111)\n",
    "sw.plot_probe_map(recording,ax=ax,with_channel_ids=False)\n",
    "for x,y in locations:\n",
    "    ax.scatter(x,y)\n"
   ]
  },
  {
   "cell_type": "code",
   "execution_count": null,
   "metadata": {},
   "outputs": [],
   "source": [
    "channel_locations = recording_chunk.get_channel_locations()\n",
    "channel_ids = recording_chunk.get_channel_ids()\n",
    "channel_locations_mappings= {channel_id: location for location, channel_id in zip(channel_locations, channel_ids)}\n",
    "print(channel_locations_mappings)\n",
    "\n"
   ]
  },
  {
   "cell_type": "code",
   "execution_count": null,
   "metadata": {},
   "outputs": [],
   "source": [
    "#thinking the unique locations have all the required electrodes.\n",
    "\n",
    "required_electrodes= {channels :[int(locations[0]/17.5),int(locations[1]/17.5)] for channels, locations in channel_locations_mappings.items() if channels in unique_channels }\n",
    "print(required_electrodes)"
   ]
  },
  {
   "cell_type": "code",
   "execution_count": null,
   "metadata": {},
   "outputs": [],
   "source": [
    "import json\n",
    "\n",
    "with open('electrode_locations_4min.json','w') as fileptr:\n",
    "    json.dump(required_electrodes,fileptr)\n",
    "\n"
   ]
  },
  {
   "cell_type": "code",
   "execution_count": null,
   "metadata": {},
   "outputs": [],
   "source": [
    "with open('electrode_locations_4min.json',) as fileptr:\n",
    "    data = json.load(fileptr)\n",
    "print(data)"
   ]
  },
  {
   "cell_type": "code",
   "execution_count": null,
   "metadata": {},
   "outputs": [],
   "source": [
    "selected_electrodes = [220 * locations[1] + locations[0] for locations in data.values()]\n",
    "print(selected_electrodes)"
   ]
  },
  {
   "cell_type": "code",
   "execution_count": null,
   "metadata": {},
   "outputs": [],
   "source": [
    "val = recording_chunk.get_electrode_info\n",
    "print(val)"
   ]
  },
  {
   "cell_type": "code",
   "execution_count": null,
   "metadata": {},
   "outputs": [],
   "source": [
    "def electrode_rectangle_indices(xmin, ymin, xmax, ymax):\n",
    "    return [220 * y + x for y in range(max(ymin, 0), min(ymax + 1, 120)) for x in range(max(xmin, 0), min(xmax + 1, 220))]\n",
    "\n",
    "\n",
    "def electrode_rectangle_um(xmin, ymin, xmax, ymax):\n",
    "    return electrode_rectangle_indices(int(xmin / 17.5), int(ymin / 17.5), int(xmax / 17.5), int(ymax / 17.5))\n",
    "\n",
    "XMULTIPLIER = 44\n",
    "YMULTIPLIER = 20\n",
    "\n",
    "for y in range(6):\n",
    "    for x in range(5):\n",
    "        #print(\"(\",XMULTIPLIER*x,YMULTIPLIER*y,XMULTIPLIER*x+XMULTIPLIER-1,YMULTIPLIER*y+YMULTIPLIER-1,\")\")\n",
    "        print(electrode_rectangle_indices(XMULTIPLIER*x,YMULTIPLIER*y,XMULTIPLIER*x+XMULTIPLIER-1,YMULTIPLIER*y+YMULTIPLIER-1))\n",
    "\n",
    "# print(electrode_rectangle_indices(218,0,219,1))"
   ]
  },
  {
   "cell_type": "code",
   "execution_count": null,
   "metadata": {},
   "outputs": [],
   "source": [
    "import datetime as datetime\n",
    "\n",
    "now = datetime.datetime.now()\n",
    "strfmt = now.strftime(\"%Y%m%d_%H_%M_%S\")\n",
    "print(strfmt)"
   ]
  },
  {
   "cell_type": "code",
   "execution_count": null,
   "metadata": {},
   "outputs": [],
   "source": [
    "import maxlab.saving\n",
    "\n",
    "obj = maxlab.saving.Saving()\n",
    "\n",
    "obj.start()"
   ]
  },
  {
   "cell_type": "code",
   "execution_count": null,
   "metadata": {},
   "outputs": [],
   "source": [
    "fig, ax1 = plt.subplots(figsize=(15,5))\n",
    "spike_times = {}\n",
    "for idx, unit_id in enumerate(clean_sorting.get_unit_ids()):\n",
    "    spike_train = clean_sorting.get_unit_spike_train(unit_id,start_frame=1*fs,end_frame=100*fs)\n",
    "    print(spike_train)\n",
    "    if len(spike_train) > 0:\n",
    "        spike_times[idx] = spike_train / float(fs)\n",
    "        #print(spike_times[unit_id])\n",
    "       # print(unit_id*np.ones_like(spike_times[unit_id]))\n",
    "        ax1.plot(spike_times[idx],idx*np.ones_like(spike_times[idx]),\n",
    "                             marker='|', mew=1, markersize=3,\n",
    "                             ls='',color='black')\n",
    "                       "
   ]
  },
  {
   "cell_type": "code",
   "execution_count": null,
   "metadata": {},
   "outputs": [],
   "source": [
    "t_start = 0 \n",
    "t_end = int(600*fs)\n",
    "dt = 1\n",
    "#initialising the spike train.\n",
    "units= clean_sorting.get_num_units()\n",
    "frame_numbers = t_end\n",
    "spike_array = np.zeros((units,frame_numbers), dtype= int)\n",
    "for idx, unit_id in enumerate(clean_sorting.get_unit_ids()):\n",
    "    spike_train = clean_sorting.get_unit_spike_train(unit_id,start_frame=t_start,end_frame=t_end)\n",
    "    for spike_time in spike_train:\n",
    "        spike_array[idx,spike_time] = 1\n",
    "\n",
    "print(spike_array)\n",
    "\n",
    "print(spike_array[0,63782])"
   ]
  },
  {
   "cell_type": "code",
   "execution_count": null,
   "metadata": {},
   "outputs": [],
   "source": [
    "np.savez_compressed('spike_array_compressed_blockactivity.npz',spike_array)"
   ]
  },
  {
   "cell_type": "code",
   "execution_count": null,
   "metadata": {},
   "outputs": [],
   "source": [
    "with np.load('spike_array_compressed_blockactivity.npz') as data:\n",
    "    decompressed_data = data['arr_0']\n",
    "\n",
    "print(np.array_equal(spike_array, decompressed_data))\n"
   ]
  },
  {
   "cell_type": "code",
   "execution_count": null,
   "metadata": {},
   "outputs": [],
   "source": [
    "extremum_channels_ids =spikeinterface.full.get_template_extremum_channel(waveforms, peak_sign='neg')\n",
    "print(extremum_channels_ids)\n",
    "\n"
   ]
  },
  {
   "cell_type": "code",
   "execution_count": null,
   "metadata": {},
   "outputs": [],
   "source": [
    "colors = [ 'Lime','Gold', 'Orange','Orangered']\n",
    "fig, ax = plt.subplots()\n",
    "wf=[]\n",
    "for i, unit_id in enumerate([34, 49]):\n",
    "    wf = waveforms.get_waveforms(unit_id)\n",
    "    color = colors[i]\n",
    "    ax.plot(wf[:, :,channel_association_dict[594]].T, color=color, lw=0.3)\n",
    "print(wf.shape)"
   ]
  },
  {
   "cell_type": "code",
   "execution_count": null,
   "metadata": {},
   "outputs": [],
   "source": [
    "colors = [ 'Fuchsia','Olive', 'Teal']\n",
    "fig, ax = plt.subplots()\n",
    "wf=[]\n",
    "for i, unit_id in enumerate([218]):\n",
    "    wf = waveform_good.get_waveforms(unit_id)\n",
    "    ax.plot(wf[:, :,channel_association_dict[902]].T, color=colors[0], lw=0.3)\n",
    "    ax.plot(wf[:, :,channel_association_dict[613]].T, color=colors[1], lw=0.3)\n",
    "    ax.plot(wf[:, :,channel_association_dict[663]].T, color=colors[2], lw=0.3)\n",
    "print(wf.shape)"
   ]
  },
  {
   "cell_type": "code",
   "execution_count": null,
   "metadata": {},
   "outputs": [],
   "source": [
    "peak_shift=si.get_template_extremum_channel_peak_shift(waveform_good)\n",
    "\n",
    "print(peak_shift)"
   ]
  },
  {
   "cell_type": "code",
   "execution_count": null,
   "metadata": {},
   "outputs": [],
   "source": [
    "colors = [ 'Fuchsia','Olive', 'Teal']\n",
    "fig, ax = plt.subplots()\n",
    "for i, unit_id in enumerate([26, 40 , 46]):\n",
    "    template = waveforms.get_template(unit_id)\n",
    "    color = colors[i]\n",
    "    ax.plot(template[:, channel_association_dict[780]].T, color=color, lw=3)\n",
    "print(template.shape)"
   ]
  },
  {
   "cell_type": "code",
   "execution_count": null,
   "metadata": {},
   "outputs": [],
   "source": [
    "w = sw.plot_unit_templates(waveform_good, unit_ids=[183],plot_channels=False )"
   ]
  },
  {
   "cell_type": "code",
   "execution_count": null,
   "metadata": {},
   "outputs": [],
   "source": [
    "w = sw.plot_unit_waveforms(waveform_good, unit_ids=[2,4,7])\n",
    "w = sw.plot_unit_templates(waveform_good, unit_ids=[2,4,7])\n",
    "w = sw.plot_unit_probe_map(waveform_good, unit_ids=[2,4,7])"
   ]
  }
 ],
 "metadata": {
  "kernelspec": {
   "display_name": "Python 3",
   "language": "python",
   "name": "python3"
  },
  "language_info": {
   "codemirror_mode": {
    "name": "ipython",
    "version": 3
   },
   "file_extension": ".py",
   "mimetype": "text/x-python",
   "name": "python",
   "nbconvert_exporter": "python",
   "pygments_lexer": "ipython3",
   "version": "3.10.6"
  },
  "orig_nbformat": 4,
  "vscode": {
   "interpreter": {
    "hash": "916dbcbb3f70747c44a77c7bcd40155683ae19c65e1c03b4aa3499c5328201f1"
   }
  }
 },
 "nbformat": 4,
 "nbformat_minor": 2
}
