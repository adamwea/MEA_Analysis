{
 "cells": [
  {
   "cell_type": "code",
   "execution_count": 1,
   "metadata": {},
   "outputs": [],
   "source": [
    "import mea_analysis_pipeline as msp\n",
    "import helper_functions as helper"
   ]
  },
  {
   "cell_type": "code",
   "execution_count": null,
   "metadata": {},
   "outputs": [],
   "source": [
    "import importlib\n",
    "importlib.reload(msp)\n",
    "importlib.reload(helper)"
   ]
  },
  {
   "cell_type": "code",
   "execution_count": null,
   "metadata": {},
   "outputs": [],
   "source": [
    "file_path= '/home/mmpatil/Documents/spikesorting/Data/activity_16757_1min_fullsccan/data.raw.h5' #network data from chip 16848\n",
    "   \n",
    "number_of_configurations = 3# need to know it while recording\n",
    "\n",
    "time_in_s = 59\n",
    "\n",
    "result = msp.routine_sequential(file_path,number_of_configurations,time_in_s)"
   ]
  },
  {
   "cell_type": "code",
   "execution_count": 2,
   "metadata": {},
   "outputs": [
    {
     "name": "stdout",
     "output_type": "stream",
     "text": [
      "Processing recording: rec0010\n",
      "Sampling frequency: 20000.0\n",
      "Number of channels: 1008\n",
      "Number of segments: 1\n",
      "total_recording: 300.06 s\n",
      "Starting container\n",
      "Installing spikeinterface==0.97.0 in kilosort3-maxwellcomplib:latest\n",
      "Installing extra requirements: ['neo', 'h5py']\n",
      "Running kilosort3 sorter inside kilosort3-maxwellcomplib:latest\n",
      "Stopping container\n"
     ]
    },
    {
     "data": {
      "application/vnd.jupyter.widget-view+json": {
       "model_id": "2233fd5046a14b0a94a6838d7c2d0a30",
       "version_major": 2,
       "version_minor": 0
      },
      "text/plain": [
       "extract waveforms memmap:   0%|          | 0/299 [00:00<?, ?it/s]"
      ]
     },
     "metadata": {},
     "output_type": "display_data"
    },
    {
     "name": "stdout",
     "output_type": "stream",
     "text": [
      "Sort and extract waveforms takes 639.5193604230008\n"
     ]
    },
    {
     "name": "stderr",
     "output_type": "stream",
     "text": [
      "/home/mmpatil/.local/lib/python3.10/site-packages/spikeinterface/qualitymetrics/misc_metrics.py:514: UserWarning: Units [2, 4, 6, 7, 18, 22, 23, 24, 26, 32, 33, 46, 49, 50, 53, 54, 60, 64, 65, 67, 70, 71, 72, 74, 76, 78, 84, 86, 92, 98, 99, 103, 104, 105, 107, 110, 115, 118, 119, 120, 121, 123, 125, 126, 127, 131, 132, 143, 144, 146, 150, 156, 158, 159, 160, 167, 171, 172, 175, 176, 177, 178, 179, 181, 182, 183, 191, 199, 203, 209, 211, 212, 213, 215, 217, 218, 222, 226] have too few spikes and amplitude_cutoff is set to NaN\n",
      "  warnings.warn(f\"Units {nan_units} have too few spikes and \"\n",
      "/home/mmpatil/.local/lib/python3.10/site-packages/spikeinterface/postprocessing/template_tools.py:19: DeprecationWarning: The spikeinterface.postprocessing.template_tools is submodule is deprecated.Use spikeinterface.core.template_tools instead\n",
      "  _warn()\n"
     ]
    },
    {
     "data": {
      "application/vnd.jupyter.widget-view+json": {
       "model_id": "14e4aecc5b6945c6b65e6f781325810c",
       "version_major": 2,
       "version_minor": 0
      },
      "text/plain": [
       "extract waveforms memmap:   0%|          | 0/299 [00:00<?, ?it/s]"
      ]
     },
     "metadata": {},
     "output_type": "display_data"
    }
   ],
   "source": [
    "file_path= '/mnt/harddrive-2/mmpatil/Data/data.raw.h5' #network data from chip 16848\n",
    "   \n",
    "rec_number= 10# need [0],locations[8][1]to know it while recording\n",
    "\n",
    "time_in_s = 299\n",
    "\n",
    "msp.process_block(rec_number,file_path,time_in_s)"
   ]
  },
  {
   "cell_type": "code",
   "execution_count": null,
   "metadata": {},
   "outputs": [],
   "source": [
    "sorting1min = msp.get_kilosort_result('/home/mmpatil/Documents/spikesorting/MEA_Analysis/Python/sorter_workspace/block_rec0007/kilosort3_rec0007/sorter_output')\n",
    "waveforms1min = msp.get_waveforms_result(sorting1min,'/home/mmpatil/Documents/spikesorting/MEA_Analysis/Python/sorter_workspace/block_rec0007/waveforms_rec0007')\n",
    "waveforms_good = msp.get_waveforms_result(sorting1min,'/home/mmpatil/Documents/spikesorting/MEA_Analysis/Python/sorter_workspace/block_rec0007/waveforms_good_rec0007')"
   ]
  },
  {
   "cell_type": "code",
   "execution_count": null,
   "metadata": {},
   "outputs": [],
   "source": []
  },
  {
   "cell_type": "code",
   "execution_count": null,
   "metadata": {},
   "outputs": [],
   "source": [
    "non_violated_units = msp.remove_violated_units(sorting1min,waveforms1min)\n",
    "print(non_violated_units)\n",
    "template_channel_dict = msp.get_unique_templates_channels(non_violated_units,waveforms1min)\n",
    "non_redundant_templates = list(template_channel_dict.keys())\n",
    "print(non_redundant_templates)"
   ]
  },
  {
   "cell_type": "code",
   "execution_count": null,
   "metadata": {},
   "outputs": [],
   "source": [
    "\n",
    "import os\n",
    "os.chdir('/home/mmpatil/Documents/spikesorting/MEA_Analysis/Python/sorter_workspace/block_rec0005')\n",
    "waveform_good = waveforms1min.select_units(non_redundant_templates,new_folder='waveforms_good_rec0005')\n",
    "waveform_good.run_extract_waveforms()"
   ]
  },
  {
   "cell_type": "code",
   "execution_count": null,
   "metadata": {},
   "outputs": [],
   "source": [
    "print(waveforms_good.unit_ids)"
   ]
  },
  {
   "cell_type": "code",
   "execution_count": null,
   "metadata": {},
   "outputs": [],
   "source": [
    "template1 = waveforms_good.get_template(unit_id = 8)\n",
    "template1 = template1.transpose()\n",
    "print(template1.shape)"
   ]
  },
  {
   "cell_type": "code",
   "execution_count": null,
   "metadata": {},
   "outputs": [],
   "source": [
    "locations = waveforms_good.get_channel_locations()\n",
    "\n"
   ]
  },
  {
   "cell_type": "code",
   "execution_count": null,
   "metadata": {},
   "outputs": [],
   "source": [
    "waveforms_good.run_extract_waveforms()"
   ]
  },
  {
   "cell_type": "code",
   "execution_count": null,
   "metadata": {},
   "outputs": [],
   "source": [
    "%matplotlib widget\n",
    "import spikeinterface.widgets as sw\n",
    "import spikeinterface.postprocessing as sp\n",
    "import matplotlib.pyplot as plt\n",
    "locations = sp.compute_unit_locations(waveforms_good)\n",
    "print(locations.shape)\n",
    "#ax = plt.subplot(111)\n",
    "sw.plot_unit_waveforms(waveforms_good, unit_ids=[8])\n",
    "print(locations)"
   ]
  },
  {
   "cell_type": "code",
   "execution_count": null,
   "metadata": {},
   "outputs": [],
   "source": [
    "metrics = msp.get_quality_metrics(waveforms1min)\n",
    "metrics"
   ]
  },
  {
   "cell_type": "code",
   "execution_count": null,
   "metadata": {},
   "outputs": [],
   "source": [
    "good_units = msp.remove_violated_units(metrics)\n",
    "print(good_units)"
   ]
  },
  {
   "cell_type": "code",
   "execution_count": null,
   "metadata": {},
   "outputs": [],
   "source": [
    "recording,rec_name = msp.get_data_maxwell(file_path,6)\n",
    "channel_location_dict = msp.get_channel_locations_mapping(recording)\n",
    "print(channel_location_dict)"
   ]
  },
  {
   "cell_type": "code",
   "execution_count": null,
   "metadata": {},
   "outputs": [],
   "source": [
    "import spikeinterface.full\n",
    "unit_extremum_channel =spikeinterface.full.get_template_extremum_channel(waveforms1min, peak_sign='neg')\n",
    "    #Step 1: keep only units that are in good_units \n",
    "unit_extremum_channel = {key:value for key,value in unit_extremum_channel.items() if key in good_units}"
   ]
  },
  {
   "cell_type": "code",
   "execution_count": null,
   "metadata": {},
   "outputs": [],
   "source": [
    "# New dictionary with combined information\n",
    "new_dict = {}\n",
    "for template, channel in unit_extremum_channel.items():\n",
    "    if template not in new_dict:\n",
    "        new_dict[template] = {}\n",
    "\n",
    "# Add an entry for this template and its corresponding location to the new dictionary\n",
    "    new_dict[template][channel] = [int(channel_location_dict[channel][0]/17.5),int(channel_location_dict[channel][1]/17.5)]\n",
    "print(new_dict)"
   ]
  },
  {
   "cell_type": "code",
   "execution_count": null,
   "metadata": {},
   "outputs": [],
   "source": [
    "import axon_velocity as av\n",
    "\n",
    "gtr = av.compute_graph_propagation_velocity(template=template1, locations=locations, fs=20000)"
   ]
  },
  {
   "cell_type": "code",
   "execution_count": null,
   "metadata": {},
   "outputs": [],
   "source": [
    "templates = helper.get_templates_with_same_channels('/home/mmpatil/Documents/spikesorting/MEA_Analysis/Python/Electrodes_rec0007')\n",
    "print(templates)"
   ]
  },
  {
   "cell_type": "code",
   "execution_count": null,
   "metadata": {},
   "outputs": [],
   "source": [
    "job_kwargs = dict(n_jobs=64, chunk_duration=\"1s\", progress_bar=True)\n",
    "waveforms_good.run_extract_waveforms(**job_kwargs)\n",
    "msp.analyse_waveforms_sigui(waveforms_good)"
   ]
  },
  {
   "cell_type": "code",
   "execution_count": null,
   "metadata": {},
   "outputs": [],
   "source": []
  },
  {
   "cell_type": "code",
   "execution_count": null,
   "metadata": {},
   "outputs": [],
   "source": [
    "%matplotlib widget"
   ]
  },
  {
   "cell_type": "code",
   "execution_count": null,
   "metadata": {},
   "outputs": [],
   "source": [
    "import spikeinterface.postprocessing as sp\n",
    "\n",
    "locations = sp.compute_unit_locations(waveforms1min)\n",
    "print(locations)\n",
    "import numpy as np\n",
    "#np.savetxt(\"unitloc_10mins.txt\",locations)\n",
    "ax = plt.subplot(111)\n",
    "sw.plot_probe_map(recording,ax=ax,with_channel_ids=False)\n",
    "for x,y in locations:\n",
    "    ax.scatter(x,y)\n"
   ]
  },
  {
   "cell_type": "code",
   "execution_count": null,
   "metadata": {},
   "outputs": [],
   "source": [
    "channel_locations = recording_chunk.get_channel_locations()\n",
    "channel_ids = recording_chunk.get_channel_ids()\n",
    "channel_locations_mappings= {channel_id: location for location, channel_id in zip(channel_locations, channel_ids)}\n",
    "print(channel_locations_mappings)\n",
    "\n"
   ]
  },
  {
   "cell_type": "code",
   "execution_count": null,
   "metadata": {},
   "outputs": [],
   "source": [
    "#thinking the unique locations have all the required electrodes.\n",
    "\n",
    "required_electrodes= {channels :[int(locations[0]/17.5),int(locations[1]/17.5)] for channels, locations in channel_locations_mappings.items() if channels in unique_channels }\n",
    "print(required_electrodes)"
   ]
  },
  {
   "cell_type": "code",
   "execution_count": null,
   "metadata": {},
   "outputs": [],
   "source": [
    "import json\n",
    "\n",
    "with open('electrode_locations_4min.json','w') as fileptr:\n",
    "    json.dump(required_electrodes,fileptr)\n",
    "\n"
   ]
  },
  {
   "cell_type": "code",
   "execution_count": null,
   "metadata": {},
   "outputs": [],
   "source": [
    "with open('electrode_locations_4min.json',) as fileptr:\n",
    "    data = json.load(fileptr)\n",
    "print(data)"
   ]
  },
  {
   "cell_type": "code",
   "execution_count": null,
   "metadata": {},
   "outputs": [],
   "source": [
    "selected_electrodes = [220 * locations[1] + locations[0] for locations in data.values()]\n",
    "print(selected_electrodes)"
   ]
  },
  {
   "cell_type": "code",
   "execution_count": null,
   "metadata": {},
   "outputs": [],
   "source": [
    "val = recording_chunk.get_electrode_info\n",
    "print(val)"
   ]
  },
  {
   "cell_type": "code",
   "execution_count": null,
   "metadata": {},
   "outputs": [],
   "source": [
    "def electrode_rectangle_indices(xmin, ymin, xmax, ymax):\n",
    "    return [220 * y + x for y in range(max(ymin, 0), min(ymax + 1, 120)) for x in range(max(xmin, 0), min(xmax + 1, 220))]\n",
    "\n",
    "\n",
    "def electrode_rectangle_um(xmin, ymin, xmax, ymax):\n",
    "    return electrode_rectangle_indices(int(xmin / 17.5), int(ymin / 17.5), int(xmax / 17.5), int(ymax / 17.5))\n",
    "\n",
    "XMULTIPLIER = 44\n",
    "YMULTIPLIER = 20\n",
    "\n",
    "for y in range(6):\n",
    "    for x in range(5):\n",
    "        #print(\"(\",XMULTIPLIER*x,YMULTIPLIER*y,XMULTIPLIER*x+XMULTIPLIER-1,YMULTIPLIER*y+YMULTIPLIER-1,\")\")\n",
    "        print(electrode_rectangle_indices(XMULTIPLIER*x,YMULTIPLIER*y,XMULTIPLIER*x+XMULTIPLIER-1,YMULTIPLIER*y+YMULTIPLIER-1))\n",
    "\n",
    "# print(electrode_rectangle_indices(218,0,219,1))"
   ]
  },
  {
   "cell_type": "code",
   "execution_count": null,
   "metadata": {},
   "outputs": [],
   "source": [
    "import datetime as datetime\n",
    "\n",
    "now = datetime.datetime.now()\n",
    "strfmt = now.strftime(\"%Y%m%d_%H_%M_%S\")\n",
    "print(strfmt)"
   ]
  },
  {
   "cell_type": "code",
   "execution_count": null,
   "metadata": {},
   "outputs": [],
   "source": [
    "import maxlab.saving\n",
    "\n",
    "obj = maxlab.saving.Saving()\n",
    "\n",
    "obj.start()"
   ]
  },
  {
   "cell_type": "code",
   "execution_count": null,
   "metadata": {},
   "outputs": [],
   "source": [
    "fig, ax1 = plt.subplots(figsize=(15,5))\n",
    "spike_times = {}\n",
    "for idx, unit_id in enumerate(clean_sorting.get_unit_ids()):\n",
    "    spike_train = clean_sorting.get_unit_spike_train(unit_id,start_frame=1*fs,end_frame=100*fs)\n",
    "    print(spike_train)\n",
    "    if len(spike_train) > 0:\n",
    "        spike_times[idx] = spike_train / float(fs)\n",
    "        #print(spike_times[unit_id])\n",
    "       # print(unit_id*np.ones_like(spike_times[unit_id]))\n",
    "        ax1.plot(spike_times[idx],idx*np.ones_like(spike_times[idx]),\n",
    "                             marker='|', mew=1, markersize=3,\n",
    "                             ls='',color='black')\n",
    "                       "
   ]
  },
  {
   "cell_type": "code",
   "execution_count": null,
   "metadata": {},
   "outputs": [],
   "source": [
    "t_start = 0 \n",
    "t_end = int(600*fs)\n",
    "dt = 1\n",
    "#initialising the spike train.\n",
    "units= clean_sorting.get_num_units()\n",
    "frame_numbers = t_end\n",
    "spike_array = np.zeros((units,frame_numbers), dtype= int)\n",
    "for idx, unit_id in enumerate(clean_sorting.get_unit_ids()):\n",
    "    spike_train = clean_sorting.get_unit_spike_train(unit_id,start_frame=t_start,end_frame=t_end)\n",
    "    for spike_time in spike_train:\n",
    "        spike_array[idx,spike_time] = 1\n",
    "\n",
    "print(spike_array)\n",
    "\n",
    "print(spike_array[0,63782])"
   ]
  },
  {
   "cell_type": "code",
   "execution_count": null,
   "metadata": {},
   "outputs": [],
   "source": [
    "np.savez_compressed('spike_array_compressed_blockactivity.npz',spike_array)"
   ]
  },
  {
   "cell_type": "code",
   "execution_count": null,
   "metadata": {},
   "outputs": [],
   "source": [
    "with np.load('spike_array_compressed_blockactivity.npz') as data:\n",
    "    decompressed_data = data['arr_0']\n",
    "\n",
    "print(np.array_equal(spike_array, decompressed_data))\n"
   ]
  },
  {
   "cell_type": "code",
   "execution_count": null,
   "metadata": {},
   "outputs": [],
   "source": [
    "extremum_channels_ids =spikeinterface.full.get_template_extremum_channel(waveforms, peak_sign='neg')\n",
    "print(extremum_channels_ids)\n",
    "\n"
   ]
  },
  {
   "cell_type": "code",
   "execution_count": null,
   "metadata": {},
   "outputs": [],
   "source": [
    "colors = [ 'Lime','Gold', 'Orange','Orangered']\n",
    "fig, ax = plt.subplots()\n",
    "wf=[]\n",
    "for i, unit_id in enumerate([34, 49]):\n",
    "    wf = waveforms.get_waveforms(unit_id)\n",
    "    color = colors[i]\n",
    "    ax.plot(wf[:, :,channel_association_dict[594]].T, color=color, lw=0.3)\n",
    "print(wf.shape)"
   ]
  },
  {
   "cell_type": "code",
   "execution_count": null,
   "metadata": {},
   "outputs": [],
   "source": [
    "colors = [ 'Fuchsia','Olive', 'Teal']\n",
    "fig, ax = plt.subplots()\n",
    "wf=[]\n",
    "for i, unit_id in enumerate([218]):\n",
    "    wf = waveform_good.get_waveforms(unit_id)\n",
    "    ax.plot(wf[:, :,channel_association_dict[902]].T, color=colors[0], lw=0.3)\n",
    "    ax.plot(wf[:, :,channel_association_dict[613]].T, color=colors[1], lw=0.3)\n",
    "    ax.plot(wf[:, :,channel_association_dict[663]].T, color=colors[2], lw=0.3)\n",
    "print(wf.shape)"
   ]
  },
  {
   "cell_type": "code",
   "execution_count": null,
   "metadata": {},
   "outputs": [],
   "source": [
    "peak_shift=si.get_template_extremum_channel_peak_shift(waveform_good)\n",
    "\n",
    "print(peak_shift)"
   ]
  },
  {
   "cell_type": "code",
   "execution_count": null,
   "metadata": {},
   "outputs": [],
   "source": [
    "colors = [ 'Fuchsia','Olive', 'Teal']\n",
    "fig, ax = plt.subplots()\n",
    "for i, unit_id in enumerate([26, 40 , 46]):\n",
    "    template = waveforms.get_template(unit_id)\n",
    "    color = colors[i]\n",
    "    ax.plot(template[:, channel_association_dict[780]].T, color=color, lw=3)\n",
    "print(template.shape)"
   ]
  },
  {
   "cell_type": "code",
   "execution_count": null,
   "metadata": {},
   "outputs": [],
   "source": [
    "w = sw.plot_unit_templates(waveform_good, unit_ids=[183],plot_channels=False )"
   ]
  },
  {
   "cell_type": "code",
   "execution_count": null,
   "metadata": {},
   "outputs": [],
   "source": [
    "w = sw.plot_unit_waveforms(waveform_good, unit_ids=[2,4,7])\n",
    "w = sw.plot_unit_templates(waveform_good, unit_ids=[2,4,7])\n",
    "w = sw.plot_unit_probe_map(waveform_good, unit_ids=[2,4,7])"
   ]
  },
  {
   "cell_type": "code",
   "execution_count": null,
   "metadata": {},
   "outputs": [],
   "source": [
    "    all_units = sortingKS3.get_unit_ids()\n",
    "    print(f\"Total units counts {len(all_units)}\")\n",
    "    print(f\"Units : {all_units}\")\n",
    "    rp_contamination,rp_violation = qm.compute_refrac_period_violations(waveforms)\n",
    "    print(f\"rp_contaminaiton : {rp_contamination}\")\n",
    "\n",
    "    refrct_violated_units = [unit for unit,ratio in rp_contamination.items() if ratio >0.0]\n",
    "\n",
    "    snr_ratio = qm.compute_snrs(waveforms)\n",
    "    print(f\"SNR ratio : {snr_ratio}\")\n",
    "    snr_violated_units = [unit for unit,ratio in snr_ratio.items() if ratio >5]\n",
    "\n",
    "    firing_rate = qm.compute_firing_rates(waveforms)\n",
    "    print(f\"Firing rate : {firing_rate}\")\n",
    "    fr_violated_units = [unit for unit,ratio in firing_rate.items() if ratio <=0.1]\n",
    "\n",
    "    violated_units = list(set(refrct_violated_units+fr_violated_units))\n",
    "    print(f\"violated units {violated_units} removed\")\n",
    "\n",
    "    \n",
    "    good_units = [units for units in all_units if units not in violated_units ]"
   ]
  }
 ],
 "metadata": {
  "kernelspec": {
   "display_name": "Python 3",
   "language": "python",
   "name": "python3"
  },
  "language_info": {
   "codemirror_mode": {
    "name": "ipython",
    "version": 3
   },
   "file_extension": ".py",
   "mimetype": "text/x-python",
   "name": "python",
   "nbconvert_exporter": "python",
   "pygments_lexer": "ipython3",
   "version": "3.10.6"
  },
  "orig_nbformat": 4,
  "vscode": {
   "interpreter": {
    "hash": "916dbcbb3f70747c44a77c7bcd40155683ae19c65e1c03b4aa3499c5328201f1"
   }
  }
 },
 "nbformat": 4,
 "nbformat_minor": 2
}
