{
 "cells": [
  {
   "cell_type": "code",
   "execution_count": 1,
   "metadata": {},
   "outputs": [],
   "source": [
    "import mea_analysis_pipeline as msp\n",
    "import helper_functions as helper"
   ]
  },
  {
   "cell_type": "code",
   "execution_count": null,
   "metadata": {},
   "outputs": [],
   "source": [
    "import importlib\n",
    "importlib.reload(msp)\n",
    "importlib.reload(helper)"
   ]
  },
  {
   "cell_type": "code",
   "execution_count": null,
   "metadata": {},
   "outputs": [],
   "source": [
    "file_path = '/mnt/disk15tb/mmpatil/Spikesorting/Data/fullscan_5min_16757.raw.h5'\n"
   ]
  },
  {
   "cell_type": "code",
   "execution_count": null,
   "metadata": {},
   "outputs": [],
   "source": [
    "\n",
    "rec_numbers = [ 0 ] # need [0],locations[8][1]to know it while recording\n",
    "\n",
    "time_in_s = 300\n",
    "for rec_number in rec_numbers:\n",
    "    msp.process_block(rec_number,file_path,time_in_s)"
   ]
  },
  {
   "cell_type": "code",
   "execution_count": null,
   "metadata": {},
   "outputs": [],
   "source": [
    "sorter_path = '/mnt/disk15tb/mmpatil/Spikesorting/sorter_output/sorter_5min_16757/'"
   ]
  },
  {
   "cell_type": "code",
   "execution_count": null,
   "metadata": {},
   "outputs": [],
   "source": [
    "recording,rec_name = msp.get_data_maxwell(file_path,9)\n",
    "print(rec_name)"
   ]
  },
  {
   "cell_type": "code",
   "execution_count": null,
   "metadata": {},
   "outputs": [],
   "source": [
    "sorting = msp.get_kilosort_result(sorter_path+'block_rec0009/kilosort3_rec0009/sorter_output')\n",
    "waveforms = msp.get_waveforms_result(sorter_path+'block_rec0009/waveforms_rec0009',sorter=sorting)\n",
    "waveforms_good = msp.get_waveforms_result(sorter_path+'block_rec0009/waveforms_good_rec0009',sorter=sorting)"
   ]
  },
  {
   "cell_type": "code",
   "execution_count": null,
   "metadata": {},
   "outputs": [],
   "source": [
    "sorting = msp.get_kilosort_result(f\"{sorter_path}block_{rec_name}/kilosort3_{rec_name}/sorter_output\")\n",
    "waveforms = msp.get_waveforms_result(f\"{sorter_path}block_{rec_name}/waveforms_{rec_name}\",sorter=sorting)\n",
    "waveforms_good = msp.get_waveforms_result(f\"{sorter_path}block_{rec_name}/waveforms_good_{rec_name}\",sorter=sorting)"
   ]
  },
  {
   "cell_type": "code",
   "execution_count": null,
   "metadata": {},
   "outputs": [],
   "source": [
    "\n",
    "msp.analyse_waveforms_sigui(waveforms_good) #Need to implement compute noise levels."
   ]
  },
  {
   "cell_type": "code",
   "execution_count": null,
   "metadata": {},
   "outputs": [],
   "source": [
    "import pandas as pd\n",
    "pd.set_option('display.max_rows', 500)\n",
    "metrics = msp.get_quality_metrics(waveforms_good)\n",
    "metrics"
   ]
  },
  {
   "cell_type": "code",
   "execution_count": null,
   "metadata": {},
   "outputs": [],
   "source": [
    "indexes = metrics[(metrics['firing_rate']<0.5 )|(metrics['isi_violations_ratio']>=1)].index"
   ]
  },
  {
   "cell_type": "code",
   "execution_count": null,
   "metadata": {},
   "outputs": [],
   "source": [
    "print(indexes)"
   ]
  },
  {
   "cell_type": "code",
   "execution_count": null,
   "metadata": {},
   "outputs": [],
   "source": [
    "import spikeinterface.widgets as sw\n",
    "import spikeinterface.full\n",
    "%matplotlib widget\n",
    "sw.plot_probe_map(recording,with_channel_ids=False)"
   ]
  },
  {
   "cell_type": "code",
   "execution_count": null,
   "metadata": {},
   "outputs": [],
   "source": [
    "job_kwargs = dict(n_jobs=64, chunk_duration=\"1s\", progress_bar=True)\n",
    "waveforms_good.run_extract_waveforms(**job_kwargs)"
   ]
  },
  {
   "cell_type": "code",
   "execution_count": null,
   "metadata": {},
   "outputs": [],
   "source": [
    "import spikeinterface.postprocessing as sp\n",
    "import matplotlib.pyplot as plt\n",
    "import spikeinterface.widgets as sw\n",
    "%matplotlib widget\n",
    "locations = sp.compute_unit_locations(waveforms_good)\n",
    "print(type(locations))\n",
    "import numpy as np\n",
    "#np.savetxt(\"unitloc_10mins.txt\",locations)\n",
    "ax = plt.subplot(111)\n",
    "sw.plot_probe_map(recording,ax=ax,with_channel_ids=False)\n",
    "for x,y in locations:\n",
    "    ax.scatter(x,y)\n",
    "plt.show()"
   ]
  },
  {
   "cell_type": "code",
   "execution_count": null,
   "metadata": {},
   "outputs": [],
   "source": [
    "import spikeinterface.full\n",
    "unit_extremum_channel =spikeinterface.full.get_template_extremum_channel(waveforms_good, peak_sign='neg')\n",
    "print(unit_extremum_channel)\n",
    "\n",
    "x = [int(x) for x in unit_extremum_channel.values()]\n",
    "x.sort()\n",
    "print(x)"
   ]
  },
  {
   "cell_type": "code",
   "execution_count": null,
   "metadata": {},
   "outputs": [],
   "source": []
  },
  {
   "cell_type": "code",
   "execution_count": null,
   "metadata": {},
   "outputs": [],
   "source": [
    "import numpy as np\n",
    "channel_ids = spikeinterface.full.get_closest_channels(recording,num_channels=9)\n",
    "print(channel_ids[0])\n",
    "indices = np.where(channel_ids[0] ==571)\n",
    "row_index = indices[0][0]\n",
    "\n",
    "# Retrieve the row\n",
    "row = channel_ids[0][row_index]\n",
    "\n",
    "\n",
    "row = [ str(x) for x in row]\n",
    "\n",
    "print(row)"
   ]
  },
  {
   "cell_type": "code",
   "execution_count": null,
   "metadata": {},
   "outputs": [],
   "source": [
    "sw.plot_timeseries(recording,channel_ids=row,time_range=[0.5,0.6],return_scaled=True,show_channel_ids=True)"
   ]
  },
  {
   "cell_type": "code",
   "execution_count": null,
   "metadata": {},
   "outputs": [],
   "source": [
    "row = [ '8','31','869','895','214','423','701','923','118']\n",
    "list_traces = []\n",
    "\n",
    "traces = recording.get_traces(\n",
    "\n",
    "        channel_ids=row,\n",
    "        start_frame=int(0.825 *20000),\n",
    "        end_frame=int(0.925*20000),\n",
    "\n",
    "    )\n",
    "print(traces)"
   ]
  },
  {
   "cell_type": "code",
   "execution_count": null,
   "metadata": {},
   "outputs": [],
   "source": []
  },
  {
   "cell_type": "code",
   "execution_count": null,
   "metadata": {},
   "outputs": [],
   "source": [
    "import numpy as np\n",
    "import matplotlib.pyplot as plt\n",
    "import scalebury\n",
    "%matplotlib widget\n",
    "# Generate sample data\n",
    "\n",
    "\n",
    "## Set up the figure and axis\n",
    "fig, ax = plt.subplots(nrows=9, ncols=1, sharex=True)\n",
    "\n",
    "# Loop through each column and plot it on a separate axis\n",
    "for i in range(9):\n",
    "    ax[i].plot(traces[:, i])\n",
    "    ax[i]=scalebury.add_scalebar(ax[i])\n",
    "    #ax[i].set_ylabel(f\"C{row[i]}\")\n",
    "    #ax[i].set_ylim([480, 540])\n",
    "# Set the x-axis label on the bottom subplot\n",
    "#ax[-1].set_xlabel(\"samples ( Sampling rate 20K)\")\n",
    "\n",
    "# Show the plot\n",
    "plt.show()"
   ]
  },
  {
   "cell_type": "code",
   "execution_count": null,
   "metadata": {},
   "outputs": [],
   "source": [
    "row = [ '8','31','869','895','214','423','701','923','118']\n",
    "list_traces = []\n",
    "\n",
    "traces = recording.get_traces(\n",
    "\n",
    "        channel_ids=row,\n",
    "        start_frame=int(0.869 *20000),\n",
    "        end_frame=int(0.872*20000),\n",
    "\n",
    "    )\n",
    "print(traces)"
   ]
  },
  {
   "cell_type": "code",
   "execution_count": null,
   "metadata": {},
   "outputs": [],
   "source": [
    "%matplotlib widget\n",
    "import numpy as np\n",
    "import matplotlib.pyplot as plt\n",
    "import scalebury\n",
    "# Generate sample data\n",
    "\n",
    "\n",
    "## Set up the figure and axis\n",
    "fig, ax = plt.subplots(nrows=9, ncols=1, sharex=True)\n",
    "\n",
    "# Loop through each column and plot it on a separate axis\n",
    "for i in range(9):\n",
    "    ax[i].plot(traces[:, i])\n",
    "    ax[i]=scalebury.add_scalebar(ax[i])\n",
    "    #ax[i].set_ylabel(f\"C{row[i]}\")\n",
    "    #ax[i].set_ylim([480, 540])\n",
    "# Set the x-axis label on the bottom subplot\n",
    "#ax[-1].set_xlabel(\"samples ( Sampling rate 20K)\")\n",
    "\n",
    "# Show the plot\n",
    "plt.show()"
   ]
  },
  {
   "cell_type": "code",
   "execution_count": null,
   "metadata": {},
   "outputs": [],
   "source": [
    "import scalebury\n",
    "#obj = scalebury.AnchoredScaleBar(ax.transpose)\n",
    "ax2 = scalebury.add_scalebar(ax[1])\n",
    "plt.show()"
   ]
  },
  {
   "cell_type": "code",
   "execution_count": null,
   "metadata": {},
   "outputs": [],
   "source": []
  },
  {
   "cell_type": "code",
   "execution_count": null,
   "metadata": {},
   "outputs": [],
   "source": [
    "sw.plot_unit_templates(waveforms_good,channel_ids = row)"
   ]
  },
  {
   "cell_type": "code",
   "execution_count": null,
   "metadata": {},
   "outputs": [],
   "source": [
    "sw.plot_unit_waveforms(waveforms_good,unit_ids=[112])"
   ]
  },
  {
   "cell_type": "code",
   "execution_count": null,
   "metadata": {},
   "outputs": [],
   "source": [
    "channel_ids = recording.get_channel_ids()\n",
    "print(channel_ids)\n",
    "channel_association_dict = {int(y):x for x,y in enumerate(channel_ids) }\n",
    "print(channel_association_dict)"
   ]
  },
  {
   "cell_type": "code",
   "execution_count": null,
   "metadata": {},
   "outputs": [],
   "source": [
    "import matplotlib.pyplot as plt\n",
    "fig, ax = plt.subplots()\n",
    "for i, unit_id in enumerate([112]):\n",
    "    template = waveforms.get_waveforms(unit_id)\n",
    "    \n",
    "    ax.plot(template.T, lw=3, color ='Fuchsia')\n",
    "print(template.shape)"
   ]
  },
  {
   "cell_type": "code",
   "execution_count": null,
   "metadata": {},
   "outputs": [],
   "source": [
    "data = traces\n",
    "data_scaled = (data - np.mean(data, axis=0)) / np.std(data, axis=0)\n",
    "fig = plt.figure()\n",
    "for i, channel in enumerate(row):\n",
    "    plt.plot(data_scaled[:, i],label = channel)\n",
    "\n",
    "# Show the plot\n",
    "plt.legend()\n",
    "plt.show()"
   ]
  },
  {
   "cell_type": "code",
   "execution_count": null,
   "metadata": {},
   "outputs": [],
   "source": [
    "\n",
    "\n",
    "sw.plot_unit_waveforms(waveforms_good,unit_ids = [112])"
   ]
  },
  {
   "cell_type": "code",
   "execution_count": null,
   "metadata": {},
   "outputs": [],
   "source": [
    "sw.plot_unit_templates(waveforms_good,unit_ids = [112])"
   ]
  },
  {
   "cell_type": "code",
   "execution_count": null,
   "metadata": {},
   "outputs": [],
   "source": [
    "msp.export_to_phy_datatype(waveforms_good)"
   ]
  },
  {
   "cell_type": "code",
   "execution_count": null,
   "metadata": {},
   "outputs": [],
   "source": [
    "!phy extract-waveforms /home/mmpatil/Documents/spikesorting/MEA_Analysis/Python/phy_folder/params.py"
   ]
  },
  {
   "cell_type": "code",
   "execution_count": null,
   "metadata": {},
   "outputs": [],
   "source": [
    "!phy template-gui  /home/mmpatil/Documents/spikesorting/MEA_Analysis/Python/phy_folder/params.py"
   ]
  },
  {
   "cell_type": "code",
   "execution_count": null,
   "metadata": {},
   "outputs": [],
   "source": []
  },
  {
   "cell_type": "code",
   "execution_count": null,
   "metadata": {},
   "outputs": [],
   "source": [
    "non_violated_units = msp.remove_violated_units(sorting1min,waveforms1min)\n",
    "print(non_violated_units)\n",
    "template_channel_dict = msp.get_unique_templates_channels(non_violated_units,waveforms1min)\n",
    "non_redundant_templates = list(template_channel_dict.keys())\n",
    "print(non_redundant_templates)"
   ]
  },
  {
   "cell_type": "code",
   "execution_count": null,
   "metadata": {},
   "outputs": [],
   "source": [
    "\n",
    "import os\n",
    "os.chdir('/home/mmpatil/Documents/spikesorting/MEA_Analysis/Python/sorter_workspace/block_rec0005')\n",
    "waveform_good = waveforms1min.select_units(non_redundant_templates,new_folder='waveforms_good_rec0005')\n",
    "waveform_good.run_extract_waveforms()"
   ]
  },
  {
   "cell_type": "code",
   "execution_count": null,
   "metadata": {},
   "outputs": [],
   "source": [
    "print(waveforms_good.unit_ids)"
   ]
  },
  {
   "cell_type": "code",
   "execution_count": null,
   "metadata": {},
   "outputs": [],
   "source": [
    "template1 = waveforms_good.get_template(unit_id = 8)\n",
    "template1 = template1.transpose()\n",
    "print(template1.shape)"
   ]
  },
  {
   "cell_type": "code",
   "execution_count": null,
   "metadata": {},
   "outputs": [],
   "source": [
    "locations = waveforms_good.get_channel_locations()\n",
    "\n"
   ]
  },
  {
   "cell_type": "code",
   "execution_count": null,
   "metadata": {},
   "outputs": [],
   "source": [
    "waveforms_good.run_extract_waveforms()"
   ]
  },
  {
   "cell_type": "code",
   "execution_count": null,
   "metadata": {},
   "outputs": [],
   "source": [
    "%matplotlib widget\n",
    "import spikeinterface.widgets as sw\n",
    "import spikeinterface.postprocessing as sp\n",
    "import matplotlib.pyplot as plt\n",
    "locations = sp.compute_unit_locations(waveforms_good)\n",
    "print(locations.shape)\n",
    "#ax = plt.subplot(111)\n",
    "sw.plot_unit_waveforms(waveforms_good, unit_ids=[8])\n",
    "print(locations)"
   ]
  },
  {
   "cell_type": "code",
   "execution_count": null,
   "metadata": {},
   "outputs": [],
   "source": []
  },
  {
   "cell_type": "code",
   "execution_count": null,
   "metadata": {},
   "outputs": [],
   "source": [
    "good_units = msp.remove_violated_units(metrics)\n",
    "print(good_units)"
   ]
  },
  {
   "cell_type": "code",
   "execution_count": null,
   "metadata": {},
   "outputs": [],
   "source": [
    "recording,rec_name = msp.get_data_maxwell(file_path,6)\n",
    "channel_location_dict = msp.get_channel_locations_mapping(recording)\n",
    "print(channel_location_dict)"
   ]
  },
  {
   "cell_type": "code",
   "execution_count": null,
   "metadata": {},
   "outputs": [],
   "source": [
    "import spikeinterface.full\n",
    "unit_extremum_channel =spikeinterface.full.get_template_extremum_channel(waveforms1min, peak_sign='neg')\n",
    "    #Step 1: keep only units that are in good_units \n",
    "unit_extremum_channel = {key:value for key,value in unit_extremum_channel.items() if key in good_units}"
   ]
  },
  {
   "cell_type": "code",
   "execution_count": null,
   "metadata": {},
   "outputs": [],
   "source": [
    "# New dictionary with combined information\n",
    "new_dict = {}\n",
    "for template, channel in unit_extremum_channel.items():\n",
    "    if template not in new_dict:\n",
    "        new_dict[template] = {}\n",
    "\n",
    "# Add an entry for this template and its corresponding location to the new dictionary\n",
    "    new_dict[template][channel] = [int(channel_location_dict[channel][0]/17.5),int(channel_location_dict[channel][1]/17.5)]\n",
    "print(new_dict)"
   ]
  },
  {
   "cell_type": "code",
   "execution_count": null,
   "metadata": {},
   "outputs": [],
   "source": [
    "import axon_velocity as av\n",
    "\n",
    "gtr = av.compute_graph_propagation_velocity(template=template1, locations=locations, fs=20000)"
   ]
  },
  {
   "cell_type": "code",
   "execution_count": null,
   "metadata": {},
   "outputs": [],
   "source": [
    "templates = helper.get_templates_with_same_channels('/home/mmpatil/Documents/spikesorting/MEA_Analysis/Python/Electrodes_rec0010')\n",
    "print(templates)"
   ]
  },
  {
   "cell_type": "code",
   "execution_count": null,
   "metadata": {},
   "outputs": [],
   "source": [
    "metrics = msp.get_quality_metrics(waveforms_good)"
   ]
  },
  {
   "cell_type": "code",
   "execution_count": null,
   "metadata": {},
   "outputs": [],
   "source": []
  },
  {
   "cell_type": "code",
   "execution_count": null,
   "metadata": {},
   "outputs": [],
   "source": [
    "metrics"
   ]
  },
  {
   "cell_type": "code",
   "execution_count": null,
   "metadata": {},
   "outputs": [],
   "source": []
  },
  {
   "cell_type": "code",
   "execution_count": null,
   "metadata": {},
   "outputs": [],
   "source": [
    "%matplotlib widget"
   ]
  },
  {
   "cell_type": "code",
   "execution_count": null,
   "metadata": {},
   "outputs": [],
   "source": [
    "import spikeinterface.postprocessing as sp\n",
    "\n",
    "locations = sp.compute_unit_locations(waveforms1min)\n",
    "print(locations)\n",
    "import numpy as np\n",
    "#np.savetxt(\"unitloc_10mins.txt\",locations)\n",
    "ax = plt.subplot(111)\n",
    "sw.plot_probe_map(recording,ax=ax,with_channel_ids=False)\n",
    "for x,y in locations:\n",
    "    ax.scatter(x,y)\n"
   ]
  },
  {
   "cell_type": "code",
   "execution_count": null,
   "metadata": {},
   "outputs": [],
   "source": [
    "channel_locations = recording_chunk.get_channel_locations()\n",
    "channel_ids = recording_chunk.get_channel_ids()\n",
    "channel_locations_mappings= {channel_id: location for location, channel_id in zip(channel_locations, channel_ids)}\n",
    "print(channel_locations_mappings)\n",
    "\n"
   ]
  },
  {
   "cell_type": "code",
   "execution_count": null,
   "metadata": {},
   "outputs": [],
   "source": [
    "#thinking the unique locations have all the required electrodes.\n",
    "\n",
    "required_electrodes= {channels :[int(locations[0]/17.5),int(locations[1]/17.5)] for channels, locations in channel_locations_mappings.items() if channels in unique_channels }\n",
    "print(required_electrodes)"
   ]
  },
  {
   "cell_type": "code",
   "execution_count": null,
   "metadata": {},
   "outputs": [],
   "source": [
    "import json\n",
    "\n",
    "with open('electrode_locations_4min.json','w') as fileptr:\n",
    "    json.dump(required_electrodes,fileptr)\n",
    "\n"
   ]
  },
  {
   "cell_type": "code",
   "execution_count": null,
   "metadata": {},
   "outputs": [],
   "source": [
    "with open('electrode_locations_4min.json',) as fileptr:\n",
    "    data = json.load(fileptr)\n",
    "print(data)"
   ]
  },
  {
   "cell_type": "code",
   "execution_count": null,
   "metadata": {},
   "outputs": [],
   "source": [
    "selected_electrodes = [220 * locations[1] + locations[0] for locations in data.values()]\n",
    "print(selected_electrodes)"
   ]
  },
  {
   "cell_type": "code",
   "execution_count": null,
   "metadata": {},
   "outputs": [],
   "source": [
    "val = recording_chunk.get_electrode_info\n",
    "print(val)"
   ]
  },
  {
   "cell_type": "code",
   "execution_count": null,
   "metadata": {},
   "outputs": [],
   "source": [
    "def electrode_rectangle_indices(xmin, ymin, xmax, ymax):\n",
    "    return [220 * y + x for y in range(max(ymin, 0), min(ymax + 1, 120)) for x in range(max(xmin, 0), min(xmax + 1, 220))]\n",
    "\n",
    "\n",
    "def electrode_rectangle_um(xmin, ymin, xmax, ymax):\n",
    "    return electrode_rectangle_indices(int(xmin / 17.5), int(ymin / 17.5), int(xmax / 17.5), int(ymax / 17.5))\n",
    "\n",
    "XMULTIPLIER = 44\n",
    "YMULTIPLIER = 20\n",
    "\n",
    "for y in range(6):\n",
    "    for x in range(5):\n",
    "        #print(\"(\",XMULTIPLIER*x,YMULTIPLIER*y,XMULTIPLIER*x+XMULTIPLIER-1,YMULTIPLIER*y+YMULTIPLIER-1,\")\")\n",
    "        print(electrode_rectangle_indices(XMULTIPLIER*x,YMULTIPLIER*y,XMULTIPLIER*x+XMULTIPLIER-1,YMULTIPLIER*y+YMULTIPLIER-1))\n",
    "\n",
    "# print(electrode_rectangle_indices(218,0,219,1))"
   ]
  },
  {
   "cell_type": "code",
   "execution_count": null,
   "metadata": {},
   "outputs": [],
   "source": [
    "import datetime as datetime\n",
    "\n",
    "now = datetime.datetime.now()\n",
    "strfmt = now.strftime(\"%Y%m%d_%H_%M_%S\")\n",
    "print(strfmt)"
   ]
  },
  {
   "cell_type": "code",
   "execution_count": null,
   "metadata": {},
   "outputs": [],
   "source": [
    "import maxlab.saving\n",
    "\n",
    "obj = maxlab.saving.Saving()\n",
    "\n",
    "obj.start()"
   ]
  },
  {
   "cell_type": "code",
   "execution_count": null,
   "metadata": {},
   "outputs": [],
   "source": [
    "fig, ax1 = plt.subplots(figsize=(15,5))\n",
    "spike_times = {}\n",
    "for idx, unit_id in enumerate(clean_sorting.get_unit_ids()):\n",
    "    spike_train = clean_sorting.get_unit_spike_train(unit_id,start_frame=1*fs,end_frame=100*fs)\n",
    "    print(spike_train)\n",
    "    if len(spike_train) > 0:\n",
    "        spike_times[idx] = spike_train / float(fs)\n",
    "        #print(spike_times[unit_id])\n",
    "       # print(unit_id*np.ones_like(spike_times[unit_id]))\n",
    "        ax1.plot(spike_times[idx],idx*np.ones_like(spike_times[idx]),\n",
    "                             marker='|', mew=1, markersize=3,\n",
    "                             ls='',color='black')\n",
    "                       "
   ]
  },
  {
   "cell_type": "code",
   "execution_count": null,
   "metadata": {},
   "outputs": [],
   "source": [
    "t_start = 0 \n",
    "t_end = int(600*fs)\n",
    "dt = 1\n",
    "#initialising the spike train.\n",
    "units= clean_sorting.get_num_units()\n",
    "frame_numbers = t_end\n",
    "spike_array = np.zeros((units,frame_numbers), dtype= int)\n",
    "for idx, unit_id in enumerate(clean_sorting.get_unit_ids()):\n",
    "    spike_train = clean_sorting.get_unit_spike_train(unit_id,start_frame=t_start,end_frame=t_end)\n",
    "    for spike_time in spike_train:\n",
    "        spike_array[idx,spike_time] = 1\n",
    "\n",
    "print(spike_array)\n",
    "\n",
    "print(spike_array[0,63782])"
   ]
  },
  {
   "cell_type": "code",
   "execution_count": null,
   "metadata": {},
   "outputs": [],
   "source": [
    "np.savez_compressed('spike_array_compressed_blockactivity.npz',spike_array)"
   ]
  },
  {
   "cell_type": "code",
   "execution_count": null,
   "metadata": {},
   "outputs": [],
   "source": [
    "with np.load('spike_array_compressed_blockactivity.npz') as data:\n",
    "    decompressed_data = data['arr_0']\n",
    "\n",
    "print(np.array_equal(spike_array, decompressed_data))\n"
   ]
  },
  {
   "cell_type": "code",
   "execution_count": null,
   "metadata": {},
   "outputs": [],
   "source": [
    "extremum_channels_ids =spikeinterface.full.get_template_extremum_channel(waveforms, peak_sign='neg')\n",
    "print(extremum_channels_ids)\n",
    "\n"
   ]
  },
  {
   "cell_type": "code",
   "execution_count": null,
   "metadata": {},
   "outputs": [],
   "source": [
    "colors = [ 'Lime','Gold', 'Orange','Orangered']\n",
    "fig, ax = plt.subplots()\n",
    "wf=[]\n",
    "for i, unit_id in enumerate([34, 49]):\n",
    "    wf = waveforms.get_waveforms(unit_id)\n",
    "    color = colors[i]\n",
    "    ax.plot(wf[:, :,channel_association_dict[594]].T, color=color, lw=0.3)\n",
    "print(wf.shape)"
   ]
  },
  {
   "cell_type": "code",
   "execution_count": null,
   "metadata": {},
   "outputs": [],
   "source": [
    "colors = [ 'Fuchsia','Olive', 'Teal']\n",
    "fig, ax = plt.subplots()\n",
    "wf=[]\n",
    "for i, unit_id in enumerate([218]):\n",
    "    wf = waveform_good.get_waveforms(unit_id)\n",
    "    ax.plot(wf[:, :,channel_association_dict[902]].T, color=colors[0], lw=0.3)\n",
    "    ax.plot(wf[:, :,channel_association_dict[613]].T, color=colors[1], lw=0.3)\n",
    "    ax.plot(wf[:, :,channel_association_dict[663]].T, color=colors[2], lw=0.3)\n",
    "print(wf.shape)"
   ]
  },
  {
   "cell_type": "code",
   "execution_count": null,
   "metadata": {},
   "outputs": [],
   "source": [
    "peak_shift=si.get_template_extremum_channel_peak_shift(waveform_good)\n",
    "\n",
    "print(peak_shift)"
   ]
  },
  {
   "cell_type": "code",
   "execution_count": null,
   "metadata": {},
   "outputs": [],
   "source": [
    "colors = [ 'Fuchsia','Olive', 'Teal']\n",
    "fig, ax = plt.subplots()\n",
    "for i, unit_id in enumerate([26, 40 , 46]):\n",
    "    template = waveforms.get_template(unit_id)\n",
    "    color = colors[i]\n",
    "    ax.plot(template[:, channel_association_dict[780]].T, color=color, lw=3)\n",
    "print(template.shape)"
   ]
  },
  {
   "cell_type": "code",
   "execution_count": null,
   "metadata": {},
   "outputs": [],
   "source": [
    "w = sw.plot_unit_templates(waveform_good, unit_ids=[183],plot_channels=False )"
   ]
  },
  {
   "cell_type": "code",
   "execution_count": null,
   "metadata": {},
   "outputs": [],
   "source": [
    "w = sw.plot_unit_waveforms(waveform_good, unit_ids=[2,4,7])\n",
    "w = sw.plot_unit_templates(waveform_good, unit_ids=[2,4,7])\n",
    "w = sw.plot_unit_probe_map(waveform_good, unit_ids=[2,4,7])"
   ]
  },
  {
   "cell_type": "code",
   "execution_count": null,
   "metadata": {},
   "outputs": [],
   "source": [
    "    all_units = sortingKS3.get_unit_ids()\n",
    "    print(f\"Total units counts {len(all_units)}\")\n",
    "    print(f\"Units : {all_units}\")\n",
    "    rp_contamination,rp_violation = qm.compute_refrac_period_violations(waveforms)\n",
    "    print(f\"rp_contaminaiton : {rp_contamination}\")\n",
    "\n",
    "    refrct_violated_units = [unit for unit,ratio in rp_contamination.items() if ratio >0.0]\n",
    "\n",
    "    snr_ratio = qm.compute_snrs(waveforms)\n",
    "    print(f\"SNR ratio : {snr_ratio}\")\n",
    "    snr_violated_units = [unit for unit,ratio in snr_ratio.items() if ratio >5]\n",
    "\n",
    "    firing_rate = qm.compute_firing_rates(waveforms)\n",
    "    print(f\"Firing rate : {firing_rate}\")\n",
    "    fr_violated_units = [unit for unit,ratio in firing_rate.items() if ratio <=0.1]\n",
    "\n",
    "    violated_units = list(set(refrct_violated_units+fr_violated_units))\n",
    "    print(f\"violated units {violated_units} removed\")\n",
    "\n",
    "    \n",
    "    good_units = [units for units in all_units if units not in violated_units ]"
   ]
  }
 ],
 "metadata": {
  "kernelspec": {
   "display_name": "Python 3",
   "language": "python",
   "name": "python3"
  },
  "language_info": {
   "codemirror_mode": {
    "name": "ipython",
    "version": 3
   },
   "file_extension": ".py",
   "mimetype": "text/x-python",
   "name": "python",
   "nbconvert_exporter": "python",
   "pygments_lexer": "ipython3",
   "version": "3.10.6"
  },
  "orig_nbformat": 4,
  "vscode": {
   "interpreter": {
    "hash": "916dbcbb3f70747c44a77c7bcd40155683ae19c65e1c03b4aa3499c5328201f1"
   }
  }
 },
 "nbformat": 4,
 "nbformat_minor": 2
}
