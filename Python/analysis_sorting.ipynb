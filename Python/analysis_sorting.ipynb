{
 "cells": [
  {
   "cell_type": "code",
   "execution_count": 1,
   "metadata": {},
   "outputs": [],
   "source": [
    "import numpy as np\n",
    "import matplotlib.pyplot as plt\n",
    "from tsmoothie.smoother import GaussianSmoother\n",
    "import spikeinterface\n",
    "import spikeinterface.full as si\n",
    "import spikeinterface.extractors as se\n",
    "import spikeinterface.sorters as ss\n",
    "import spikeinterface.comparison as sc\n",
    "import spikeinterface.widgets as sw\n",
    "import spikeinterface.postprocessing as sp\n",
    "import spikeinterface.preprocessing as spre\n",
    "import spikeinterface.qualitymetrics as qm\n",
    "\n",
    "\n"
   ]
  },
  {
   "cell_type": "code",
   "execution_count": 2,
   "metadata": {},
   "outputs": [
    {
     "name": "stdout",
     "output_type": "stream",
     "text": [
      "inside get_reader\n",
      "\"Unable to open object (object 'routed' doesn't exist)\"\n",
      "Inside NeoBaseExtractor\n"
     ]
    },
    {
     "ename": "AttributeError",
     "evalue": "'MaxwellRecordingExtractor' object has no attribute 'neo_reader'",
     "output_type": "error",
     "traceback": [
      "\u001b[0;31m---------------------------------------------------------------------------\u001b[0m",
      "\u001b[0;31mAttributeError\u001b[0m                            Traceback (most recent call last)",
      "Cell \u001b[0;32mIn[2], line 4\u001b[0m\n\u001b[1;32m      1\u001b[0m \u001b[39m#Reading the file, BP filtering\u001b[39;00m\n\u001b[1;32m      2\u001b[0m local_path\u001b[39m=\u001b[39m \u001b[39m'\u001b[39m\u001b[39m/home/mmpatil/Documents/spikesorting/Data/231503/Activity/data.raw.h5\u001b[39m\u001b[39m'\u001b[39m \u001b[39m#network data from chip 16848\u001b[39;00m\n\u001b[0;32m----> 4\u001b[0m recording \u001b[39m=\u001b[39m se\u001b[39m.\u001b[39;49mread_maxwell(local_path,rec_name\u001b[39m=\u001b[39;49m\u001b[39m'\u001b[39;49m\u001b[39mrec0001\u001b[39;49m\u001b[39m'\u001b[39;49m)\n",
      "File \u001b[0;32m~/.local/lib/python3.10/site-packages/spikeinterface/core/core_tools.py:26\u001b[0m, in \u001b[0;36mdefine_function_from_class.<locals>.reader_func\u001b[0;34m(*args, **kwargs)\u001b[0m\n\u001b[1;32m     24\u001b[0m \u001b[39m@copy_signature\u001b[39m(source_class)\n\u001b[1;32m     25\u001b[0m \u001b[39mdef\u001b[39;00m \u001b[39mreader_func\u001b[39m(\u001b[39m*\u001b[39margs, \u001b[39m*\u001b[39m\u001b[39m*\u001b[39mkwargs):\n\u001b[0;32m---> 26\u001b[0m     \u001b[39mreturn\u001b[39;00m source_class(\u001b[39m*\u001b[39;49margs, \u001b[39m*\u001b[39;49m\u001b[39m*\u001b[39;49mkwargs)\n",
      "File \u001b[0;32m~/.local/lib/python3.10/site-packages/spikeinterface/extractors/neoextractors/maxwell.py:47\u001b[0m, in \u001b[0;36mMaxwellRecordingExtractor.__init__\u001b[0;34m(self, file_path, stream_id, stream_name, block_index, all_annotations, rec_name, install_maxwell_plugin)\u001b[0m\n\u001b[1;32m     44\u001b[0m     \u001b[39mself\u001b[39m\u001b[39m.\u001b[39minstall_maxwell_plugin()\n\u001b[1;32m     46\u001b[0m neo_kwargs \u001b[39m=\u001b[39m \u001b[39mself\u001b[39m\u001b[39m.\u001b[39mmap_to_neo_kwargs(file_path, rec_name)\n\u001b[0;32m---> 47\u001b[0m NeoBaseRecordingExtractor\u001b[39m.\u001b[39;49m\u001b[39m__init__\u001b[39;49m(\u001b[39mself\u001b[39;49m, stream_id\u001b[39m=\u001b[39;49mstream_id, \n\u001b[1;32m     48\u001b[0m                                    stream_name\u001b[39m=\u001b[39;49mstream_name,\n\u001b[1;32m     49\u001b[0m                                    block_index\u001b[39m=\u001b[39;49mblock_index,\n\u001b[1;32m     50\u001b[0m                                    all_annotations\u001b[39m=\u001b[39;49mall_annotations, \n\u001b[1;32m     51\u001b[0m                                    \u001b[39m*\u001b[39;49m\u001b[39m*\u001b[39;49mneo_kwargs)\n\u001b[1;32m     53\u001b[0m \u001b[39mself\u001b[39m\u001b[39m.\u001b[39mextra_requirements\u001b[39m.\u001b[39mappend(\u001b[39m'\u001b[39m\u001b[39mh5py\u001b[39m\u001b[39m'\u001b[39m)\n\u001b[1;32m     55\u001b[0m \u001b[39m# well_name is stream_id\u001b[39;00m\n",
      "File \u001b[0;32m~/.local/lib/python3.10/site-packages/spikeinterface/extractors/neoextractors/neobaseextractor.py:47\u001b[0m, in \u001b[0;36mNeoBaseRecordingExtractor.__init__\u001b[0;34m(self, stream_id, stream_name, block_index, all_annotations, **neo_kwargs)\u001b[0m\n\u001b[1;32m     44\u001b[0m \u001b[39mdef\u001b[39;00m \u001b[39m__init__\u001b[39m(\u001b[39mself\u001b[39m, stream_id\u001b[39m=\u001b[39m\u001b[39mNone\u001b[39;00m, stream_name\u001b[39m=\u001b[39m\u001b[39mNone\u001b[39;00m, \n\u001b[1;32m     45\u001b[0m              block_index\u001b[39m=\u001b[39m\u001b[39mNone\u001b[39;00m, all_annotations\u001b[39m=\u001b[39m\u001b[39mFalse\u001b[39;00m, \u001b[39m*\u001b[39m\u001b[39m*\u001b[39mneo_kwargs):\n\u001b[0;32m---> 47\u001b[0m     _NeoBaseExtractor\u001b[39m.\u001b[39;49m\u001b[39m__init__\u001b[39;49m(\u001b[39mself\u001b[39;49m, block_index, \u001b[39m*\u001b[39;49m\u001b[39m*\u001b[39;49mneo_kwargs)\n\u001b[1;32m     49\u001b[0m     kwargs \u001b[39m=\u001b[39m \u001b[39mdict\u001b[39m(all_annotations\u001b[39m=\u001b[39mall_annotations)\n\u001b[1;32m     50\u001b[0m     \u001b[39mif\u001b[39;00m block_index \u001b[39mis\u001b[39;00m \u001b[39mnot\u001b[39;00m \u001b[39mNone\u001b[39;00m:\n",
      "File \u001b[0;32m~/.local/lib/python3.10/site-packages/spikeinterface/extractors/neoextractors/neobaseextractor.py:31\u001b[0m, in \u001b[0;36m_NeoBaseExtractor.__init__\u001b[0;34m(self, block_index, **neo_kwargs)\u001b[0m\n\u001b[1;32m     29\u001b[0m     \u001b[39mpass\u001b[39;00m\n\u001b[1;32m     30\u001b[0m \u001b[39mprint\u001b[39m(\u001b[39m\"\u001b[39m\u001b[39mInside NeoBaseExtractor\u001b[39m\u001b[39m\"\u001b[39m)\n\u001b[0;32m---> 31\u001b[0m \u001b[39mif\u001b[39;00m \u001b[39mself\u001b[39;49m\u001b[39m.\u001b[39;49mneo_reader\u001b[39m.\u001b[39mblock_count() \u001b[39m>\u001b[39m \u001b[39m1\u001b[39m \u001b[39mand\u001b[39;00m block_index \u001b[39mis\u001b[39;00m \u001b[39mNone\u001b[39;00m:\n\u001b[1;32m     32\u001b[0m     \u001b[39mraise\u001b[39;00m \u001b[39mException\u001b[39;00m(\u001b[39m\"\u001b[39m\u001b[39mThis dataset is multi-block. Spikeinterface can load one block at a time. \u001b[39m\u001b[39m\"\u001b[39m\n\u001b[1;32m     33\u001b[0m                     \u001b[39m\"\u001b[39m\u001b[39mUse \u001b[39m\u001b[39m'\u001b[39m\u001b[39mblock_index\u001b[39m\u001b[39m'\u001b[39m\u001b[39m to select the block to be loaded.\u001b[39m\u001b[39m\"\u001b[39m)\n\u001b[1;32m     34\u001b[0m \u001b[39mif\u001b[39;00m block_index \u001b[39mis\u001b[39;00m \u001b[39mNone\u001b[39;00m:\n",
      "\u001b[0;31mAttributeError\u001b[0m: 'MaxwellRecordingExtractor' object has no attribute 'neo_reader'"
     ]
    }
   ],
   "source": [
    "#Reading the file, BP filtering\n",
    "local_path= '/home/mmpatil/Documents/spikesorting/Data/231503/Activity/data.raw.h5' #network data from chip 16848\n",
    "\n",
    "recording = se.read_maxwell(local_path,rec_name='rec0001')\n",
    "\n"
   ]
  },
  {
   "cell_type": "code",
   "execution_count": null,
   "metadata": {},
   "outputs": [],
   "source": [
    "channel_ids = recording.get_channel_ids()\n",
    "fs = recording.get_sampling_frequency()\n",
    "num_chan = recording.get_num_channels()\n",
    "num_seg = recording.get_num_segments()\n",
    "total_recording = recording.get_total_duration()\n",
    "\n",
    "#print('Channel ids:', channel_ids)\n",
    "print('Sampling frequency:', fs)\n",
    "print('Number of channels:', num_chan)\n",
    "print('Number of segments:', num_seg)\n",
    "print(f\"total_recording: {total_recording} s\")\n",
    "\n",
    "recording_bp = spre.bandpass_filter(recording, freq_min=300, freq_max=6000)\n",
    "\n",
    "recording_cmr = spre.common_reference(recording_bp, reference='global', operator='median')\n",
    "\n",
    "#recording_whtiened = spre.whiten(recording_cmr)\n",
    "recording_chunk = recording_cmr.frame_slice(start_frame= 1*fs,end_frame=599*fs)"
   ]
  },
  {
   "cell_type": "code",
   "execution_count": null,
   "metadata": {},
   "outputs": [],
   "source": [
    "default_KS3_params = ss.get_default_sorter_params('kilosort3')\n",
    "print(default_KS3_params)"
   ]
  },
  {
   "cell_type": "code",
   "execution_count": null,
   "metadata": {},
   "outputs": [],
   "source": [
    "\n",
    "default_KS3_params['keep_good_only'] = True\n",
    "default_KS3_params['detect_threshold'] = 24\n",
    "default_KS3_params['projection_threshold']=[30, 30]\n",
    "default_KS3_params['preclust_threshold'] = 26\n",
    "default_KS3_params['n_jobs'] = 64\n",
    "print(default_KS3_params)\n",
    "run_sorter = ss.run_kilosort3(recording_chunk, output_folder=\"kilosort3_network_firingrate\", docker_image= \"kilosort3-maxwellcomplib:latest\",verbose=True, **default_KS3_params)"
   ]
  },
  {
   "cell_type": "code",
   "execution_count": null,
   "metadata": {},
   "outputs": [],
   "source": [
    "sorting_KS3 = ss.Kilosort3Sorter._get_result_from_folder('/home/mmpatil/Documents/spikesorting/MEA_Analysis/Python/kilosort3_network_firingrate/sorter_output/')\n",
    "total_units = sorting_KS3.get_unit_ids()\n",
    "print(total_units)\n",
    "print(len(total_units))\n",
    "channel_ids = recording_chunk.get_channel_ids()\n",
    "print(channel_ids)\n",
    "channel_association_dict = {int(y):x for x,y in enumerate(channel_ids) }\n",
    "print(channel_association_dict)"
   ]
  },
  {
   "cell_type": "code",
   "execution_count": null,
   "metadata": {},
   "outputs": [],
   "source": [
    "job_kwargs = dict(n_jobs=64, chunk_duration=\"1s\", progress_bar=True)\n",
    "#waveforms = si.extract_waveforms(recording_chunk2,sorting_KS3_test,folder=\"./waveforms\",overwrite=True, ms_before=1., ms_after=2.)\n",
    "waveforms = si.extract_waveforms(recording_chunk,sorting_KS3,folder='./waveforms',ms_before=3., ms_after=4.,\n",
    "    max_spikes_per_unit=500,load_if_exists=True,**job_kwargs)\n",
    "print(waveforms)"
   ]
  },
  {
   "cell_type": "code",
   "execution_count": null,
   "metadata": {},
   "outputs": [],
   "source": [
    "import spikeinterface.qualitymetrics as qm\n",
    "job_kwargs = dict(n_jobs=64, progress_bar=True)\n",
    "metrics = qm.compute_quality_metrics(waveforms,**job_kwargs)\n"
   ]
  },
  {
   "cell_type": "code",
   "execution_count": null,
   "metadata": {},
   "outputs": [],
   "source": [
    "display(metrics)"
   ]
  },
  {
   "cell_type": "code",
   "execution_count": null,
   "metadata": {},
   "outputs": [],
   "source": [
    "pc = sp.compute_principal_components(waveforms, n_components = 3,**job_kwargs)"
   ]
  },
  {
   "cell_type": "code",
   "execution_count": null,
   "metadata": {},
   "outputs": [],
   "source": [
    "print(pc)"
   ]
  },
  {
   "cell_type": "code",
   "execution_count": null,
   "metadata": {},
   "outputs": [],
   "source": [
    "w = sw.plot_unit_summary(waveforms, unit_id= 1)"
   ]
  },
  {
   "cell_type": "code",
   "execution_count": null,
   "metadata": {},
   "outputs": [],
   "source": [
    "template_metrics = sp.calculate_template_metrics(waveforms)\n",
    "display(template_metrics)"
   ]
  },
  {
   "cell_type": "code",
   "execution_count": null,
   "metadata": {},
   "outputs": [],
   "source": [
    "\n",
    "isi_violations_ratio, isi_violations_count = qm.compute_isi_violations(waveforms, isi_threshold_ms=1.0)\n",
    "print(isi_violations_ratio)\n",
    "print(isi_violations_count)\n",
    "\n",
    "rp_contamination,rp_violation = qm.compute_refrac_period_violations(waveforms)\n",
    "print(rp_contamination)\n",
    "print(rp_violation)"
   ]
  },
  {
   "cell_type": "code",
   "execution_count": null,
   "metadata": {},
   "outputs": [],
   "source": [
    "print(waveforms.recording)"
   ]
  },
  {
   "cell_type": "code",
   "execution_count": null,
   "metadata": {},
   "outputs": [],
   "source": [
    "random_chunk_kwargs_dict = {'seed': 111}\n",
    "snr_ratio = qm.compute_snrs(waveforms,random_chunk_kwargs_dict= random_chunk_kwargs_dict)\n",
    "print(snr_ratio)"
   ]
  },
  {
   "cell_type": "markdown",
   "metadata": {},
   "source": []
  },
  {
   "cell_type": "code",
   "execution_count": null,
   "metadata": {},
   "outputs": [],
   "source": [
    "firing_rate = qm.compute_firing_rates(waveforms)\n",
    "print(firing_rate)"
   ]
  },
  {
   "cell_type": "code",
   "execution_count": null,
   "metadata": {},
   "outputs": [],
   "source": [
    "extremum_channels_ids =spikeinterface.full.get_template_extremum_channel(waveforms, peak_sign='neg')\n",
    "print(extremum_channels_ids)"
   ]
  },
  {
   "cell_type": "code",
   "execution_count": null,
   "metadata": {},
   "outputs": [],
   "source": [
    "violated_units = [unit for unit, ratio in isi_violations_ratio.items() if ratio > 0.0]\n",
    "print(violated_units)\n",
    "print(f\"isi violated units:{len(violated_units)}\")\n",
    "\n",
    "refrct_violated_units = [unit for unit,ratio in rp_contamination.items() if ratio >0.0]\n",
    "print(refrct_violated_units)\n",
    "print(f\"refract vio units:{len(refrct_violated_units)}\")"
   ]
  },
  {
   "cell_type": "code",
   "execution_count": null,
   "metadata": {},
   "outputs": [],
   "source": []
  },
  {
   "cell_type": "code",
   "execution_count": null,
   "metadata": {},
   "outputs": [],
   "source": [
    "waveforms_copy = waveforms\n",
    "import spikeinterface.curation \n",
    "sorter_red= spikeinterface.curation.remove_redundant_units(waveforms_copy)\n",
    "\n",
    "print(sorter_red)"
   ]
  },
  {
   "cell_type": "code",
   "execution_count": null,
   "metadata": {},
   "outputs": [],
   "source": [
    "print(sorting_KS3)\n",
    "\n",
    "clean_sorting = sorting_KS3.remove_units(refrct_violated_units)\n",
    "print(clean_sorting)\n",
    "good_units = [units for units in total_units if units not in refrct_violated_units ]\n",
    "print(good_units)\n",
    "\n",
    "#now getting the wavefrom extractor\n",
    "\n",
    "waveform_good = waveforms.select_units(good_units,new_folder='waveforms_good2')\n",
    "print(waveform_good)"
   ]
  },
  {
   "cell_type": "code",
   "execution_count": null,
   "metadata": {},
   "outputs": [],
   "source": [
    "unit_ids = clean_sorting.get_unit_ids()\n",
    "\n",
    "print(unit_ids)"
   ]
  },
  {
   "cell_type": "code",
   "execution_count": null,
   "metadata": {},
   "outputs": [],
   "source": [
    "import spikeinterface.postprocessing as sp\n",
    "\n",
    "locations = sp.compute_unit_locations(waveform_good)\n",
    "print(locations)\n",
    "\n",
    "%matplotlib widget\n",
    "ax = plt.subplot(111)\n",
    "sw.plot_probe_map(recording,ax=ax,with_channel_ids=True)\n",
    "for x,y in locations:\n",
    "    ax.scatter(x,y)"
   ]
  },
  {
   "cell_type": "code",
   "execution_count": null,
   "metadata": {},
   "outputs": [],
   "source": [
    "extremum_channels_ids =spikeinterface.full.get_template_extremum_channel(waveform_good, peak_sign='neg')\n",
    "print(extremum_channels_ids)\n",
    "\n",
    "# unique_templates_electrodes = {template: electrode \n",
    "#                                for template,electrode in extremum_channels_ids.items() \n",
    "#                                if list(extremum_channels_ids.values()).count(electrode)==1}\n",
    "# print(unique_templates_electrodes)\n",
    "# print(len(unique_templates_electrodes))"
   ]
  },
  {
   "cell_type": "code",
   "execution_count": null,
   "metadata": {},
   "outputs": [],
   "source": [
    "def get_key_by_value(d, value):\n",
    "    keys = [k for k, v in d.items() if v == value]\n",
    "    return keys[0] if keys else None\n",
    "\n",
    "print(get_key_by_value(extremum_channels_ids,'77'))"
   ]
  },
  {
   "cell_type": "code",
   "execution_count": null,
   "metadata": {},
   "outputs": [],
   "source": [
    "colors = [ 'Fuchsia','Olive', 'Teal']\n",
    "fig, ax = plt.subplots()\n",
    "wf=[]\n",
    "for i, unit_id in enumerate([2]):\n",
    "    wf = waveform_good.get_waveforms(unit_id)\n",
    "    color = colors[i]\n",
    "    ax.plot(wf[:, :,channel_association_dict[824]].T, color=color, lw=0.3)\n",
    "print(wf.shape)"
   ]
  },
  {
   "cell_type": "code",
   "execution_count": null,
   "metadata": {},
   "outputs": [],
   "source": [
    "colors = [ 'Fuchsia','Olive', 'Teal']\n",
    "fig, ax = plt.subplots()\n",
    "wf=[]\n",
    "for i, unit_id in enumerate([104]):\n",
    "    wf = waveform_good.get_waveforms(unit_id)\n",
    "    ax.plot(wf[:, :,channel_association_dict[973]].T, color=colors[0], lw=0.3)\n",
    "    ax.plot(wf[:, :,channel_association_dict[50]].T, color=colors[1], lw=0.3)\n",
    "    ax.plot(wf[:, :,channel_association_dict[719]].T, color=colors[2], lw=0.3)\n",
    "print(wf.shape)"
   ]
  },
  {
   "cell_type": "code",
   "execution_count": null,
   "metadata": {},
   "outputs": [],
   "source": [
    "peak_shift=si.get_template_extremum_channel_peak_shift(waveform_good)\n",
    "\n",
    "print(peak_shift)"
   ]
  },
  {
   "cell_type": "code",
   "execution_count": null,
   "metadata": {},
   "outputs": [],
   "source": [
    "fig, ax = plt.subplots()\n",
    "for i, unit_id in enumerate([52,53]):\n",
    "    template = waveforms.get_template(unit_id)\n",
    "    color = colors[i]\n",
    "    ax.plot(template[:, channel_association_dict[907]].T, color=color, lw=3)\n",
    "print(template.shape)"
   ]
  },
  {
   "cell_type": "code",
   "execution_count": null,
   "metadata": {},
   "outputs": [],
   "source": [
    "#37 39\n",
    "\n",
    "w = sw.plot_unit_templates(waveform_good, unit_ids=[22,29],plot_channels=False )"
   ]
  },
  {
   "cell_type": "code",
   "execution_count": null,
   "metadata": {},
   "outputs": [],
   "source": [
    "w = sw.plot_unit_waveforms(waveform_good, unit_ids=[2,4,7])\n",
    "w = sw.plot_unit_templates(waveform_good, unit_ids=[2,4,7])\n",
    "w = sw.plot_unit_probe_map(waveform_good, unit_ids=[2,4,7])"
   ]
  },
  {
   "cell_type": "code",
   "execution_count": null,
   "metadata": {},
   "outputs": [],
   "source": [
    "fig, ax1 = plt.subplots(figsize=(15,5))\n",
    "spike_times = {}\n",
    "for unit_id in clean_sorting.get_unit_ids():\n",
    "    spike_train = clean_sorting.get_unit_spike_train(unit_id,start_frame=1*fs,end_frame=20*fs)\n",
    "    if len(spike_train) > 0:\n",
    "        spike_times[unit_id] = spike_train / float(fs)\n",
    "        #print(spike_times[unit_id])\n",
    "       # print(unit_id*np.ones_like(spike_times[unit_id]))\n",
    "        ax1.plot(spike_times[unit_id],unit_id*np.ones_like(spike_times[unit_id]),\n",
    "                             marker='|', mew=1, markersize=3,\n",
    "                             ls='',color='black')\n",
    "                             "
   ]
  }
 ],
 "metadata": {
  "kernelspec": {
   "display_name": "Python 3",
   "language": "python",
   "name": "python3"
  },
  "language_info": {
   "codemirror_mode": {
    "name": "ipython",
    "version": 3
   },
   "file_extension": ".py",
   "mimetype": "text/x-python",
   "name": "python",
   "nbconvert_exporter": "python",
   "pygments_lexer": "ipython3",
   "version": "3.10.6"
  },
  "orig_nbformat": 4
 },
 "nbformat": 4,
 "nbformat_minor": 2
}
