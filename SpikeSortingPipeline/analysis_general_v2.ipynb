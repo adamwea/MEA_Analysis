{
 "cells": [
  {
   "cell_type": "code",
   "execution_count": 1,
   "metadata": {},
   "outputs": [],
   "source": [
    "import mea_analysis_pipeline as msp\n",
    "import helper_functions as helper"
   ]
  },
  {
   "cell_type": "code",
   "execution_count": null,
   "metadata": {},
   "outputs": [],
   "source": [
    "import importlib\n",
    "importlib.reload(msp)\n",
    "importlib.reload(helper)"
   ]
  },
  {
   "cell_type": "code",
   "execution_count": 2,
   "metadata": {},
   "outputs": [],
   "source": [
    "file_path = '/mnt/disk15tb/mmpatil/Spikesorting/Data/Mandar/18662/ActivityScan/000012/data.raw.h5'\n"
   ]
  },
  {
   "cell_type": "code",
   "execution_count": 3,
   "metadata": {},
   "outputs": [
    {
     "name": "stdout",
     "output_type": "stream",
     "text": [
      "Processing recording: rec0000\n",
      "Sampling frequency: 20000.0\n",
      "Number of channels: 1008\n",
      "Number of segments: 1\n",
      "total_recording: 300.05 s\n",
      "Starting container\n",
      "Installing spikeinterface==0.97.1 in kilosort2-maxwellcomplib:latest\n",
      "Installing extra requirements: ['neo', 'h5py']\n",
      "Running kilosort2 sorter inside kilosort2-maxwellcomplib:latest\n",
      "Stopping container\n"
     ]
    },
    {
     "data": {
      "application/vnd.jupyter.widget-view+json": {
       "model_id": "67691f05bf5e422295f4229cfac66843",
       "version_major": 2,
       "version_minor": 0
      },
      "text/plain": [
       "extract waveforms memmap:   0%|          | 0/299 [00:00<?, ?it/s]"
      ]
     },
     "metadata": {},
     "output_type": "display_data"
    },
    {
     "name": "stdout",
     "output_type": "stream",
     "text": [
      "Sort and extract waveforms takes 443.8978545179125\n"
     ]
    },
    {
     "data": {
      "application/vnd.jupyter.widget-view+json": {
       "model_id": "d493edff7c304acab76b572f5df5e2c1",
       "version_major": 2,
       "version_minor": 0
      },
      "text/plain": [
       "extract amplitudes:   0%|          | 0/299 [00:00<?, ?it/s]"
      ]
     },
     "metadata": {},
     "output_type": "display_data"
    },
    {
     "name": "stderr",
     "output_type": "stream",
     "text": [
      "/home/mmp/.local/lib/python3.10/site-packages/spikeinterface/qualitymetrics/misc_metrics.py:194: RuntimeWarning: divide by zero encountered in scalar divide\n",
      "  snrs[unit_id] = np.abs(amplitude) / noise\n",
      "/home/mmp/.local/lib/python3.10/site-packages/spikeinterface/qualitymetrics/misc_metrics.py:511: UserWarning: Units [0, 4, 10, 11, 12, 14, 19, 24, 26, 33, 36, 37, 40, 42, 43, 50, 56, 63, 64, 65, 67, 68, 72, 82, 89, 91, 92, 95, 96, 97, 98, 100, 102, 103, 108, 110, 112] have too few spikes and amplitude_cutoff is set to NaN\n",
      "  warnings.warn(f\"Units {nan_units} have too few spikes and \"\n"
     ]
    },
    {
     "name": "stdout",
     "output_type": "stream",
     "text": [
      "51 49\n",
      "redundant-units : [49]\n"
     ]
    },
    {
     "name": "stderr",
     "output_type": "stream",
     "text": [
      "/home/mmp/.local/lib/python3.10/site-packages/spikeinterface/postprocessing/template_tools.py:19: DeprecationWarning: The spikeinterface.postprocessing.template_tools is submodule is deprecated.Use spikeinterface.core.template_tools instead\n",
      "  _warn()\n"
     ]
    },
    {
     "name": "stdout",
     "output_type": "stream",
     "text": [
      "Removing redundant items takes 319.159793445142\n",
      "Processing recording: rec0001\n",
      "Sampling frequency: 20000.0\n",
      "Number of channels: 1008\n",
      "Number of segments: 1\n",
      "total_recording: 300.07 s\n",
      "Starting container\n",
      "Installing spikeinterface==0.97.1 in kilosort2-maxwellcomplib:latest\n",
      "Installing extra requirements: ['neo', 'h5py']\n",
      "Running kilosort2 sorter inside kilosort2-maxwellcomplib:latest\n",
      "Stopping container\n"
     ]
    },
    {
     "data": {
      "application/vnd.jupyter.widget-view+json": {
       "model_id": "a0ff614abbfc404e917c5d921f7d020d",
       "version_major": 2,
       "version_minor": 0
      },
      "text/plain": [
       "extract waveforms memmap:   0%|          | 0/299 [00:00<?, ?it/s]"
      ]
     },
     "metadata": {},
     "output_type": "display_data"
    },
    {
     "name": "stdout",
     "output_type": "stream",
     "text": [
      "Sort and extract waveforms takes 422.09741890686564\n"
     ]
    },
    {
     "data": {
      "application/vnd.jupyter.widget-view+json": {
       "model_id": "714bda07e6f14ca1bf32ec39ae0cd6b4",
       "version_major": 2,
       "version_minor": 0
      },
      "text/plain": [
       "extract amplitudes:   0%|          | 0/299 [00:00<?, ?it/s]"
      ]
     },
     "metadata": {},
     "output_type": "display_data"
    },
    {
     "name": "stderr",
     "output_type": "stream",
     "text": [
      "/home/mmp/.local/lib/python3.10/site-packages/spikeinterface/qualitymetrics/misc_metrics.py:194: RuntimeWarning: divide by zero encountered in scalar divide\n",
      "  snrs[unit_id] = np.abs(amplitude) / noise\n",
      "/home/mmp/.local/lib/python3.10/site-packages/spikeinterface/qualitymetrics/misc_metrics.py:511: UserWarning: Units [1, 6, 8, 9, 10, 16, 24, 26, 34, 38, 40, 44, 46, 50, 51, 54, 67, 70, 71, 72, 74, 79, 89, 92, 93, 96, 97, 108, 111, 112, 113, 117, 118, 119] have too few spikes and amplitude_cutoff is set to NaN\n",
      "  warnings.warn(f\"Units {nan_units} have too few spikes and \"\n"
     ]
    },
    {
     "name": "stdout",
     "output_type": "stream",
     "text": [
      "93 91\n",
      "redundant-units : [91]\n"
     ]
    },
    {
     "name": "stderr",
     "output_type": "stream",
     "text": [
      "/home/mmp/.local/lib/python3.10/site-packages/spikeinterface/postprocessing/template_tools.py:19: DeprecationWarning: The spikeinterface.postprocessing.template_tools is submodule is deprecated.Use spikeinterface.core.template_tools instead\n",
      "  _warn()\n"
     ]
    },
    {
     "name": "stdout",
     "output_type": "stream",
     "text": [
      "Removing redundant items takes 292.9393054479733\n",
      "Processing recording: rec0002\n",
      "Sampling frequency: 20000.0\n",
      "Number of channels: 1008\n",
      "Number of segments: 1\n",
      "total_recording: 300.05 s\n",
      "Starting container\n",
      "Installing spikeinterface==0.97.1 in kilosort2-maxwellcomplib:latest\n",
      "Installing extra requirements: ['neo', 'h5py']\n",
      "Running kilosort2 sorter inside kilosort2-maxwellcomplib:latest\n",
      "Stopping container\n"
     ]
    },
    {
     "data": {
      "application/vnd.jupyter.widget-view+json": {
       "model_id": "b60b777c758f4470acc92ebabf99b397",
       "version_major": 2,
       "version_minor": 0
      },
      "text/plain": [
       "extract waveforms memmap:   0%|          | 0/299 [00:00<?, ?it/s]"
      ]
     },
     "metadata": {},
     "output_type": "display_data"
    },
    {
     "name": "stdout",
     "output_type": "stream",
     "text": [
      "Sort and extract waveforms takes 438.0817414119374\n"
     ]
    },
    {
     "data": {
      "application/vnd.jupyter.widget-view+json": {
       "model_id": "89663bb1181c4803883f0627bd86c02d",
       "version_major": 2,
       "version_minor": 0
      },
      "text/plain": [
       "extract amplitudes:   0%|          | 0/299 [00:00<?, ?it/s]"
      ]
     },
     "metadata": {},
     "output_type": "display_data"
    },
    {
     "name": "stderr",
     "output_type": "stream",
     "text": [
      "/home/mmp/.local/lib/python3.10/site-packages/spikeinterface/qualitymetrics/misc_metrics.py:194: RuntimeWarning: divide by zero encountered in scalar divide\n",
      "  snrs[unit_id] = np.abs(amplitude) / noise\n",
      "/home/mmp/.local/lib/python3.10/site-packages/spikeinterface/qualitymetrics/misc_metrics.py:511: UserWarning: Units [0, 6, 11, 12, 17, 20, 23, 24, 26, 29, 30, 31, 32, 33, 47, 48, 49, 50, 52, 53, 64, 65, 70, 71, 73, 75, 76, 82, 84, 85, 90, 92, 93, 97, 103, 105, 106, 107, 111, 112, 117, 119, 134, 135, 138, 139, 141, 143, 147, 151, 154, 155, 157, 160, 162, 165, 169, 171] have too few spikes and amplitude_cutoff is set to NaN\n",
      "  warnings.warn(f\"Units {nan_units} have too few spikes and \"\n"
     ]
    },
    {
     "name": "stdout",
     "output_type": "stream",
     "text": [
      "24 12\n",
      "32 30\n",
      "84 76\n",
      "112 65\n",
      "133 6\n",
      "152 140\n",
      "redundant-units : [24, 30, 76, 65, 133, 140]\n"
     ]
    },
    {
     "name": "stderr",
     "output_type": "stream",
     "text": [
      "/home/mmp/.local/lib/python3.10/site-packages/spikeinterface/postprocessing/template_tools.py:19: DeprecationWarning: The spikeinterface.postprocessing.template_tools is submodule is deprecated.Use spikeinterface.core.template_tools instead\n",
      "  _warn()\n"
     ]
    },
    {
     "name": "stdout",
     "output_type": "stream",
     "text": [
      "Removing redundant items takes 309.50419208896346\n",
      "Processing recording: rec0003\n",
      "Sampling frequency: 20000.0\n",
      "Number of channels: 1008\n",
      "Number of segments: 1\n",
      "total_recording: 300.06 s\n",
      "Starting container\n",
      "Installing spikeinterface==0.97.1 in kilosort2-maxwellcomplib:latest\n",
      "Installing extra requirements: ['neo', 'h5py']\n",
      "Running kilosort2 sorter inside kilosort2-maxwellcomplib:latest\n",
      "Stopping container\n"
     ]
    },
    {
     "data": {
      "application/vnd.jupyter.widget-view+json": {
       "model_id": "c44952f4658149bc90344312c03c0d0c",
       "version_major": 2,
       "version_minor": 0
      },
      "text/plain": [
       "extract waveforms memmap:   0%|          | 0/299 [00:00<?, ?it/s]"
      ]
     },
     "metadata": {},
     "output_type": "display_data"
    },
    {
     "name": "stdout",
     "output_type": "stream",
     "text": [
      "Sort and extract waveforms takes 441.75326784607023\n"
     ]
    },
    {
     "data": {
      "application/vnd.jupyter.widget-view+json": {
       "model_id": "461e8f325d8e46ea9579dfc54a11a48b",
       "version_major": 2,
       "version_minor": 0
      },
      "text/plain": [
       "extract amplitudes:   0%|          | 0/299 [00:00<?, ?it/s]"
      ]
     },
     "metadata": {},
     "output_type": "display_data"
    },
    {
     "name": "stderr",
     "output_type": "stream",
     "text": [
      "/home/mmp/.local/lib/python3.10/site-packages/spikeinterface/qualitymetrics/misc_metrics.py:194: RuntimeWarning: divide by zero encountered in scalar divide\n",
      "  snrs[unit_id] = np.abs(amplitude) / noise\n",
      "/home/mmp/.local/lib/python3.10/site-packages/spikeinterface/qualitymetrics/misc_metrics.py:511: UserWarning: Units [0, 2, 4, 7, 11, 13, 17, 18, 21, 23, 28, 38, 39, 40, 43, 44, 47, 48, 57, 59, 61, 69, 71, 73, 75, 78, 80, 83, 86, 94, 98, 99, 103, 104, 107, 110, 112, 115, 116, 117, 118, 119, 120, 121, 133, 134, 136, 138] have too few spikes and amplitude_cutoff is set to NaN\n",
      "  warnings.warn(f\"Units {nan_units} have too few spikes and \"\n"
     ]
    },
    {
     "name": "stdout",
     "output_type": "stream",
     "text": [
      "17 9\n",
      "17 10\n",
      "24 9\n",
      "28 9\n",
      "28 10\n",
      "28 17\n",
      "104 73\n",
      "135 125\n",
      "138 85\n",
      "redundant-units : [17, 17, 9, 28, 28, 17, 104, 125, 85]\n"
     ]
    },
    {
     "name": "stderr",
     "output_type": "stream",
     "text": [
      "/home/mmp/.local/lib/python3.10/site-packages/spikeinterface/postprocessing/template_tools.py:19: DeprecationWarning: The spikeinterface.postprocessing.template_tools is submodule is deprecated.Use spikeinterface.core.template_tools instead\n",
      "  _warn()\n"
     ]
    },
    {
     "name": "stdout",
     "output_type": "stream",
     "text": [
      "Removing redundant items takes 313.6543280989863\n",
      "Processing recording: rec0004\n",
      "Sampling frequency: 20000.0\n",
      "Number of channels: 1008\n",
      "Number of segments: 1\n",
      "total_recording: 300.05 s\n",
      "Starting container\n",
      "Installing spikeinterface==0.97.1 in kilosort2-maxwellcomplib:latest\n",
      "Installing extra requirements: ['neo', 'h5py']\n",
      "Running kilosort2 sorter inside kilosort2-maxwellcomplib:latest\n",
      "Stopping container\n"
     ]
    },
    {
     "data": {
      "application/vnd.jupyter.widget-view+json": {
       "model_id": "995e5f3f015e4b4cb73afa6ef60cbc5c",
       "version_major": 2,
       "version_minor": 0
      },
      "text/plain": [
       "extract waveforms memmap:   0%|          | 0/299 [00:00<?, ?it/s]"
      ]
     },
     "metadata": {},
     "output_type": "display_data"
    },
    {
     "name": "stdout",
     "output_type": "stream",
     "text": [
      "Sort and extract waveforms takes 385.0031970948912\n"
     ]
    },
    {
     "data": {
      "application/vnd.jupyter.widget-view+json": {
       "model_id": "6d3ce6d1b4054778ba004077ad2dd4c0",
       "version_major": 2,
       "version_minor": 0
      },
      "text/plain": [
       "extract amplitudes:   0%|          | 0/299 [00:00<?, ?it/s]"
      ]
     },
     "metadata": {},
     "output_type": "display_data"
    },
    {
     "name": "stderr",
     "output_type": "stream",
     "text": [
      "/home/mmp/.local/lib/python3.10/site-packages/spikeinterface/qualitymetrics/misc_metrics.py:194: RuntimeWarning: divide by zero encountered in scalar divide\n",
      "  snrs[unit_id] = np.abs(amplitude) / noise\n",
      "/home/mmp/.local/lib/python3.10/site-packages/spikeinterface/qualitymetrics/misc_metrics.py:511: UserWarning: Units [1, 3, 13, 37, 46, 63, 67, 73, 75, 76, 81] have too few spikes and amplitude_cutoff is set to NaN\n",
      "  warnings.warn(f\"Units {nan_units} have too few spikes and \"\n"
     ]
    },
    {
     "name": "stdout",
     "output_type": "stream",
     "text": [
      "26 12\n",
      "redundant-units : [12]\n"
     ]
    },
    {
     "name": "stderr",
     "output_type": "stream",
     "text": [
      "/home/mmp/.local/lib/python3.10/site-packages/spikeinterface/postprocessing/template_tools.py:19: DeprecationWarning: The spikeinterface.postprocessing.template_tools is submodule is deprecated.Use spikeinterface.core.template_tools instead\n",
      "  _warn()\n"
     ]
    },
    {
     "name": "stdout",
     "output_type": "stream",
     "text": [
      "Removing redundant items takes 295.03928145207465\n",
      "Processing recording: rec0005\n",
      "Sampling frequency: 20000.0\n",
      "Number of channels: 1008\n",
      "Number of segments: 1\n",
      "total_recording: 300.05 s\n",
      "Starting container\n",
      "Installing spikeinterface==0.97.1 in kilosort2-maxwellcomplib:latest\n",
      "Installing extra requirements: ['neo', 'h5py']\n",
      "Running kilosort2 sorter inside kilosort2-maxwellcomplib:latest\n",
      "Stopping container\n"
     ]
    },
    {
     "data": {
      "application/vnd.jupyter.widget-view+json": {
       "model_id": "ba2e7271f600485a9fa75d5569e5983e",
       "version_major": 2,
       "version_minor": 0
      },
      "text/plain": [
       "extract waveforms memmap:   0%|          | 0/299 [00:00<?, ?it/s]"
      ]
     },
     "metadata": {},
     "output_type": "display_data"
    },
    {
     "name": "stdout",
     "output_type": "stream",
     "text": [
      "Sort and extract waveforms takes 395.18305432004854\n"
     ]
    },
    {
     "data": {
      "application/vnd.jupyter.widget-view+json": {
       "model_id": "fff8724abdf44112b908bcb29547a2cb",
       "version_major": 2,
       "version_minor": 0
      },
      "text/plain": [
       "extract amplitudes:   0%|          | 0/299 [00:00<?, ?it/s]"
      ]
     },
     "metadata": {},
     "output_type": "display_data"
    },
    {
     "name": "stderr",
     "output_type": "stream",
     "text": [
      "/home/mmp/.local/lib/python3.10/site-packages/spikeinterface/qualitymetrics/misc_metrics.py:194: RuntimeWarning: divide by zero encountered in scalar divide\n",
      "  snrs[unit_id] = np.abs(amplitude) / noise\n",
      "/home/mmp/.local/lib/python3.10/site-packages/spikeinterface/qualitymetrics/misc_metrics.py:511: UserWarning: Units [2, 3, 13, 15, 17, 20, 21, 23, 25, 35, 36, 47, 49, 54, 56, 59, 60, 63, 64, 65, 66, 70, 75, 76, 83, 84, 89, 92, 93, 95, 96, 97, 99, 100] have too few spikes and amplitude_cutoff is set to NaN\n",
      "  warnings.warn(f\"Units {nan_units} have too few spikes and \"\n"
     ]
    },
    {
     "name": "stdout",
     "output_type": "stream",
     "text": [
      "63 2\n",
      "65 2\n",
      "65 63\n",
      "93 75\n",
      "redundant-units : [2, 2, 63, 75]\n"
     ]
    },
    {
     "name": "stderr",
     "output_type": "stream",
     "text": [
      "/home/mmp/.local/lib/python3.10/site-packages/spikeinterface/postprocessing/template_tools.py:19: DeprecationWarning: The spikeinterface.postprocessing.template_tools is submodule is deprecated.Use spikeinterface.core.template_tools instead\n",
      "  _warn()\n"
     ]
    },
    {
     "name": "stdout",
     "output_type": "stream",
     "text": [
      "Removing redundant items takes 288.3075502780266\n",
      "Processing recording: rec0006\n",
      "Sampling frequency: 20000.0\n",
      "Number of channels: 1008\n",
      "Number of segments: 1\n",
      "total_recording: 300.05 s\n",
      "Starting container\n",
      "Installing spikeinterface==0.97.1 in kilosort2-maxwellcomplib:latest\n",
      "Installing extra requirements: ['neo', 'h5py']\n",
      "Running kilosort2 sorter inside kilosort2-maxwellcomplib:latest\n",
      "Stopping container\n"
     ]
    },
    {
     "data": {
      "application/vnd.jupyter.widget-view+json": {
       "model_id": "2814dc83a13d44709b5d907341092f1c",
       "version_major": 2,
       "version_minor": 0
      },
      "text/plain": [
       "extract waveforms memmap:   0%|          | 0/299 [00:00<?, ?it/s]"
      ]
     },
     "metadata": {},
     "output_type": "display_data"
    },
    {
     "name": "stdout",
     "output_type": "stream",
     "text": [
      "Sort and extract waveforms takes 424.67662712791935\n"
     ]
    },
    {
     "data": {
      "application/vnd.jupyter.widget-view+json": {
       "model_id": "ab527f3b6e5d42b3bd13b9217359069c",
       "version_major": 2,
       "version_minor": 0
      },
      "text/plain": [
       "extract amplitudes:   0%|          | 0/299 [00:00<?, ?it/s]"
      ]
     },
     "metadata": {},
     "output_type": "display_data"
    },
    {
     "name": "stderr",
     "output_type": "stream",
     "text": [
      "/home/mmp/.local/lib/python3.10/site-packages/spikeinterface/qualitymetrics/misc_metrics.py:194: RuntimeWarning: divide by zero encountered in scalar divide\n",
      "  snrs[unit_id] = np.abs(amplitude) / noise\n",
      "/home/mmp/.local/lib/python3.10/site-packages/spikeinterface/qualitymetrics/misc_metrics.py:511: UserWarning: Units [5, 9, 15, 23, 27, 32, 35, 37, 41, 48, 49, 51, 55, 64, 65, 68, 75, 80, 84, 85, 86, 91, 96, 97, 98, 104] have too few spikes and amplitude_cutoff is set to NaN\n",
      "  warnings.warn(f\"Units {nan_units} have too few spikes and \"\n"
     ]
    },
    {
     "name": "stdout",
     "output_type": "stream",
     "text": [
      "60 56\n",
      "103 92\n",
      "104 96\n",
      "redundant-units : [60, 92, 104]\n"
     ]
    },
    {
     "name": "stderr",
     "output_type": "stream",
     "text": [
      "/home/mmp/.local/lib/python3.10/site-packages/spikeinterface/postprocessing/template_tools.py:19: DeprecationWarning: The spikeinterface.postprocessing.template_tools is submodule is deprecated.Use spikeinterface.core.template_tools instead\n",
      "  _warn()\n"
     ]
    },
    {
     "name": "stdout",
     "output_type": "stream",
     "text": [
      "Removing redundant items takes 365.18488027201965\n",
      "Processing recording: rec0007\n",
      "Sampling frequency: 20000.0\n",
      "Number of channels: 1008\n",
      "Number of segments: 1\n",
      "total_recording: 300.03 s\n",
      "Starting container\n",
      "Installing spikeinterface==0.97.1 in kilosort2-maxwellcomplib:latest\n",
      "Installing extra requirements: ['neo', 'h5py']\n",
      "Running kilosort2 sorter inside kilosort2-maxwellcomplib:latest\n",
      "Stopping container\n"
     ]
    },
    {
     "data": {
      "application/vnd.jupyter.widget-view+json": {
       "model_id": "7451a3eecfa84e6e94895a64e1ce5791",
       "version_major": 2,
       "version_minor": 0
      },
      "text/plain": [
       "extract waveforms memmap:   0%|          | 0/299 [00:00<?, ?it/s]"
      ]
     },
     "metadata": {},
     "output_type": "display_data"
    },
    {
     "name": "stdout",
     "output_type": "stream",
     "text": [
      "Sort and extract waveforms takes 387.3775233521592\n"
     ]
    },
    {
     "data": {
      "application/vnd.jupyter.widget-view+json": {
       "model_id": "ce00c02ead184863bbcb905548ff4c39",
       "version_major": 2,
       "version_minor": 0
      },
      "text/plain": [
       "extract amplitudes:   0%|          | 0/299 [00:00<?, ?it/s]"
      ]
     },
     "metadata": {},
     "output_type": "display_data"
    },
    {
     "name": "stderr",
     "output_type": "stream",
     "text": [
      "/home/mmp/.local/lib/python3.10/site-packages/spikeinterface/qualitymetrics/misc_metrics.py:194: RuntimeWarning: divide by zero encountered in scalar divide\n",
      "  snrs[unit_id] = np.abs(amplitude) / noise\n",
      "/home/mmp/.local/lib/python3.10/site-packages/spikeinterface/qualitymetrics/misc_metrics.py:511: UserWarning: Units [5, 6, 8, 13, 15, 18, 22, 26, 31, 39, 40, 43, 46, 47, 52, 53, 55, 57, 65] have too few spikes and amplitude_cutoff is set to NaN\n",
      "  warnings.warn(f\"Units {nan_units} have too few spikes and \"\n",
      "/home/mmp/.local/lib/python3.10/site-packages/spikeinterface/postprocessing/template_tools.py:19: DeprecationWarning: The spikeinterface.postprocessing.template_tools is submodule is deprecated.Use spikeinterface.core.template_tools instead\n",
      "  _warn()\n"
     ]
    },
    {
     "name": "stdout",
     "output_type": "stream",
     "text": [
      "43 40\n",
      "61 41\n",
      "redundant-units : [40, 61]\n",
      "Removing redundant items takes 287.7409453250002\n",
      "Processing recording: rec0008\n",
      "Sampling frequency: 20000.0\n",
      "Number of channels: 1008\n",
      "Number of segments: 1\n",
      "total_recording: 300.03 s\n",
      "Starting container\n",
      "Installing spikeinterface==0.97.1 in kilosort2-maxwellcomplib:latest\n",
      "Installing extra requirements: ['neo', 'h5py']\n",
      "Running kilosort2 sorter inside kilosort2-maxwellcomplib:latest\n",
      "Stopping container\n"
     ]
    },
    {
     "data": {
      "application/vnd.jupyter.widget-view+json": {
       "model_id": "927395a3e1b04f5b8c8780541d63288c",
       "version_major": 2,
       "version_minor": 0
      },
      "text/plain": [
       "extract waveforms memmap:   0%|          | 0/299 [00:00<?, ?it/s]"
      ]
     },
     "metadata": {},
     "output_type": "display_data"
    },
    {
     "name": "stdout",
     "output_type": "stream",
     "text": [
      "Sort and extract waveforms takes 371.22844281909056\n"
     ]
    },
    {
     "data": {
      "application/vnd.jupyter.widget-view+json": {
       "model_id": "521acaadf6564cfda616fb2f8b30de40",
       "version_major": 2,
       "version_minor": 0
      },
      "text/plain": [
       "extract amplitudes:   0%|          | 0/299 [00:00<?, ?it/s]"
      ]
     },
     "metadata": {},
     "output_type": "display_data"
    },
    {
     "name": "stderr",
     "output_type": "stream",
     "text": [
      "/home/mmp/.local/lib/python3.10/site-packages/spikeinterface/qualitymetrics/misc_metrics.py:194: RuntimeWarning: divide by zero encountered in scalar divide\n",
      "  snrs[unit_id] = np.abs(amplitude) / noise\n",
      "/home/mmp/.local/lib/python3.10/site-packages/spikeinterface/qualitymetrics/misc_metrics.py:511: UserWarning: Units [8, 11, 18, 19, 26, 32, 39, 44, 53, 57, 58, 59, 60, 67] have too few spikes and amplitude_cutoff is set to NaN\n",
      "  warnings.warn(f\"Units {nan_units} have too few spikes and \"\n",
      "/home/mmp/.local/lib/python3.10/site-packages/spikeinterface/postprocessing/template_tools.py:19: DeprecationWarning: The spikeinterface.postprocessing.template_tools is submodule is deprecated.Use spikeinterface.core.template_tools instead\n",
      "  _warn()\n"
     ]
    },
    {
     "name": "stdout",
     "output_type": "stream",
     "text": [
      "redundant-units : []\n",
      "Removing redundant items takes 282.71697599999607\n",
      "Processing recording: rec0009\n",
      "Sampling frequency: 20000.0\n",
      "Number of channels: 1008\n",
      "Number of segments: 1\n",
      "total_recording: 300.05 s\n",
      "Starting container\n",
      "Installing spikeinterface==0.97.1 in kilosort2-maxwellcomplib:latest\n",
      "Installing extra requirements: ['neo', 'h5py']\n",
      "Running kilosort2 sorter inside kilosort2-maxwellcomplib:latest\n",
      "Stopping container\n"
     ]
    },
    {
     "data": {
      "application/vnd.jupyter.widget-view+json": {
       "model_id": "3d8ff376e4224cc794dc4766fec35ec3",
       "version_major": 2,
       "version_minor": 0
      },
      "text/plain": [
       "extract waveforms memmap:   0%|          | 0/299 [00:00<?, ?it/s]"
      ]
     },
     "metadata": {},
     "output_type": "display_data"
    },
    {
     "name": "stdout",
     "output_type": "stream",
     "text": [
      "Sort and extract waveforms takes 402.5072596450336\n"
     ]
    },
    {
     "data": {
      "application/vnd.jupyter.widget-view+json": {
       "model_id": "6e5784c7708649daa015efbdc5cb4bbf",
       "version_major": 2,
       "version_minor": 0
      },
      "text/plain": [
       "extract amplitudes:   0%|          | 0/299 [00:00<?, ?it/s]"
      ]
     },
     "metadata": {},
     "output_type": "display_data"
    },
    {
     "name": "stderr",
     "output_type": "stream",
     "text": [
      "/home/mmp/.local/lib/python3.10/site-packages/spikeinterface/qualitymetrics/misc_metrics.py:194: RuntimeWarning: divide by zero encountered in scalar divide\n",
      "  snrs[unit_id] = np.abs(amplitude) / noise\n",
      "/home/mmp/.local/lib/python3.10/site-packages/spikeinterface/qualitymetrics/misc_metrics.py:511: UserWarning: Units [2, 4, 5, 9, 13, 15, 16, 18, 22, 27, 31, 34, 37, 41, 49, 51, 53, 58, 61, 66, 67, 69, 71, 76, 81, 82, 83, 87, 90, 98, 101, 102, 112] have too few spikes and amplitude_cutoff is set to NaN\n",
      "  warnings.warn(f\"Units {nan_units} have too few spikes and \"\n"
     ]
    },
    {
     "name": "stdout",
     "output_type": "stream",
     "text": [
      "73 68\n",
      "112 68\n",
      "112 73\n",
      "redundant-units : [68, 68, 73]\n"
     ]
    },
    {
     "name": "stderr",
     "output_type": "stream",
     "text": [
      "/home/mmp/.local/lib/python3.10/site-packages/spikeinterface/postprocessing/template_tools.py:19: DeprecationWarning: The spikeinterface.postprocessing.template_tools is submodule is deprecated.Use spikeinterface.core.template_tools instead\n",
      "  _warn()\n"
     ]
    },
    {
     "name": "stdout",
     "output_type": "stream",
     "text": [
      "Removing redundant items takes 278.81099197780713\n",
      "Processing recording: rec0010\n",
      "Sampling frequency: 20000.0\n",
      "Number of channels: 1008\n",
      "Number of segments: 1\n",
      "total_recording: 300.06 s\n",
      "Starting container\n",
      "Installing spikeinterface==0.97.1 in kilosort2-maxwellcomplib:latest\n",
      "Installing extra requirements: ['neo', 'h5py']\n",
      "Running kilosort2 sorter inside kilosort2-maxwellcomplib:latest\n",
      "Stopping container\n"
     ]
    },
    {
     "data": {
      "application/vnd.jupyter.widget-view+json": {
       "model_id": "ecf0861f784a429097da973d0f1378a0",
       "version_major": 2,
       "version_minor": 0
      },
      "text/plain": [
       "extract waveforms memmap:   0%|          | 0/299 [00:00<?, ?it/s]"
      ]
     },
     "metadata": {},
     "output_type": "display_data"
    },
    {
     "name": "stdout",
     "output_type": "stream",
     "text": [
      "Sort and extract waveforms takes 390.8639410419855\n"
     ]
    },
    {
     "data": {
      "application/vnd.jupyter.widget-view+json": {
       "model_id": "50cf0df4cb1a4a1585e57ad9c0616f7c",
       "version_major": 2,
       "version_minor": 0
      },
      "text/plain": [
       "extract amplitudes:   0%|          | 0/299 [00:00<?, ?it/s]"
      ]
     },
     "metadata": {},
     "output_type": "display_data"
    },
    {
     "name": "stderr",
     "output_type": "stream",
     "text": [
      "/home/mmp/.local/lib/python3.10/site-packages/spikeinterface/qualitymetrics/misc_metrics.py:194: RuntimeWarning: divide by zero encountered in scalar divide\n",
      "  snrs[unit_id] = np.abs(amplitude) / noise\n",
      "/home/mmp/.local/lib/python3.10/site-packages/spikeinterface/qualitymetrics/misc_metrics.py:511: UserWarning: Units [4, 10, 16, 17, 18, 26, 27, 30, 32, 33, 35, 36, 41, 46, 47, 48, 52, 55, 61, 65, 66, 67] have too few spikes and amplitude_cutoff is set to NaN\n",
      "  warnings.warn(f\"Units {nan_units} have too few spikes and \"\n",
      "/home/mmp/.local/lib/python3.10/site-packages/spikeinterface/postprocessing/template_tools.py:19: DeprecationWarning: The spikeinterface.postprocessing.template_tools is submodule is deprecated.Use spikeinterface.core.template_tools instead\n",
      "  _warn()\n"
     ]
    },
    {
     "name": "stdout",
     "output_type": "stream",
     "text": [
      "55 41\n",
      "redundant-units : [55]\n",
      "Removing redundant items takes 277.9524921940174\n",
      "Processing recording: rec0011\n",
      "Sampling frequency: 20000.0\n",
      "Number of channels: 1008\n",
      "Number of segments: 1\n",
      "total_recording: 300.05 s\n",
      "Starting container\n",
      "Installing spikeinterface==0.97.1 in kilosort2-maxwellcomplib:latest\n",
      "Installing extra requirements: ['neo', 'h5py']\n",
      "Running kilosort2 sorter inside kilosort2-maxwellcomplib:latest\n",
      "Stopping container\n"
     ]
    },
    {
     "data": {
      "application/vnd.jupyter.widget-view+json": {
       "model_id": "383e5b8720ff40f3977aa18ac9a29ba5",
       "version_major": 2,
       "version_minor": 0
      },
      "text/plain": [
       "extract waveforms memmap:   0%|          | 0/299 [00:00<?, ?it/s]"
      ]
     },
     "metadata": {},
     "output_type": "display_data"
    },
    {
     "name": "stdout",
     "output_type": "stream",
     "text": [
      "Sort and extract waveforms takes 414.03783637005836\n"
     ]
    },
    {
     "data": {
      "application/vnd.jupyter.widget-view+json": {
       "model_id": "11d7859f88e04189b02a29c464b68752",
       "version_major": 2,
       "version_minor": 0
      },
      "text/plain": [
       "extract amplitudes:   0%|          | 0/299 [00:00<?, ?it/s]"
      ]
     },
     "metadata": {},
     "output_type": "display_data"
    },
    {
     "name": "stderr",
     "output_type": "stream",
     "text": [
      "/home/mmp/.local/lib/python3.10/site-packages/spikeinterface/qualitymetrics/misc_metrics.py:194: RuntimeWarning: divide by zero encountered in scalar divide\n",
      "  snrs[unit_id] = np.abs(amplitude) / noise\n",
      "/home/mmp/.local/lib/python3.10/site-packages/spikeinterface/qualitymetrics/misc_metrics.py:511: UserWarning: Units [10, 15, 16, 21, 22, 23, 32, 36, 39, 41, 44, 45, 49, 50, 51, 57, 61, 62, 66, 72, 75, 77, 78, 80, 85, 88, 91, 98, 100] have too few spikes and amplitude_cutoff is set to NaN\n",
      "  warnings.warn(f\"Units {nan_units} have too few spikes and \"\n"
     ]
    },
    {
     "name": "stdout",
     "output_type": "stream",
     "text": [
      "22 20\n",
      "23 20\n",
      "23 21\n",
      "55 37\n",
      "91 80\n",
      "92 82\n",
      "redundant-units : [20, 20, 21, 55, 80, 92]\n"
     ]
    },
    {
     "name": "stderr",
     "output_type": "stream",
     "text": [
      "/home/mmp/.local/lib/python3.10/site-packages/spikeinterface/postprocessing/template_tools.py:19: DeprecationWarning: The spikeinterface.postprocessing.template_tools is submodule is deprecated.Use spikeinterface.core.template_tools instead\n",
      "  _warn()\n"
     ]
    },
    {
     "name": "stdout",
     "output_type": "stream",
     "text": [
      "Removing redundant items takes 280.21926362486556\n",
      "Processing recording: rec0012\n",
      "Sampling frequency: 20000.0\n",
      "Number of channels: 1008\n",
      "Number of segments: 1\n",
      "total_recording: 300.03 s\n",
      "Starting container\n",
      "Installing spikeinterface==0.97.1 in kilosort2-maxwellcomplib:latest\n",
      "Installing extra requirements: ['neo', 'h5py']\n",
      "Running kilosort2 sorter inside kilosort2-maxwellcomplib:latest\n",
      "Stopping container\n"
     ]
    },
    {
     "data": {
      "application/vnd.jupyter.widget-view+json": {
       "model_id": "c57bc8c80d7040dbaa530138f7797fb6",
       "version_major": 2,
       "version_minor": 0
      },
      "text/plain": [
       "extract waveforms memmap:   0%|          | 0/299 [00:00<?, ?it/s]"
      ]
     },
     "metadata": {},
     "output_type": "display_data"
    },
    {
     "name": "stdout",
     "output_type": "stream",
     "text": [
      "Sort and extract waveforms takes 404.087969657965\n"
     ]
    },
    {
     "data": {
      "application/vnd.jupyter.widget-view+json": {
       "model_id": "76e6e64c64084c89bd9e453dd2527161",
       "version_major": 2,
       "version_minor": 0
      },
      "text/plain": [
       "extract amplitudes:   0%|          | 0/299 [00:00<?, ?it/s]"
      ]
     },
     "metadata": {},
     "output_type": "display_data"
    },
    {
     "name": "stderr",
     "output_type": "stream",
     "text": [
      "/home/mmp/.local/lib/python3.10/site-packages/spikeinterface/qualitymetrics/misc_metrics.py:194: RuntimeWarning: divide by zero encountered in scalar divide\n",
      "  snrs[unit_id] = np.abs(amplitude) / noise\n",
      "/home/mmp/.local/lib/python3.10/site-packages/spikeinterface/qualitymetrics/misc_metrics.py:511: UserWarning: Units [1, 3, 4, 9, 10, 18, 20, 21, 32, 36, 38, 41, 42, 48, 51, 53, 56, 57, 58, 66, 78, 81, 84, 85, 87, 89, 90, 95, 96, 101] have too few spikes and amplitude_cutoff is set to NaN\n",
      "  warnings.warn(f\"Units {nan_units} have too few spikes and \"\n"
     ]
    },
    {
     "name": "stdout",
     "output_type": "stream",
     "text": [
      "101 58\n",
      "redundant-units : [58]\n"
     ]
    },
    {
     "name": "stderr",
     "output_type": "stream",
     "text": [
      "/home/mmp/.local/lib/python3.10/site-packages/spikeinterface/postprocessing/template_tools.py:19: DeprecationWarning: The spikeinterface.postprocessing.template_tools is submodule is deprecated.Use spikeinterface.core.template_tools instead\n",
      "  _warn()\n"
     ]
    },
    {
     "name": "stdout",
     "output_type": "stream",
     "text": [
      "Removing redundant items takes 303.93656907603145\n",
      "Processing recording: rec0013\n",
      "Sampling frequency: 20000.0\n",
      "Number of channels: 1008\n",
      "Number of segments: 1\n",
      "total_recording: 300.07 s\n",
      "Starting container\n",
      "Installing spikeinterface==0.97.1 in kilosort2-maxwellcomplib:latest\n",
      "Installing extra requirements: ['neo', 'h5py']\n",
      "Running kilosort2 sorter inside kilosort2-maxwellcomplib:latest\n",
      "Stopping container\n"
     ]
    },
    {
     "data": {
      "application/vnd.jupyter.widget-view+json": {
       "model_id": "cde47c0ef9874d138d6cad5b0452e928",
       "version_major": 2,
       "version_minor": 0
      },
      "text/plain": [
       "extract waveforms memmap:   0%|          | 0/299 [00:00<?, ?it/s]"
      ]
     },
     "metadata": {},
     "output_type": "display_data"
    },
    {
     "name": "stdout",
     "output_type": "stream",
     "text": [
      "Sort and extract waveforms takes 371.86629985505715\n"
     ]
    },
    {
     "data": {
      "application/vnd.jupyter.widget-view+json": {
       "model_id": "0e649fd2ccd64fbeb1296663d09d8828",
       "version_major": 2,
       "version_minor": 0
      },
      "text/plain": [
       "extract amplitudes:   0%|          | 0/299 [00:00<?, ?it/s]"
      ]
     },
     "metadata": {},
     "output_type": "display_data"
    },
    {
     "name": "stderr",
     "output_type": "stream",
     "text": [
      "/home/mmp/.local/lib/python3.10/site-packages/spikeinterface/qualitymetrics/misc_metrics.py:194: RuntimeWarning: divide by zero encountered in scalar divide\n",
      "  snrs[unit_id] = np.abs(amplitude) / noise\n",
      "/home/mmp/.local/lib/python3.10/site-packages/spikeinterface/qualitymetrics/misc_metrics.py:511: UserWarning: Units [6, 8, 15, 16, 30, 33, 34, 39, 48, 52, 54, 64, 66, 72, 74, 76, 81, 82, 86] have too few spikes and amplitude_cutoff is set to NaN\n",
      "  warnings.warn(f\"Units {nan_units} have too few spikes and \"\n",
      "/home/mmp/.local/lib/python3.10/site-packages/spikeinterface/postprocessing/template_tools.py:19: DeprecationWarning: The spikeinterface.postprocessing.template_tools is submodule is deprecated.Use spikeinterface.core.template_tools instead\n",
      "  _warn()\n"
     ]
    },
    {
     "name": "stdout",
     "output_type": "stream",
     "text": [
      "92 76\n",
      "redundant-units : [92]\n",
      "Removing redundant items takes 285.4316477179527\n",
      "Processing recording: rec0014\n",
      "Sampling frequency: 20000.0\n",
      "Number of channels: 1008\n",
      "Number of segments: 1\n",
      "total_recording: 300.05 s\n",
      "Starting container\n",
      "Installing spikeinterface==0.97.1 in kilosort2-maxwellcomplib:latest\n",
      "Installing extra requirements: ['neo', 'h5py']\n",
      "Running kilosort2 sorter inside kilosort2-maxwellcomplib:latest\n",
      "Stopping container\n"
     ]
    },
    {
     "data": {
      "application/vnd.jupyter.widget-view+json": {
       "model_id": "c57ded816d2541bc88494d9248750da8",
       "version_major": 2,
       "version_minor": 0
      },
      "text/plain": [
       "extract waveforms memmap:   0%|          | 0/299 [00:00<?, ?it/s]"
      ]
     },
     "metadata": {},
     "output_type": "display_data"
    },
    {
     "name": "stdout",
     "output_type": "stream",
     "text": [
      "Sort and extract waveforms takes 405.31354676000774\n"
     ]
    },
    {
     "data": {
      "application/vnd.jupyter.widget-view+json": {
       "model_id": "a24ac2a1d19e4930a1242216024d3895",
       "version_major": 2,
       "version_minor": 0
      },
      "text/plain": [
       "extract amplitudes:   0%|          | 0/299 [00:00<?, ?it/s]"
      ]
     },
     "metadata": {},
     "output_type": "display_data"
    },
    {
     "name": "stderr",
     "output_type": "stream",
     "text": [
      "/home/mmp/.local/lib/python3.10/site-packages/spikeinterface/qualitymetrics/misc_metrics.py:194: RuntimeWarning: divide by zero encountered in scalar divide\n",
      "  snrs[unit_id] = np.abs(amplitude) / noise\n",
      "/home/mmp/.local/lib/python3.10/site-packages/spikeinterface/qualitymetrics/misc_metrics.py:511: UserWarning: Units [3, 7, 11, 17, 19, 26, 35, 38, 41, 45, 46, 51, 53, 66, 68, 70, 72, 74, 78, 80, 81, 82, 83, 84, 85, 95, 97, 101] have too few spikes and amplitude_cutoff is set to NaN\n",
      "  warnings.warn(f\"Units {nan_units} have too few spikes and \"\n"
     ]
    },
    {
     "name": "stdout",
     "output_type": "stream",
     "text": [
      "53 41\n",
      "68 41\n",
      "68 53\n",
      "redundant-units : [41, 41, 68]\n"
     ]
    },
    {
     "name": "stderr",
     "output_type": "stream",
     "text": [
      "/home/mmp/.local/lib/python3.10/site-packages/spikeinterface/postprocessing/template_tools.py:19: DeprecationWarning: The spikeinterface.postprocessing.template_tools is submodule is deprecated.Use spikeinterface.core.template_tools instead\n",
      "  _warn()\n"
     ]
    },
    {
     "name": "stdout",
     "output_type": "stream",
     "text": [
      "Removing redundant items takes 284.7454505448695\n",
      "Processing recording: rec0015\n",
      "Sampling frequency: 20000.0\n",
      "Number of channels: 1008\n",
      "Number of segments: 1\n",
      "total_recording: 300.02 s\n",
      "Starting container\n",
      "Installing spikeinterface==0.97.1 in kilosort2-maxwellcomplib:latest\n",
      "Installing extra requirements: ['neo', 'h5py']\n",
      "Running kilosort2 sorter inside kilosort2-maxwellcomplib:latest\n",
      "Stopping container\n"
     ]
    },
    {
     "data": {
      "application/vnd.jupyter.widget-view+json": {
       "model_id": "8a4bc800e11e4333877737214ec4b149",
       "version_major": 2,
       "version_minor": 0
      },
      "text/plain": [
       "extract waveforms memmap:   0%|          | 0/299 [00:00<?, ?it/s]"
      ]
     },
     "metadata": {},
     "output_type": "display_data"
    },
    {
     "name": "stdout",
     "output_type": "stream",
     "text": [
      "Sort and extract waveforms takes 450.13768920022994\n"
     ]
    },
    {
     "data": {
      "application/vnd.jupyter.widget-view+json": {
       "model_id": "20637a6b89f946a7aa12364028211108",
       "version_major": 2,
       "version_minor": 0
      },
      "text/plain": [
       "extract amplitudes:   0%|          | 0/299 [00:00<?, ?it/s]"
      ]
     },
     "metadata": {},
     "output_type": "display_data"
    },
    {
     "name": "stderr",
     "output_type": "stream",
     "text": [
      "/home/mmp/.local/lib/python3.10/site-packages/spikeinterface/qualitymetrics/misc_metrics.py:194: RuntimeWarning: divide by zero encountered in scalar divide\n",
      "  snrs[unit_id] = np.abs(amplitude) / noise\n",
      "/home/mmp/.local/lib/python3.10/site-packages/spikeinterface/qualitymetrics/misc_metrics.py:511: UserWarning: Units [9, 14, 17, 21, 22, 25, 30, 31, 38, 39, 51, 54, 58, 59, 64, 68, 69, 71, 74, 79, 81, 88, 91, 92, 93, 96, 97, 99, 102, 103, 104, 105, 108, 112, 113, 114, 117, 118, 122] have too few spikes and amplitude_cutoff is set to NaN\n",
      "  warnings.warn(f\"Units {nan_units} have too few spikes and \"\n"
     ]
    },
    {
     "name": "stdout",
     "output_type": "stream",
     "text": [
      "57 54\n",
      "118 116\n",
      "redundant-units : [57, 116]\n"
     ]
    },
    {
     "name": "stderr",
     "output_type": "stream",
     "text": [
      "/home/mmp/.local/lib/python3.10/site-packages/spikeinterface/postprocessing/template_tools.py:19: DeprecationWarning: The spikeinterface.postprocessing.template_tools is submodule is deprecated.Use spikeinterface.core.template_tools instead\n",
      "  _warn()\n"
     ]
    },
    {
     "name": "stdout",
     "output_type": "stream",
     "text": [
      "Removing redundant items takes 343.98803938087076\n",
      "Processing recording: rec0016\n",
      "Sampling frequency: 20000.0\n",
      "Number of channels: 1008\n",
      "Number of segments: 1\n",
      "total_recording: 300.05 s\n",
      "Starting container\n",
      "Installing spikeinterface==0.97.1 in kilosort2-maxwellcomplib:latest\n",
      "Installing extra requirements: ['neo', 'h5py']\n",
      "Running kilosort2 sorter inside kilosort2-maxwellcomplib:latest\n",
      "Stopping container\n"
     ]
    },
    {
     "data": {
      "application/vnd.jupyter.widget-view+json": {
       "model_id": "1cea363e89e54de9aad1a6522fe3b018",
       "version_major": 2,
       "version_minor": 0
      },
      "text/plain": [
       "extract waveforms memmap:   0%|          | 0/299 [00:00<?, ?it/s]"
      ]
     },
     "metadata": {},
     "output_type": "display_data"
    },
    {
     "name": "stdout",
     "output_type": "stream",
     "text": [
      "Sort and extract waveforms takes 376.963584525045\n"
     ]
    },
    {
     "data": {
      "application/vnd.jupyter.widget-view+json": {
       "model_id": "b28f82758909408a9b9057b36299c4bd",
       "version_major": 2,
       "version_minor": 0
      },
      "text/plain": [
       "extract amplitudes:   0%|          | 0/299 [00:00<?, ?it/s]"
      ]
     },
     "metadata": {},
     "output_type": "display_data"
    },
    {
     "name": "stderr",
     "output_type": "stream",
     "text": [
      "/home/mmp/.local/lib/python3.10/site-packages/spikeinterface/qualitymetrics/misc_metrics.py:194: RuntimeWarning: divide by zero encountered in scalar divide\n",
      "  snrs[unit_id] = np.abs(amplitude) / noise\n",
      "/home/mmp/.local/lib/python3.10/site-packages/spikeinterface/qualitymetrics/misc_metrics.py:511: UserWarning: Units [8, 9, 10, 11, 12, 13, 18, 20, 26, 32, 33, 34, 38, 44, 46, 48, 62, 64, 66, 67, 68, 72, 74, 84, 86, 93, 94, 95, 99, 100, 101, 103] have too few spikes and amplitude_cutoff is set to NaN\n",
      "  warnings.warn(f\"Units {nan_units} have too few spikes and \"\n"
     ]
    },
    {
     "name": "stdout",
     "output_type": "stream",
     "text": [
      "35 28\n",
      "45 34\n",
      "60 33\n",
      "redundant-units : [28, 34, 33]\n"
     ]
    },
    {
     "name": "stderr",
     "output_type": "stream",
     "text": [
      "/home/mmp/.local/lib/python3.10/site-packages/spikeinterface/postprocessing/template_tools.py:19: DeprecationWarning: The spikeinterface.postprocessing.template_tools is submodule is deprecated.Use spikeinterface.core.template_tools instead\n",
      "  _warn()\n"
     ]
    },
    {
     "name": "stdout",
     "output_type": "stream",
     "text": [
      "Removing redundant items takes 277.3272311028559\n",
      "Processing recording: rec0017\n",
      "Sampling frequency: 20000.0\n",
      "Number of channels: 1008\n",
      "Number of segments: 1\n",
      "total_recording: 300.03 s\n",
      "Starting container\n",
      "Installing spikeinterface==0.97.1 in kilosort2-maxwellcomplib:latest\n",
      "Installing extra requirements: ['neo', 'h5py']\n",
      "Running kilosort2 sorter inside kilosort2-maxwellcomplib:latest\n",
      "Stopping container\n"
     ]
    },
    {
     "data": {
      "application/vnd.jupyter.widget-view+json": {
       "model_id": "b0414a5cca58460fa9e3f9bea22865d6",
       "version_major": 2,
       "version_minor": 0
      },
      "text/plain": [
       "extract waveforms memmap:   0%|          | 0/299 [00:00<?, ?it/s]"
      ]
     },
     "metadata": {},
     "output_type": "display_data"
    },
    {
     "name": "stdout",
     "output_type": "stream",
     "text": [
      "Sort and extract waveforms takes 427.8284545629285\n"
     ]
    },
    {
     "data": {
      "application/vnd.jupyter.widget-view+json": {
       "model_id": "5539aa5ad4f14e77b8e9c818242d9601",
       "version_major": 2,
       "version_minor": 0
      },
      "text/plain": [
       "extract amplitudes:   0%|          | 0/299 [00:00<?, ?it/s]"
      ]
     },
     "metadata": {},
     "output_type": "display_data"
    },
    {
     "name": "stderr",
     "output_type": "stream",
     "text": [
      "/home/mmp/.local/lib/python3.10/site-packages/spikeinterface/qualitymetrics/misc_metrics.py:194: RuntimeWarning: divide by zero encountered in scalar divide\n",
      "  snrs[unit_id] = np.abs(amplitude) / noise\n",
      "/home/mmp/.local/lib/python3.10/site-packages/spikeinterface/qualitymetrics/misc_metrics.py:511: UserWarning: Units [1, 4, 9, 14, 22, 25, 27, 31, 32, 37, 39, 44, 47, 52, 55, 57, 60, 62, 63, 79, 81, 88, 91, 94] have too few spikes and amplitude_cutoff is set to NaN\n",
      "  warnings.warn(f\"Units {nan_units} have too few spikes and \"\n"
     ]
    },
    {
     "name": "stdout",
     "output_type": "stream",
     "text": [
      "25 23\n",
      "57 52\n",
      "63 60\n",
      "redundant-units : [23, 52, 63]\n"
     ]
    },
    {
     "name": "stderr",
     "output_type": "stream",
     "text": [
      "/home/mmp/.local/lib/python3.10/site-packages/spikeinterface/postprocessing/template_tools.py:19: DeprecationWarning: The spikeinterface.postprocessing.template_tools is submodule is deprecated.Use spikeinterface.core.template_tools instead\n",
      "  _warn()\n"
     ]
    },
    {
     "name": "stdout",
     "output_type": "stream",
     "text": [
      "Removing redundant items takes 293.57429877412505\n",
      "Processing recording: rec0018\n",
      "Sampling frequency: 20000.0\n",
      "Number of channels: 1008\n",
      "Number of segments: 1\n",
      "total_recording: 300.06 s\n",
      "Starting container\n",
      "Installing spikeinterface==0.97.1 in kilosort2-maxwellcomplib:latest\n",
      "Installing extra requirements: ['neo', 'h5py']\n",
      "Running kilosort2 sorter inside kilosort2-maxwellcomplib:latest\n",
      "Stopping container\n"
     ]
    },
    {
     "data": {
      "application/vnd.jupyter.widget-view+json": {
       "model_id": "11c2ecdc051f42e09281ddf19f7022b6",
       "version_major": 2,
       "version_minor": 0
      },
      "text/plain": [
       "extract waveforms memmap:   0%|          | 0/299 [00:00<?, ?it/s]"
      ]
     },
     "metadata": {},
     "output_type": "display_data"
    },
    {
     "name": "stdout",
     "output_type": "stream",
     "text": [
      "Sort and extract waveforms takes 427.47731948597357\n"
     ]
    },
    {
     "data": {
      "application/vnd.jupyter.widget-view+json": {
       "model_id": "a7f9787cd7ef458a874d264d5dc5ead4",
       "version_major": 2,
       "version_minor": 0
      },
      "text/plain": [
       "extract amplitudes:   0%|          | 0/299 [00:00<?, ?it/s]"
      ]
     },
     "metadata": {},
     "output_type": "display_data"
    },
    {
     "name": "stderr",
     "output_type": "stream",
     "text": [
      "/home/mmp/.local/lib/python3.10/site-packages/spikeinterface/qualitymetrics/misc_metrics.py:194: RuntimeWarning: divide by zero encountered in scalar divide\n",
      "  snrs[unit_id] = np.abs(amplitude) / noise\n",
      "/home/mmp/.local/lib/python3.10/site-packages/spikeinterface/qualitymetrics/misc_metrics.py:511: UserWarning: Units [3, 7, 17, 19, 25, 29, 35, 37, 40, 43, 46, 49, 56, 57, 61, 62, 64, 68, 70, 71, 73, 79, 83, 85, 93, 95, 101, 102, 105, 107, 110, 116, 120] have too few spikes and amplitude_cutoff is set to NaN\n",
      "  warnings.warn(f\"Units {nan_units} have too few spikes and \"\n"
     ]
    },
    {
     "name": "stdout",
     "output_type": "stream",
     "text": [
      "46 44\n",
      "51 33\n",
      "83 43\n",
      "102 64\n",
      "redundant-units : [44, 51, 43, 64]\n"
     ]
    },
    {
     "name": "stderr",
     "output_type": "stream",
     "text": [
      "/home/mmp/.local/lib/python3.10/site-packages/spikeinterface/postprocessing/template_tools.py:19: DeprecationWarning: The spikeinterface.postprocessing.template_tools is submodule is deprecated.Use spikeinterface.core.template_tools instead\n",
      "  _warn()\n"
     ]
    },
    {
     "name": "stdout",
     "output_type": "stream",
     "text": [
      "Removing redundant items takes 357.6505430981051\n",
      "Processing recording: rec0019\n",
      "Sampling frequency: 20000.0\n",
      "Number of channels: 1008\n",
      "Number of segments: 1\n",
      "total_recording: 300.06 s\n",
      "Starting container\n",
      "Installing spikeinterface==0.97.1 in kilosort2-maxwellcomplib:latest\n",
      "Installing extra requirements: ['neo', 'h5py']\n",
      "Running kilosort2 sorter inside kilosort2-maxwellcomplib:latest\n",
      "Stopping container\n"
     ]
    },
    {
     "data": {
      "application/vnd.jupyter.widget-view+json": {
       "model_id": "f5d49df537cd4519b9a7a874ea4e3fc2",
       "version_major": 2,
       "version_minor": 0
      },
      "text/plain": [
       "extract waveforms memmap:   0%|          | 0/299 [00:00<?, ?it/s]"
      ]
     },
     "metadata": {},
     "output_type": "display_data"
    },
    {
     "name": "stdout",
     "output_type": "stream",
     "text": [
      "Sort and extract waveforms takes 443.5474726068787\n"
     ]
    },
    {
     "data": {
      "application/vnd.jupyter.widget-view+json": {
       "model_id": "a2b10699d4a64d97ae355425d972dc6b",
       "version_major": 2,
       "version_minor": 0
      },
      "text/plain": [
       "extract amplitudes:   0%|          | 0/299 [00:00<?, ?it/s]"
      ]
     },
     "metadata": {},
     "output_type": "display_data"
    },
    {
     "name": "stderr",
     "output_type": "stream",
     "text": [
      "/home/mmp/.local/lib/python3.10/site-packages/spikeinterface/qualitymetrics/misc_metrics.py:194: RuntimeWarning: divide by zero encountered in scalar divide\n",
      "  snrs[unit_id] = np.abs(amplitude) / noise\n",
      "/home/mmp/.local/lib/python3.10/site-packages/spikeinterface/qualitymetrics/misc_metrics.py:511: UserWarning: Units [2, 6, 7, 9, 12, 13, 14, 15, 16, 19, 22, 24, 31, 35, 44, 48, 56, 57, 62, 64, 66, 67, 69, 71, 72, 73, 80, 82, 83, 85, 88, 89, 91, 94, 95, 100, 105, 109, 111, 112, 114, 116, 117, 119, 121, 126] have too few spikes and amplitude_cutoff is set to NaN\n",
      "  warnings.warn(f\"Units {nan_units} have too few spikes and \"\n"
     ]
    },
    {
     "name": "stdout",
     "output_type": "stream",
     "text": [
      "13 6\n",
      "24 22\n",
      "73 14\n",
      "80 57\n",
      "82 57\n",
      "94 2\n",
      "116 113\n",
      "117 113\n",
      "124 48\n",
      "127 68\n",
      "redundant-units : [6, 22, 73, 57, 57, 94, 113, 113, 124, 68]\n"
     ]
    },
    {
     "name": "stderr",
     "output_type": "stream",
     "text": [
      "/home/mmp/.local/lib/python3.10/site-packages/spikeinterface/postprocessing/template_tools.py:19: DeprecationWarning: The spikeinterface.postprocessing.template_tools is submodule is deprecated.Use spikeinterface.core.template_tools instead\n",
      "  _warn()\n"
     ]
    },
    {
     "name": "stdout",
     "output_type": "stream",
     "text": [
      "Removing redundant items takes 336.16371331899427\n",
      "Processing recording: rec0020\n",
      "Sampling frequency: 20000.0\n",
      "Number of channels: 1008\n",
      "Number of segments: 1\n",
      "total_recording: 300.04 s\n",
      "Starting container\n",
      "Installing spikeinterface==0.97.1 in kilosort2-maxwellcomplib:latest\n",
      "Installing extra requirements: ['neo', 'h5py']\n",
      "Running kilosort2 sorter inside kilosort2-maxwellcomplib:latest\n",
      "Stopping container\n"
     ]
    },
    {
     "data": {
      "application/vnd.jupyter.widget-view+json": {
       "model_id": "08432850bbd744409981bb2c20513503",
       "version_major": 2,
       "version_minor": 0
      },
      "text/plain": [
       "extract waveforms memmap:   0%|          | 0/299 [00:00<?, ?it/s]"
      ]
     },
     "metadata": {},
     "output_type": "display_data"
    },
    {
     "name": "stdout",
     "output_type": "stream",
     "text": [
      "Sort and extract waveforms takes 447.32243866007775\n"
     ]
    },
    {
     "data": {
      "application/vnd.jupyter.widget-view+json": {
       "model_id": "1d9f8bca1d974c90867a14a952c97af7",
       "version_major": 2,
       "version_minor": 0
      },
      "text/plain": [
       "extract amplitudes:   0%|          | 0/299 [00:00<?, ?it/s]"
      ]
     },
     "metadata": {},
     "output_type": "display_data"
    },
    {
     "name": "stderr",
     "output_type": "stream",
     "text": [
      "/home/mmp/.local/lib/python3.10/site-packages/spikeinterface/qualitymetrics/misc_metrics.py:194: RuntimeWarning: divide by zero encountered in scalar divide\n",
      "  snrs[unit_id] = np.abs(amplitude) / noise\n",
      "/home/mmp/.local/lib/python3.10/site-packages/spikeinterface/qualitymetrics/misc_metrics.py:511: UserWarning: Units [0, 7, 9, 15, 19, 22, 28, 29, 30, 31, 36, 42, 43, 49, 50, 51, 57, 58, 64, 65, 66, 72, 73, 74, 76, 80, 84, 87, 90, 91, 94, 98, 100, 103, 104, 109, 112, 113, 118, 119, 121, 122, 123, 124, 128, 132, 133, 135] have too few spikes and amplitude_cutoff is set to NaN\n",
      "  warnings.warn(f\"Units {nan_units} have too few spikes and \"\n"
     ]
    },
    {
     "name": "stdout",
     "output_type": "stream",
     "text": [
      "121 97\n",
      "122 97\n",
      "123 97\n",
      "123 121\n",
      "124 97\n",
      "124 121\n",
      "124 122\n",
      "135 88\n",
      "redundant-units : [97, 97, 97, 121, 97, 121, 122, 88]\n"
     ]
    },
    {
     "name": "stderr",
     "output_type": "stream",
     "text": [
      "/home/mmp/.local/lib/python3.10/site-packages/spikeinterface/postprocessing/template_tools.py:19: DeprecationWarning: The spikeinterface.postprocessing.template_tools is submodule is deprecated.Use spikeinterface.core.template_tools instead\n",
      "  _warn()\n"
     ]
    },
    {
     "name": "stdout",
     "output_type": "stream",
     "text": [
      "Removing redundant items takes 327.2398910750635\n",
      "Processing recording: rec0021\n",
      "Sampling frequency: 20000.0\n",
      "Number of channels: 1008\n",
      "Number of segments: 1\n",
      "total_recording: 300.04 s\n",
      "Starting container\n",
      "Installing spikeinterface==0.97.1 in kilosort2-maxwellcomplib:latest\n",
      "Installing extra requirements: ['neo', 'h5py']\n",
      "Running kilosort2 sorter inside kilosort2-maxwellcomplib:latest\n",
      "Stopping container\n"
     ]
    },
    {
     "data": {
      "application/vnd.jupyter.widget-view+json": {
       "model_id": "45b33ed197594a0ba5254b9048f57dcd",
       "version_major": 2,
       "version_minor": 0
      },
      "text/plain": [
       "extract waveforms memmap:   0%|          | 0/299 [00:00<?, ?it/s]"
      ]
     },
     "metadata": {},
     "output_type": "display_data"
    },
    {
     "name": "stdout",
     "output_type": "stream",
     "text": [
      "Sort and extract waveforms takes 397.28307561785914\n"
     ]
    },
    {
     "data": {
      "application/vnd.jupyter.widget-view+json": {
       "model_id": "6e18fec107a8402388914bbf9c01039a",
       "version_major": 2,
       "version_minor": 0
      },
      "text/plain": [
       "extract amplitudes:   0%|          | 0/299 [00:00<?, ?it/s]"
      ]
     },
     "metadata": {},
     "output_type": "display_data"
    },
    {
     "name": "stderr",
     "output_type": "stream",
     "text": [
      "/home/mmp/.local/lib/python3.10/site-packages/spikeinterface/qualitymetrics/misc_metrics.py:194: RuntimeWarning: divide by zero encountered in scalar divide\n",
      "  snrs[unit_id] = np.abs(amplitude) / noise\n",
      "/home/mmp/.local/lib/python3.10/site-packages/spikeinterface/qualitymetrics/misc_metrics.py:511: UserWarning: Units [2, 4, 6, 16, 20, 25, 45, 48, 49, 59, 60, 62, 66, 70, 75, 76, 77, 80] have too few spikes and amplitude_cutoff is set to NaN\n",
      "  warnings.warn(f\"Units {nan_units} have too few spikes and \"\n"
     ]
    },
    {
     "name": "stdout",
     "output_type": "stream",
     "text": [
      "redundant-units : []\n"
     ]
    },
    {
     "name": "stderr",
     "output_type": "stream",
     "text": [
      "/home/mmp/.local/lib/python3.10/site-packages/spikeinterface/postprocessing/template_tools.py:19: DeprecationWarning: The spikeinterface.postprocessing.template_tools is submodule is deprecated.Use spikeinterface.core.template_tools instead\n",
      "  _warn()\n"
     ]
    },
    {
     "name": "stdout",
     "output_type": "stream",
     "text": [
      "Removing redundant items takes 296.9120029329788\n",
      "Processing recording: rec0022\n",
      "Sampling frequency: 20000.0\n",
      "Number of channels: 1008\n",
      "Number of segments: 1\n",
      "total_recording: 300.04 s\n",
      "Starting container\n",
      "Installing spikeinterface==0.97.1 in kilosort2-maxwellcomplib:latest\n",
      "Installing extra requirements: ['neo', 'h5py']\n",
      "Running kilosort2 sorter inside kilosort2-maxwellcomplib:latest\n",
      "Stopping container\n"
     ]
    },
    {
     "data": {
      "application/vnd.jupyter.widget-view+json": {
       "model_id": "2e14f3d61a54410fa16697809cca692c",
       "version_major": 2,
       "version_minor": 0
      },
      "text/plain": [
       "extract waveforms memmap:   0%|          | 0/299 [00:00<?, ?it/s]"
      ]
     },
     "metadata": {},
     "output_type": "display_data"
    },
    {
     "name": "stdout",
     "output_type": "stream",
     "text": [
      "Sort and extract waveforms takes 452.1962320569437\n"
     ]
    },
    {
     "data": {
      "application/vnd.jupyter.widget-view+json": {
       "model_id": "3c251575373b4fecbbc94ccf0b101d59",
       "version_major": 2,
       "version_minor": 0
      },
      "text/plain": [
       "extract amplitudes:   0%|          | 0/299 [00:00<?, ?it/s]"
      ]
     },
     "metadata": {},
     "output_type": "display_data"
    },
    {
     "name": "stderr",
     "output_type": "stream",
     "text": [
      "/home/mmp/.local/lib/python3.10/site-packages/spikeinterface/qualitymetrics/misc_metrics.py:194: RuntimeWarning: divide by zero encountered in scalar divide\n",
      "  snrs[unit_id] = np.abs(amplitude) / noise\n",
      "/home/mmp/.local/lib/python3.10/site-packages/spikeinterface/qualitymetrics/misc_metrics.py:511: UserWarning: Units [9, 11, 16, 19, 22, 23, 31, 35, 36, 37, 40, 43, 48, 51, 55, 56, 57, 59, 64, 65, 66, 67, 68, 70, 71, 84, 86, 96, 97, 100, 101, 102, 108, 109, 114, 116, 120, 125, 127] have too few spikes and amplitude_cutoff is set to NaN\n",
      "  warnings.warn(f\"Units {nan_units} have too few spikes and \"\n"
     ]
    },
    {
     "name": "stdout",
     "output_type": "stream",
     "text": [
      "48 9\n",
      "59 43\n",
      "120 43\n",
      "120 59\n",
      "redundant-units : [9, 59, 120, 120]\n"
     ]
    },
    {
     "name": "stderr",
     "output_type": "stream",
     "text": [
      "/home/mmp/.local/lib/python3.10/site-packages/spikeinterface/postprocessing/template_tools.py:19: DeprecationWarning: The spikeinterface.postprocessing.template_tools is submodule is deprecated.Use spikeinterface.core.template_tools instead\n",
      "  _warn()\n"
     ]
    },
    {
     "name": "stdout",
     "output_type": "stream",
     "text": [
      "Removing redundant items takes 382.041838432895\n",
      "Processing recording: rec0023\n",
      "Sampling frequency: 20000.0\n",
      "Number of channels: 1008\n",
      "Number of segments: 1\n",
      "total_recording: 300.06 s\n",
      "Starting container\n",
      "Installing spikeinterface==0.97.1 in kilosort2-maxwellcomplib:latest\n",
      "Installing extra requirements: ['neo', 'h5py']\n",
      "Running kilosort2 sorter inside kilosort2-maxwellcomplib:latest\n",
      "Stopping container\n"
     ]
    },
    {
     "data": {
      "application/vnd.jupyter.widget-view+json": {
       "model_id": "b75b0c2eb27a49e68a2d5bf03ad09088",
       "version_major": 2,
       "version_minor": 0
      },
      "text/plain": [
       "extract waveforms memmap:   0%|          | 0/299 [00:00<?, ?it/s]"
      ]
     },
     "metadata": {},
     "output_type": "display_data"
    },
    {
     "name": "stdout",
     "output_type": "stream",
     "text": [
      "Sort and extract waveforms takes 420.891070388956\n"
     ]
    },
    {
     "data": {
      "application/vnd.jupyter.widget-view+json": {
       "model_id": "50ac37624f4f4bcb8c7e5479a700353e",
       "version_major": 2,
       "version_minor": 0
      },
      "text/plain": [
       "extract amplitudes:   0%|          | 0/299 [00:00<?, ?it/s]"
      ]
     },
     "metadata": {},
     "output_type": "display_data"
    },
    {
     "name": "stderr",
     "output_type": "stream",
     "text": [
      "/home/mmp/.local/lib/python3.10/site-packages/spikeinterface/qualitymetrics/misc_metrics.py:194: RuntimeWarning: divide by zero encountered in scalar divide\n",
      "  snrs[unit_id] = np.abs(amplitude) / noise\n",
      "/home/mmp/.local/lib/python3.10/site-packages/spikeinterface/qualitymetrics/misc_metrics.py:511: UserWarning: Units [3, 12, 17, 22, 25, 32, 38, 45, 48, 54, 58, 65, 66, 67, 73, 74, 82, 88, 89, 93, 95] have too few spikes and amplitude_cutoff is set to NaN\n",
      "  warnings.warn(f\"Units {nan_units} have too few spikes and \"\n"
     ]
    },
    {
     "name": "stdout",
     "output_type": "stream",
     "text": [
      "37 28\n",
      "73 28\n",
      "73 37\n",
      "73 38\n",
      "97 72\n",
      "redundant-units : [37, 73, 37, 38, 72]\n"
     ]
    },
    {
     "name": "stderr",
     "output_type": "stream",
     "text": [
      "/home/mmp/.local/lib/python3.10/site-packages/spikeinterface/postprocessing/template_tools.py:19: DeprecationWarning: The spikeinterface.postprocessing.template_tools is submodule is deprecated.Use spikeinterface.core.template_tools instead\n",
      "  _warn()\n"
     ]
    },
    {
     "name": "stdout",
     "output_type": "stream",
     "text": [
      "Removing redundant items takes 318.93521497701295\n",
      "Processing recording: rec0024\n",
      "Sampling frequency: 20000.0\n",
      "Number of channels: 1008\n",
      "Number of segments: 1\n",
      "total_recording: 300.07 s\n",
      "Starting container\n",
      "Installing spikeinterface==0.97.1 in kilosort2-maxwellcomplib:latest\n",
      "Installing extra requirements: ['neo', 'h5py']\n",
      "Running kilosort2 sorter inside kilosort2-maxwellcomplib:latest\n",
      "Stopping container\n"
     ]
    },
    {
     "data": {
      "application/vnd.jupyter.widget-view+json": {
       "model_id": "fe0ce6b8cc4146f7aff24a78dbc79a80",
       "version_major": 2,
       "version_minor": 0
      },
      "text/plain": [
       "extract waveforms memmap:   0%|          | 0/299 [00:00<?, ?it/s]"
      ]
     },
     "metadata": {},
     "output_type": "display_data"
    },
    {
     "name": "stdout",
     "output_type": "stream",
     "text": [
      "Sort and extract waveforms takes 438.6446887750644\n"
     ]
    },
    {
     "data": {
      "application/vnd.jupyter.widget-view+json": {
       "model_id": "92c2c01e8b64427ca1628a554a926115",
       "version_major": 2,
       "version_minor": 0
      },
      "text/plain": [
       "extract amplitudes:   0%|          | 0/299 [00:00<?, ?it/s]"
      ]
     },
     "metadata": {},
     "output_type": "display_data"
    },
    {
     "name": "stderr",
     "output_type": "stream",
     "text": [
      "/home/mmp/.local/lib/python3.10/site-packages/spikeinterface/qualitymetrics/misc_metrics.py:194: RuntimeWarning: divide by zero encountered in scalar divide\n",
      "  snrs[unit_id] = np.abs(amplitude) / noise\n",
      "/home/mmp/.local/lib/python3.10/site-packages/spikeinterface/qualitymetrics/misc_metrics.py:511: UserWarning: Units [2, 19, 20, 31, 32, 33, 40, 41, 43, 50, 52, 57, 61, 63, 64, 68, 73, 75, 78, 81, 86, 88, 91, 92, 93, 99, 100, 101, 103, 105, 108, 111, 119, 121, 123, 124, 129, 130, 131, 133, 134, 141] have too few spikes and amplitude_cutoff is set to NaN\n",
      "  warnings.warn(f\"Units {nan_units} have too few spikes and \"\n"
     ]
    },
    {
     "name": "stdout",
     "output_type": "stream",
     "text": [
      "43 40\n",
      "89 71\n",
      "91 71\n",
      "99 64\n",
      "130 64\n",
      "130 99\n",
      "145 126\n",
      "redundant-units : [43, 89, 91, 99, 64, 99, 145]\n"
     ]
    },
    {
     "name": "stderr",
     "output_type": "stream",
     "text": [
      "/home/mmp/.local/lib/python3.10/site-packages/spikeinterface/postprocessing/template_tools.py:19: DeprecationWarning: The spikeinterface.postprocessing.template_tools is submodule is deprecated.Use spikeinterface.core.template_tools instead\n",
      "  _warn()\n"
     ]
    },
    {
     "name": "stdout",
     "output_type": "stream",
     "text": [
      "Removing redundant items takes 303.74058857001364\n",
      "Processing recording: rec0025\n",
      "Sampling frequency: 20000.0\n",
      "Number of channels: 296\n",
      "Number of segments: 1\n",
      "total_recording: 300.05 s\n",
      "Starting container\n",
      "Installing spikeinterface==0.97.1 in kilosort2-maxwellcomplib:latest\n",
      "Installing extra requirements: ['neo', 'h5py']\n",
      "Running kilosort2 sorter inside kilosort2-maxwellcomplib:latest\n",
      "Stopping container\n"
     ]
    },
    {
     "data": {
      "application/vnd.jupyter.widget-view+json": {
       "model_id": "1773e2954b4f4eb8a8862d5927664ed1",
       "version_major": 2,
       "version_minor": 0
      },
      "text/plain": [
       "extract waveforms memmap:   0%|          | 0/299 [00:00<?, ?it/s]"
      ]
     },
     "metadata": {},
     "output_type": "display_data"
    },
    {
     "name": "stdout",
     "output_type": "stream",
     "text": [
      "Sort and extract waveforms takes 120.3734087899793\n"
     ]
    },
    {
     "data": {
      "application/vnd.jupyter.widget-view+json": {
       "model_id": "24ed7a66544e4e60b052f3767ad4c763",
       "version_major": 2,
       "version_minor": 0
      },
      "text/plain": [
       "extract amplitudes:   0%|          | 0/299 [00:00<?, ?it/s]"
      ]
     },
     "metadata": {},
     "output_type": "display_data"
    },
    {
     "name": "stderr",
     "output_type": "stream",
     "text": [
      "/home/mmp/.local/lib/python3.10/site-packages/spikeinterface/qualitymetrics/misc_metrics.py:194: RuntimeWarning: divide by zero encountered in scalar divide\n",
      "  snrs[unit_id] = np.abs(amplitude) / noise\n",
      "/home/mmp/.local/lib/python3.10/site-packages/spikeinterface/qualitymetrics/misc_metrics.py:511: UserWarning: Units [4] have too few spikes and amplitude_cutoff is set to NaN\n",
      "  warnings.warn(f\"Units {nan_units} have too few spikes and \"\n",
      "/home/mmp/.local/lib/python3.10/site-packages/spikeinterface/postprocessing/template_tools.py:19: DeprecationWarning: The spikeinterface.postprocessing.template_tools is submodule is deprecated.Use spikeinterface.core.template_tools instead\n",
      "  _warn()\n"
     ]
    },
    {
     "name": "stdout",
     "output_type": "stream",
     "text": [
      "redundant-units : []\n",
      "Removing redundant items takes 56.41438705381006\n",
      "Processing recording: rec0026\n",
      "Sampling frequency: 20000.0\n",
      "Number of channels: 304\n",
      "Number of segments: 1\n",
      "total_recording: 300.05 s\n",
      "Starting container\n",
      "Installing spikeinterface==0.97.1 in kilosort2-maxwellcomplib:latest\n",
      "Installing extra requirements: ['neo', 'h5py']\n",
      "Running kilosort2 sorter inside kilosort2-maxwellcomplib:latest\n",
      "Stopping container\n"
     ]
    },
    {
     "data": {
      "application/vnd.jupyter.widget-view+json": {
       "model_id": "80ec32a1eb0b48daa0b132095a986513",
       "version_major": 2,
       "version_minor": 0
      },
      "text/plain": [
       "extract waveforms memmap:   0%|          | 0/299 [00:00<?, ?it/s]"
      ]
     },
     "metadata": {},
     "output_type": "display_data"
    },
    {
     "name": "stdout",
     "output_type": "stream",
     "text": [
      "Sort and extract waveforms takes 129.2288322269451\n"
     ]
    },
    {
     "data": {
      "application/vnd.jupyter.widget-view+json": {
       "model_id": "95b6521b10f94b38aecc0609d5e26924",
       "version_major": 2,
       "version_minor": 0
      },
      "text/plain": [
       "extract amplitudes:   0%|          | 0/299 [00:00<?, ?it/s]"
      ]
     },
     "metadata": {},
     "output_type": "display_data"
    },
    {
     "name": "stderr",
     "output_type": "stream",
     "text": [
      "/home/mmp/.local/lib/python3.10/site-packages/spikeinterface/qualitymetrics/misc_metrics.py:194: RuntimeWarning: divide by zero encountered in scalar divide\n",
      "  snrs[unit_id] = np.abs(amplitude) / noise\n",
      "/home/mmp/.local/lib/python3.10/site-packages/spikeinterface/qualitymetrics/misc_metrics.py:511: UserWarning: Units [10] have too few spikes and amplitude_cutoff is set to NaN\n",
      "  warnings.warn(f\"Units {nan_units} have too few spikes and \"\n",
      "/home/mmp/.local/lib/python3.10/site-packages/spikeinterface/postprocessing/template_tools.py:19: DeprecationWarning: The spikeinterface.postprocessing.template_tools is submodule is deprecated.Use spikeinterface.core.template_tools instead\n",
      "  _warn()\n"
     ]
    },
    {
     "name": "stdout",
     "output_type": "stream",
     "text": [
      "redundant-units : []\n",
      "Removing redundant items takes 77.9383439749945\n",
      "Processing recording: rec0027\n",
      "Sampling frequency: 20000.0\n",
      "Number of channels: 300\n",
      "Number of segments: 1\n",
      "total_recording: 300.05 s\n",
      "Starting container\n",
      "Installing spikeinterface==0.97.1 in kilosort2-maxwellcomplib:latest\n",
      "Installing extra requirements: ['neo', 'h5py']\n",
      "Running kilosort2 sorter inside kilosort2-maxwellcomplib:latest\n",
      "Stopping container\n"
     ]
    },
    {
     "data": {
      "application/vnd.jupyter.widget-view+json": {
       "model_id": "63ab73cc6d684407a95d84b4ccc9bb43",
       "version_major": 2,
       "version_minor": 0
      },
      "text/plain": [
       "extract waveforms memmap:   0%|          | 0/299 [00:00<?, ?it/s]"
      ]
     },
     "metadata": {},
     "output_type": "display_data"
    },
    {
     "name": "stdout",
     "output_type": "stream",
     "text": [
      "Sort and extract waveforms takes 132.54450251883827\n"
     ]
    },
    {
     "data": {
      "application/vnd.jupyter.widget-view+json": {
       "model_id": "1db8c3425cb94ad28edba48a71d71046",
       "version_major": 2,
       "version_minor": 0
      },
      "text/plain": [
       "extract amplitudes:   0%|          | 0/299 [00:00<?, ?it/s]"
      ]
     },
     "metadata": {},
     "output_type": "display_data"
    },
    {
     "name": "stderr",
     "output_type": "stream",
     "text": [
      "/home/mmp/.local/lib/python3.10/site-packages/spikeinterface/qualitymetrics/misc_metrics.py:194: RuntimeWarning: divide by zero encountered in scalar divide\n",
      "  snrs[unit_id] = np.abs(amplitude) / noise\n",
      "/home/mmp/.local/lib/python3.10/site-packages/spikeinterface/qualitymetrics/misc_metrics.py:511: UserWarning: Units [4, 6, 8, 10, 12] have too few spikes and amplitude_cutoff is set to NaN\n",
      "  warnings.warn(f\"Units {nan_units} have too few spikes and \"\n",
      "/home/mmp/.local/lib/python3.10/site-packages/spikeinterface/postprocessing/template_tools.py:19: DeprecationWarning: The spikeinterface.postprocessing.template_tools is submodule is deprecated.Use spikeinterface.core.template_tools instead\n",
      "  _warn()\n"
     ]
    },
    {
     "name": "stdout",
     "output_type": "stream",
     "text": [
      "redundant-units : []\n",
      "Removing redundant items takes 77.14592115301639\n"
     ]
    }
   ],
   "source": [
    "\n",
    "rec_numbers = [ 28 ] # need [0],locations[8][1]to know it while recording\n",
    "\n",
    "time_in_s = 299\n",
    "for rec_number in range(28):\n",
    "    msp.process_block(rec_number,file_path,time_in_s)"
   ]
  },
  {
   "cell_type": "code",
   "execution_count": null,
   "metadata": {},
   "outputs": [],
   "source": [
    "import spikeinterface.full as si\n",
    "import spikeinterface.extractors as se\n",
    "import spikeinterface.sorters as ss\n",
    "\n",
    "sorting_KS3 = ss.Kilosort2Sorter._get_result_from_folder('/mnt/disk15tb/mmpatil/Spikesorting/sorter_output/ks2_jul3/block_rec0007/kilosort2_rec0007/sorter_output/')\n",
    "waveforms = si.load_waveforms('/mnt/disk15tb/mmpatil/Spikesorting/sorter_output/ks2_jul3/block_rec0007/waveforms_good_rec0007/')"
   ]
  },
  {
   "cell_type": "code",
   "execution_count": null,
   "metadata": {},
   "outputs": [],
   "source": [
    "import spikeinterface.postprocessing as sp\n",
    "import spikeinterface.qualitymetrics as qm\n",
    "matrix = sp.compute_template_similarity(waveforms,load_if_exists=True)\n",
    "metrics = qm.compute_quality_metrics(waveforms,load_if_exists=True)\n",
    "temp_metrics = sp.compute_template_metrics(waveforms,load_if_exists=True)\n",
    "n = matrix.shape[0]"
   ]
  },
  {
   "cell_type": "code",
   "execution_count": null,
   "metadata": {},
   "outputs": [],
   "source": [
    "print(metrics)"
   ]
  },
  {
   "cell_type": "code",
   "execution_count": null,
   "metadata": {},
   "outputs": [],
   "source": []
  },
  {
   "cell_type": "code",
   "execution_count": null,
   "metadata": {},
   "outputs": [],
   "source": [
    "metrics['amplitude_median'].loc[temp_metrics.index[ind[0]]]"
   ]
  },
  {
   "cell_type": "code",
   "execution_count": null,
   "metadata": {},
   "outputs": [],
   "source": [
    "msp.remove_similar_templates(waveforms)"
   ]
  },
  {
   "cell_type": "code",
   "execution_count": 4,
   "metadata": {},
   "outputs": [
    {
     "name": "stderr",
     "output_type": "stream",
     "text": [
      "/home/mmp/.local/lib/python3.10/site-packages/ipywidgets/widgets/widget.py:501: DeprecationWarning: Passing unrecognized arguments to super(Toolbar).__init__().\n",
      "NavigationToolbar2WebAgg.__init__() missing 1 required positional argument: 'canvas'\n",
      "This is deprecated in traitlets 4.2.This error will be raised in a future release of traitlets.\n",
      "  super().__init__(**kwargs)\n"
     ]
    },
    {
     "name": "stdout",
     "output_type": "stream",
     "text": [
      "/mnt/disk15tb/mmpatil/MEA_Analysis/Python/Electrodes/Electrodes_rec0008\n",
      "/mnt/disk15tb/mmpatil/MEA_Analysis/Python/Electrodes/Electrodes_rec0004\n",
      "/mnt/disk15tb/mmpatil/MEA_Analysis/Python/Electrodes/Electrodes_rec0021\n",
      "/mnt/disk15tb/mmpatil/MEA_Analysis/Python/Electrodes/Electrodes_rec0020\n",
      "/mnt/disk15tb/mmpatil/MEA_Analysis/Python/Electrodes/Electrodes_rec0024\n",
      "/mnt/disk15tb/mmpatil/MEA_Analysis/Python/Electrodes/Electrodes_rec0011\n",
      "/mnt/disk15tb/mmpatil/MEA_Analysis/Python/Electrodes/Electrodes_rec0012\n",
      "/mnt/disk15tb/mmpatil/MEA_Analysis/Python/Electrodes/Electrodes_rec0014\n",
      "/mnt/disk15tb/mmpatil/MEA_Analysis/Python/Electrodes/Electrodes_rec0001\n",
      "/mnt/disk15tb/mmpatil/MEA_Analysis/Python/Electrodes/Electrodes_rec0027\n",
      "/mnt/disk15tb/mmpatil/MEA_Analysis/Python/Electrodes/Electrodes_rec0018\n",
      "/mnt/disk15tb/mmpatil/MEA_Analysis/Python/Electrodes/Electrodes_rec0016\n",
      "/mnt/disk15tb/mmpatil/MEA_Analysis/Python/Electrodes/Electrodes_rec0015\n",
      "/mnt/disk15tb/mmpatil/MEA_Analysis/Python/Electrodes/Electrodes_rec0000\n",
      "/mnt/disk15tb/mmpatil/MEA_Analysis/Python/Electrodes/Electrodes_rec0009\n",
      "/mnt/disk15tb/mmpatil/MEA_Analysis/Python/Electrodes/Electrodes_rec0023\n",
      "/mnt/disk15tb/mmpatil/MEA_Analysis/Python/Electrodes/Electrodes_rec0010\n",
      "/mnt/disk15tb/mmpatil/MEA_Analysis/Python/Electrodes/Electrodes_rec0026\n",
      "/mnt/disk15tb/mmpatil/MEA_Analysis/Python/Electrodes/Electrodes_rec0007\n",
      "/mnt/disk15tb/mmpatil/MEA_Analysis/Python/Electrodes/Electrodes_rec0013\n",
      "/mnt/disk15tb/mmpatil/MEA_Analysis/Python/Electrodes/Electrodes_rec0017\n",
      "/mnt/disk15tb/mmpatil/MEA_Analysis/Python/Electrodes/Electrodes_rec0006\n",
      "/mnt/disk15tb/mmpatil/MEA_Analysis/Python/Electrodes/Electrodes_rec0019\n",
      "/mnt/disk15tb/mmpatil/MEA_Analysis/Python/Electrodes/Electrodes_rec0025\n",
      "/mnt/disk15tb/mmpatil/MEA_Analysis/Python/Electrodes/Electrodes_rec0022\n",
      "/mnt/disk15tb/mmpatil/MEA_Analysis/Python/Electrodes/Electrodes_rec0005\n",
      "/mnt/disk15tb/mmpatil/MEA_Analysis/Python/Electrodes/Electrodes_rec0003\n",
      "/mnt/disk15tb/mmpatil/MEA_Analysis/Python/Electrodes/Electrodes_rec0002\n",
      "X coordinates: [10, 131, 8, 37, 160, 158, 128, 186, 41, 161, 6, 6, 36, 158, 126, 67, 186, 131, 186, 69, 71, 98, 68, 99, 128, 128, 68, 161, 101, 101, 97, 71, 98, 96, 129, 100, 101, 96, 5, 180, 184, 5, 5, 35, 122, 3, 185, 183, 33, 32, 30, 1, 5, 182, 120, 182, 33, 33, 30, 125, 121, 182, 63, 121, 65, 65, 33, 60, 60, 63, 125, 123, 91, 92, 94, 121, 65, 94, 94, 123, 92, 94, 95, 125, 92, 174, 179, 207, 207, 86, 86, 177, 29, 207, 209, 205, 174, 26, 59, 28, 179, 28, 54, 207, 208, 178, 179, 179, 177, 179, 58, 56, 116, 145, 146, 146, 145, 55, 174, 89, 56, 114, 147, 144, 117, 84, 115, 114, 119, 146, 119, 54, 86, 85, 85, 206, 209, 89, 179, 29, 179, 29, 86, 205, 26, 58, 208, 207, 204, 55, 176, 54, 176, 86, 114, 175, 114, 88, 179, 89, 89, 144, 59, 114, 148, 85, 149, 146, 146, 118, 148, 144, 117, 116, 119, 117, 119, 119, 114, 114, 87, 84, 86, 85, 179, 205, 86, 208, 85, 29, 25, 29, 24, 177, 205, 179, 29, 206, 206, 29, 56, 86, 89, 148, 115, 149, 147, 57, 174, 88, 114, 86, 87, 144, 86, 119, 144, 89, 119, 118, 117, 115, 115, 116, 115, 114, 114, 118, 115, 116, 149, 116, 118, 193, 15, 46, 163, 73, 13, 136, 77, 165, 77, 194, 45, 47, 194, 16, 163, 163, 43, 72, 162, 72, 73, 137, 46, 72, 132, 133, 105, 107, 107, 103, 104, 104, 103, 104, 133, 136, 107, 163, 162, 196, 192, 192, 14, 165, 197, 17, 42, 133, 162, 45, 74, 196, 166, 17, 136, 167, 162, 193, 132, 164, 76, 76, 75, 133, 132, 137, 106, 72, 72, 106, 103, 103, 134, 133, 132, 102, 103, 107, 102, 104, 107, 103, 134, 12, 72, 192, 197, 15, 42, 15, 162, 15, 44, 43, 17, 16, 47, 75, 136, 166, 197, 134, 74, 197, 162, 73, 132, 74, 72, 107, 132, 75, 107, 77, 102, 105, 137, 132, 137, 106, 155, 33, 63, 123, 30, 62, 122, 4, 181, 180, 0, 125, 122, 5, 150, 185, 1, 2, 180, 65, 65, 32, 1, 122, 31, 182, 150, 155, 185, 151, 62, 63, 152, 123, 61, 120, 61, 154, 60, 125, 65, 120, 90, 94, 93, 95, 124, 210, 213, 217, 210, 215, 218, 210, 171, 52, 50, 199, 172, 203, 203, 203, 23, 52, 140, 168, 21, 18, 172, 139, 48, 171, 140, 141, 139, 173, 78, 79, 82, 141, 113, 140, 142, 81, 110, 83, 112, 110, 110, 109, 108, 113, 113, 112, 113, 82, 111, 110, 108, 108, 109, 111, 108, 82, 52, 143, 18, 203, 20, 79, 22, 22, 49, 198, 201, 168, 169, 53, 113, 139, 48, 83, 83, 171, 82, 138, 110, 110, 113, 113, 111, 111, 113, 143, 48, 19, 138, 50, 18, 203, 173, 203, 81, 141, 198, 169, 53, 20, 170, 53, 20, 139, 52, 50, 82, 171, 52, 171, 80, 78, 78, 83, 52, 78, 143, 142, 52, 78, 140, 113, 108, 82, 81, 113, 111, 143, 111, 113, 113, 113, 124, 120, 1, 155, 182, 30, 1, 120, 184, 184, 33, 184, 122, 1, 180, 2, 95, 185, 124, 93, 152, 32, 125, 155, 91, 34, 180, 34, 33, 34, 155, 65, 125, 61, 152, 124, 125, 31, 155, 90, 92, 61, 152, 63, 63, 95, 120, 91, 92, 90, 94, 93, 125, 10, 190, 36, 161, 40, 41, 128, 159, 10, 187, 66, 38, 127, 126, 157, 157, 159, 130, 126, 129, 126, 130, 130, 68, 100, 98, 101, 98, 100, 99, 101, 96, 147, 84, 58, 25, 25, 178, 59, 89, 208, 59, 206, 88, 29, 174, 25, 116, 85, 54, 54, 118, 88, 84, 59, 146, 145, 87, 119, 118, 119, 118, 117, 119, 87, 119, 114, 117, 116, 84, 87, 119, 119, 114, 117, 86, 115, 119, 114, 115, 119, 119, 117, 137, 42, 17, 165, 14, 137, 14, 197, 164, 47, 73, 45, 77, 136, 137, 106, 73, 167, 163, 73, 72, 76, 103, 134, 102, 102, 74, 105, 107, 107, 211, 216, 210, 219, 211, 213, 210, 219, 211, 212, 217, 40, 130, 161, 97, 156, 156, 131, 10, 8, 159, 189, 129, 37, 40, 129, 71, 96, 131, 67, 66, 68, 68, 67, 131, 127, 96, 69, 126, 96, 100, 97, 100, 126, 127, 100, 100, 130, 106, 106, 42, 14, 42, 162, 162, 42, 16, 132, 43, 136, 13, 47, 195, 162, 194, 134, 72, 72, 72, 164, 106, 42, 46, 77, 134, 134, 106, 102, 104, 132, 136, 132, 133, 167, 49, 173, 198, 198, 169, 52, 81, 202, 203, 23, 81, 21, 51, 52, 19, 81, 199, 200, 81, 19, 52, 81, 78, 139, 142, 82, 113, 169, 169, 142, 140, 79, 142, 82, 143, 83, 112, 112, 108, 108, 112, 112, 113, 113, 113, 203, 11, 161, 37, 127, 39, 126, 188, 8, 38, 38, 37, 100, 160, 128, 159, 11, 71, 41, 160, 160, 127, 36, 69, 156, 71, 128, 68, 131, 66, 160, 158, 71, 128, 66, 99, 130, 98, 130, 129, 96, 96, 66, 66, 67, 100, 96, 131, 66, 96, 128, 101, 203, 21, 23, 198, 199, 21, 138, 80, 172, 23, 140, 203, 201, 198, 168, 140, 19, 198, 19, 202, 18, 172, 79, 172, 53, 108, 139, 169, 113, 172, 173, 138, 138, 113, 83, 110, 113, 83, 113, 112, 110, 109, 110, 113, 113, 138, 216, 218, 58, 86, 119, 207, 115, 87, 55, 119, 205, 86, 207, 86, 115, 117, 207, 25, 88, 24, 209, 29, 177, 26, 204, 207, 55, 29, 29, 56, 175, 58, 117, 58, 54, 86, 114, 148, 85, 57, 59, 174, 54, 149, 149, 118, 89, 148, 86, 146, 117, 114, 119, 119, 115, 114, 88, 149, 114, 115, 117, 115, 116, 114, 41, 66, 6, 126, 126, 126, 190, 127, 10, 158, 156, 6, 37, 68, 156, 129, 38, 156, 128, 68, 126, 157, 101, 69, 158, 126, 128, 128, 68, 101, 156, 71, 68, 99, 67, 126, 101, 96, 101, 71, 127, 68, 32, 152, 95, 91, 3, 62, 151, 1, 5, 150, 184, 1, 1, 151, 182, 33, 63, 61, 120, 5, 125, 125, 125, 155, 152, 182, 123, 123, 182, 35, 35, 154, 35, 60, 154, 120, 63, 124, 120, 120, 95, 94, 92, 123, 95, 95, 120, 120, 95, 64, 0, 182, 121, 124, 184, 124, 124, 184, 183, 64, 61, 95, 182, 121, 33, 31, 31, 120, 1, 35, 155, 120, 153, 155, 125, 31, 183, 65, 30, 62, 122, 120, 121, 153, 123, 95, 95, 92, 94, 62, 95, 123, 121, 122, 91, 92, 120, 95, 120, 94, 95, 94]\n",
      "Y coordinates: [82, 79, 83, 50, 82, 49, 78, 53, 83, 109, 18, 18, 50, 112, 80, 21, 109, 20, 110, 81, 52, 113, 108, 83, 19, 49, 53, 83, 53, 111, 52, 110, 112, 23, 79, 49, 20, 18, 59, 57, 59, 58, 85, 56, 87, 29, 26, 28, 85, 28, 26, 84, 117, 89, 55, 116, 57, 58, 29, 85, 58, 114, 86, 27, 115, 115, 24, 84, 54, 59, 54, 55, 59, 118, 119, 26, 54, 24, 29, 117, 89, 58, 55, 114, 29, 70, 67, 41, 98, 70, 67, 70, 70, 6, 101, 98, 70, 97, 38, 101, 7, 67, 9, 40, 38, 101, 8, 8, 10, 96, 96, 11, 38, 37, 101, 6, 6, 6, 98, 6, 97, 70, 7, 68, 6, 97, 101, 66, 66, 8, 9, 33, 33, 64, 31, 64, 93, 30, 34, 30, 60, 91, 1, 2, 90, 61, 1, 1, 4, 5, 4, 2, 90, 94, 60, 3, 65, 30, 5, 91, 91, 95, 94, 63, 30, 33, 2, 0, 0, 65, 95, 31, 0, 93, 61, 5, 3, 30, 32, 2, 34, 5, 94, 55, 56, 59, 86, 84, 54, 57, 87, 29, 26, 116, 116, 29, 25, 114, 114, 114, 116, 25, 26, 29, 29, 85, 84, 116, 114, 24, 86, 25, 25, 119, 117, 26, 89, 29, 86, 85, 25, 84, 84, 117, 26, 56, 28, 54, 54, 116, 115, 87, 24, 36, 66, 66, 40, 66, 39, 41, 66, 71, 101, 10, 7, 97, 99, 37, 101, 101, 38, 6, 98, 67, 37, 97, 7, 97, 10, 10, 101, 11, 96, 11, 66, 100, 6, 37, 11, 101, 74, 44, 72, 77, 73, 76, 43, 72, 43, 15, 14, 76, 42, 14, 72, 104, 107, 106, 44, 103, 42, 102, 14, 102, 46, 76, 47, 13, 43, 106, 47, 107, 105, 107, 102, 102, 16, 17, 12, 12, 72, 12, 105, 105, 107, 43, 14, 103, 55, 58, 89, 59, 84, 29, 84, 57, 84, 24, 29, 117, 59, 58, 29, 115, 119, 24, 56, 119, 86, 88, 118, 84, 29, 54, 88, 58, 89, 55, 84, 29, 84, 117, 89, 89, 96, 38, 41, 66, 70, 39, 41, 40, 41, 11, 71, 68, 67, 66, 68, 10, 11, 11, 8, 38, 38, 100, 36, 70, 8, 100, 7, 96, 96, 97, 10, 10, 100, 36, 96, 7, 70, 101, 41, 97, 10, 9, 6, 40, 41, 11, 36, 64, 108, 104, 100, 25, 106, 101, 52, 78, 53, 78, 50, 110, 110, 110, 110, 83, 109, 113, 20, 113, 113, 19, 108, 18, 21, 113, 108, 113, 110, 80, 21, 112, 19, 18, 18, 109, 53, 23, 80, 110, 80, 21, 20, 20, 18, 21, 53, 19, 79, 83, 78, 21, 81, 18, 23, 21, 69, 67, 70, 98, 71, 36, 97, 10, 100, 98, 99, 10, 71, 7, 40, 97, 97, 68, 66, 70, 98, 97, 96, 70, 38, 66, 10, 10, 10, 69, 62, 32, 64, 30, 32, 90, 64, 91, 34, 32, 90, 92, 33, 4, 91, 93, 1, 94, 93, 5, 65, 90, 93, 33, 63, 5, 60, 1, 5, 60, 95, 65, 1, 93, 30, 60, 93, 31, 62, 65, 5, 5, 91, 94, 30, 31, 65, 61, 62, 63, 33, 31, 93, 33, 60, 60, 95, 30, 35, 64, 5, 0, 30, 90, 65, 32, 90, 60, 60, 95, 32, 91, 2, 4, 60, 60, 0, 31, 93, 63, 2, 35, 35, 30, 2, 30, 60, 62, 0, 60, 94, 60, 2, 90, 90, 91, 94, 5, 91, 84, 55, 56, 84, 84, 85, 55, 84, 114, 116, 54, 116, 57, 54, 25, 55, 24, 117, 59, 57, 84, 29, 89, 116, 28, 114, 29, 117, 54, 84, 59, 24, 83, 23, 53, 48, 48, 49, 83, 78, 19, 48, 112, 53, 21, 113, 111, 51, 53, 108, 83, 80, 23, 112, 108, 110, 22, 108, 78, 113, 18, 80, 82, 18, 23, 18, 18, 49, 83, 23, 110, 108, 108, 53, 18, 79, 83, 53, 78, 20, 51, 78, 18, 64, 33, 30, 64, 63, 60, 65, 90, 60, 60, 65, 2, 61, 30, 2, 95, 35, 65, 35, 65, 65, 33, 95, 2, 60, 94, 3, 30, 90, 63, 99, 50, 99, 97, 16, 93, 16, 92, 56, 95, 11, 43, 75, 72, 73, 72, 45, 73, 43, 12, 14, 13, 75, 42, 14, 12, 107, 73, 43, 77, 13, 44, 14, 103, 14, 73, 12, 76, 13, 17, 106, 12, 47, 46, 17, 72, 76, 106, 80, 80, 82, 53, 48, 83, 79, 82, 79, 81, 109, 52, 109, 21, 111, 108, 110, 19, 108, 108, 52, 18, 111, 82, 20, 110, 23, 82, 21, 20, 49, 19, 108, 79, 109, 108, 73, 72, 43, 42, 72, 15, 46, 42, 106, 106, 73, 74, 77, 47, 12, 47, 105, 105, 45, 106, 105, 107, 12, 107, 15, 12, 77, 105, 45, 17, 107, 106, 42, 17, 107, 43, 12, 12, 103, 14, 17, 76, 103, 105, 46, 106, 40, 71, 41, 67, 69, 38, 71, 96, 36, 41, 6, 37, 98, 36, 10, 101, 68, 67, 98, 98, 67, 101, 10, 71, 41, 71, 69, 9, 38, 98, 40, 68, 6, 67, 70, 101, 10, 11, 71, 11, 11, 11, 11, 10, 37, 69, 9, 39, 40, 38, 38, 58, 55, 56, 56, 88, 27, 86, 55, 89, 87, 29, 114, 87, 119, 114, 58, 88, 89, 116, 85, 55, 114, 57, 114, 114, 84, 24, 119, 54, 117, 115, 25, 89, 84, 24, 88, 28, 58, 118, 24, 55, 85, 119, 86, 85, 29, 87, 46, 45, 73, 45, 42, 73, 43, 16, 75, 102, 77, 44, 76, 76, 75, 106, 47, 107, 106, 102, 103, 102, 106, 107, 13, 12, 102, 106, 102, 107, 12, 45, 107, 107, 77, 72, 107, 74, 12, 105, 73, 15, 106, 106, 73, 14, 13, 106, 102, 12, 46, 17, 76, 72, 77, 73, 75, 17, 15, 46, 102, 42, 77, 34, 34, 64, 63, 62, 62, 65, 34, 65, 95, 95, 3, 90, 35, 60, 65, 4, 3, 94, 62, 95, 5, 61, 62, 2, 60, 5, 5, 30, 93, 0, 65, 32, 32, 30, 93, 31, 91, 35, 2, 90, 35, 78, 48, 83, 78, 108, 78, 48, 82, 83, 111, 21, 111, 111, 53, 112, 18, 53, 18, 81, 18, 80, 48, 52, 110, 20, 113, 83, 52, 113, 23, 49, 20, 22, 83, 112, 79, 110, 19, 18, 19, 80, 23, 22, 81, 18, 23, 18, 18, 80, 82, 72, 45, 72, 47, 73, 77, 45, 12, 12, 77, 77, 73, 104, 42, 103, 105, 105, 74, 104, 43, 45, 17, 76, 103, 72, 103, 15, 13, 106, 43, 107, 77, 72, 47, 42, 74, 72, 76, 102, 15, 74, 73, 17, 75, 104, 43, 17, 12, 107, 77, 17, 14]\n",
      "1135\n",
      "1135\n"
     ]
    },
    {
     "data": {
      "application/vnd.jupyter.widget-view+json": {
       "model_id": "4d1eaed1f85f49c49b412494855bb186",
       "version_major": 2,
       "version_minor": 0
      },
      "image/png": "[encoded data removed]",
      "text/html": [
       "\n",
       "            <div style=\"display: inline-block;\">\n",
       "                <div class=\"jupyter-widgets widget-label\" style=\"text-align: center;\">\n",
       "                    Figure\n",
       "                </div>\n",
       "                <img src='data:image/png;base64,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' width=640.0/>\n",
       "            </div>\n",
       "        "
      ],
      "text/plain": [
       "Canvas(toolbar=Toolbar(toolitems=[('Home', 'Reset original view', 'home', 'home'), ('Back', 'Back to previous …"
      ]
     },
     "metadata": {},
     "output_type": "display_data"
    }
   ],
   "source": [
    "import os\n",
    "import json\n",
    "import matplotlib.pyplot as plt\n",
    "%matplotlib widget\n",
    "# Set the directory path\n",
    "directory_path = '/mnt/disk15tb/mmpatil/MEA_Analysis/Python/Electrodes'\n",
    "\n",
    "# Create empty lists to store x and y coordinates\n",
    "x_coords = []\n",
    "y_coords = []\n",
    "count = 0\n",
    "plt.clf()\n",
    "# Loop through all files in the directory\n",
    "for filename in os.listdir(directory_path):\n",
    "    file_path = os.path.join(directory_path, filename)\n",
    "    print(file_path)\n",
    "    with open(file_path, 'r') as f:\n",
    "        file_contents = json.load(f)  # Load the file's contents as a dictionary\n",
    "        # Loop through all templates in the dictionary\n",
    "        count = count + len(file_contents)\n",
    "        for template in file_contents.keys():\n",
    "            channel_dict = file_contents[template]\n",
    "            # Loop through all channels in the dictionary\n",
    "            for channel in channel_dict.keys():\n",
    "                coords = channel_dict[channel]\n",
    "                plt.scatter(coords[0],coords[1], s=5)\n",
    "                # Extract x and y coordinates from the list\n",
    "                x_coords.append(coords[0])\n",
    "                y_coords.append(coords[1])\n",
    "\n",
    "# Print the x and y coordinates\n",
    "print(\"X coordinates:\", x_coords)\n",
    "print(\"Y coordinates:\", y_coords)\n",
    "print(count)\n",
    "print(len(x_coords))\n",
    "plt.show()"
   ]
  },
  {
   "cell_type": "code",
   "execution_count": 5,
   "metadata": {},
   "outputs": [
    {
     "name": "stdout",
     "output_type": "stream",
     "text": [
      "[18050, 17511, 18268, 11037, 18200, 10938, 17288, 11846, 18301, 24141, 3966, 3966, 11036, 24798, 17726, 4687, 24166, 4531, 24386, 17889, 11511, 24958, 23828, 18359, 4308, 10908, 11728, 18421, 11761, 24521, 11537, 24271, 24738, 5156, 17509, 10880, 4501, 4056, 12985, 12720, 13164, 12765, 18705, 12355, 19262, 6383, 5905, 6343, 18733, 6192, 5750, 18481, 25745, 19762, 12220, 25702, 12573, 12793, 6410, 18825, 12881, 25262, 18983, 6061, 25365, 25365, 5313, 18540, 11940, 13043, 12005, 12223, 13071, 26052, 26274, 5841, 11945, 5374, 6474, 25863, 19672, 12854, 12195, 25205, 6472, 15574, 14919, 9227, 21767, 15486, 14826, 15577, 15429, 1527, 22429, 21765, 15574, 21366, 8419, 22248, 1719, 14768, 2034, 9007, 8568, 22398, 1939, 1939, 2377, 21299, 21178, 2476, 8476, 8285, 22366, 1466, 1465, 1375, 21734, 1409, 21396, 15514, 1687, 15104, 1437, 21424, 22335, 14634, 14639, 1906, 2099, 7314, 7346, 14165, 6905, 14286, 20669, 6689, 7659, 6629, 13379, 20049, 306, 645, 19826, 13478, 428, 427, 1084, 1155, 1056, 494, 19976, 20766, 13314, 835, 14414, 6688, 1279, 20109, 20109, 21044, 20739, 13974, 6748, 7345, 589, 146, 146, 14418, 21048, 6964, 117, 20576, 13539, 1217, 779, 6719, 7154, 554, 7567, 1184, 20766, 12185, 12499, 13185, 19006, 18688, 11965, 12569, 19165, 6409, 5744, 25697, 25725, 6559, 5529, 25286, 25286, 25109, 25576, 5586, 5809, 6528, 6495, 18849, 18627, 25577, 25254, 5368, 19034, 5586, 5587, 26324, 25826, 5839, 19724, 6469, 19039, 18818, 5617, 18595, 18595, 25856, 5835, 12434, 6274, 11998, 11995, 25636, 25449, 19256, 5398, 8113, 14535, 14566, 8963, 14593, 8593, 9156, 14597, 15785, 22297, 2394, 1585, 21387, 21974, 8156, 22383, 22383, 8403, 1392, 21722, 14812, 8213, 21477, 1586, 21412, 2332, 2333, 22325, 2527, 21227, 2523, 14624, 22104, 1423, 8244, 2553, 22356, 16387, 9843, 16002, 17136, 16252, 16912, 9474, 16005, 9657, 3317, 3122, 16853, 9402, 3125, 15914, 23076, 23706, 23337, 9816, 22827, 9402, 22633, 3212, 22604, 10196, 16796, 10415, 2993, 9592, 23457, 10446, 23612, 23172, 23646, 22543, 22543, 3654, 3873, 2772, 2742, 15943, 2747, 23202, 23204, 23647, 9563, 3214, 22672, 12172, 12952, 19777, 12995, 18522, 6395, 18642, 12555, 18524, 5323, 6397, 25756, 13027, 12835, 6516, 25466, 26377, 5414, 12394, 26377, 19082, 19433, 26092, 18554, 6452, 11987, 19492, 12835, 19687, 12177, 18582, 6485, 18617, 25872, 19717, 19686, 21275, 8393, 9083, 14643, 15430, 8642, 9142, 8804, 9201, 2600, 15620, 15085, 14862, 14525, 15110, 2385, 2421, 2422, 1940, 8425, 8425, 22032, 7921, 15522, 1791, 22182, 1690, 21275, 21305, 21491, 2262, 2263, 22152, 8043, 21181, 1660, 15461, 22374, 9080, 21465, 2265, 2100, 1410, 8894, 9113, 2515, 8044, 14290, 23973, 23097, 22210, 5715, 23538, 22430, 11611, 17212, 11710, 17359, 11172, 24403, 24403, 24403, 24223, 18312, 24120, 25028, 4421, 24878, 25032, 4319, 23808, 4131, 4760, 25001, 23899, 25033, 24278, 17679, 4702, 24781, 4293, 4100, 4102, 24061, 11770, 5143, 17712, 24310, 17710, 4729, 4508, 4513, 4073, 4732, 11773, 4262, 17491, 18370, 17268, 4728, 17929, 4071, 5168, 4702, 15232, 14883, 15418, 21763, 15640, 7999, 21362, 2222, 22049, 21758, 21981, 2368, 15789, 1593, 8913, 21479, 21388, 15043, 14603, 15571, 21642, 21478, 21230, 15510, 8473, 14633, 2311, 2311, 2313, 15323, 13688, 7059, 14218, 6650, 7058, 20003, 14253, 20223, 7561, 7181, 19998, 20409, 7313, 900, 20190, 20513, 240, 20819, 20512, 1150, 14382, 19971, 20512, 7431, 13940, 1178, 13278, 303, 1152, 13278, 21043, 14442, 272, 20538, 6740, 13313, 20568, 6902, 13721, 14413, 1211, 1243, 20131, 20793, 6713, 6933, 14424, 13540, 13641, 14015, 7442, 6850, 20461, 7380, 13384, 13384, 20933, 6784, 7822, 14081, 1280, 2, 6695, 19985, 14424, 7133, 19952, 13232, 13325, 21055, 7131, 20054, 620, 914, 13233, 13234, 155, 6885, 20585, 13921, 592, 7824, 7825, 6631, 595, 6690, 13292, 13701, 152, 13263, 20743, 13295, 560, 19891, 19892, 20110, 20774, 1193, 20145, 18490, 12290, 12356, 18641, 18520, 18741, 12228, 18639, 25090, 25707, 11946, 25558, 12667, 12006, 5657, 12257, 5439, 25870, 13106, 12669, 18606, 6510, 19710, 25588, 6260, 25178, 6481, 25838, 11980, 18579, 13081, 5376, 18407, 5144, 11718, 10585, 10585, 10958, 18319, 17249, 4388, 10619, 24846, 11748, 4649, 25034, 24445, 11336, 11745, 23814, 18314, 17718, 5148, 24724, 23819, 24346, 4985, 23847, 17279, 24978, 4079, 17718, 18157, 4079, 5147, 4079, 4074, 10897, 18376, 5144, 24287, 23879, 23879, 11774, 4077, 17466, 18375, 11779, 17274, 4515, 11339, 17279, 4077, 14217, 7302, 6617, 14245, 13874, 13337, 14314, 19997, 13364, 13247, 14373, 485, 13497, 6736, 577, 21006, 7773, 14467, 7863, 14373, 14372, 7336, 21003, 574, 13302, 20782, 734, 6705, 19907, 13967, 21991, 11216, 21990, 21559, 3731, 20673, 3730, 20459, 12531, 21112, 2637, 9500, 16630, 16001, 16157, 15996, 10056, 16191, 9470, 2648, 3239, 3049, 16629, 9277, 3120, 2769, 23611, 16156, 9591, 17007, 2926, 9748, 3148, 22727, 3211, 16187, 2736, 16789, 2986, 3836, 23420, 2737, 10440, 10246, 3867, 15940, 16820, 23450, 17706, 17706, 18082, 11674, 10602, 18422, 17542, 18082, 17396, 17952, 24023, 11576, 23993, 4667, 24615, 23922, 24394, 4314, 23832, 23832, 11512, 4124, 24526, 18082, 4446, 24277, 5194, 18174, 4726, 4502, 10884, 4312, 23896, 17512, 24113, 23927, 16109, 16013, 9658, 9438, 16009, 3352, 10201, 9442, 23523, 23343, 16141, 16301, 16991, 10392, 2659, 10421, 23299, 23300, 9981, 23339, 23152, 23621, 2718, 23679, 3442, 2722, 17053, 23269, 10069, 3882, 23680, 23399, 9382, 3822, 23683, 9543, 2752, 2752, 22768, 3188, 3852, 16832, 22773, 23213, 10233, 23523, 8811, 15781, 9057, 14867, 15219, 8486, 15808, 21128, 7958, 9058, 1357, 8240, 21720, 8048, 2359, 22231, 15031, 14781, 21720, 21720, 14867, 22256, 2269, 15776, 9091, 15748, 15248, 2111, 8426, 21720, 8958, 15031, 1448, 14806, 15499, 22350, 2298, 2550, 15749, 2516, 2516, 2486, 2486, 2267, 8240, 15276, 2111, 8646, 8896, 8488, 8461, 12963, 12121, 12343, 12518, 19559, 5961, 19058, 12180, 19752, 19163, 6520, 25283, 19341, 26378, 25248, 12900, 19379, 19778, 25539, 18902, 12118, 25252, 12619, 25252, 25133, 18588, 5419, 26349, 11993, 25912, 25473, 5638, 19718, 18593, 5363, 19470, 6273, 12843, 26073, 5392, 12210, 18809, 26290, 19033, 18813, 6518, 19356, 10338, 9958, 16146, 10019, 9447, 16175, 9547, 3575, 16619, 22645, 17026, 9887, 16806, 16835, 16617, 23527, 10365, 23628, 23344, 22649, 22689, 22617, 23346, 23744, 3067, 2695, 22469, 23349, 22496, 23715, 2698, 10017, 23598, 23594, 17026, 15954, 23688, 16365, 2697, 23159, 16234, 3354, 23469, 23469, 16178, 3169, 3008, 23406, 22586, 2757, 10234, 3859, 16839, 15955, 17054, 16148, 16649, 3854, 3415, 10237, 22555, 9356, 17054, 7521, 7546, 14086, 13986, 13766, 13766, 14490, 7607, 14310, 21058, 21056, 666, 19837, 7768, 13356, 14429, 918, 816, 20808, 13708, 21026, 1257, 13521, 13709, 598, 13326, 1228, 1228, 6668, 20561, 156, 14371, 7108, 7139, 6667, 20586, 6921, 20116, 7801, 511, 19927, 7768, 17192, 10712, 18355, 17251, 23763, 17222, 10711, 18041, 18265, 24570, 4804, 24421, 24421, 11811, 24822, 3993, 11723, 4021, 17940, 3965, 17725, 10685, 11565, 24355, 4552, 25042, 18383, 11563, 25042, 5095, 10815, 4554, 4875, 18320, 24794, 17500, 24263, 4304, 4080, 4300, 17695, 5154, 4932, 17943, 4055, 5155, 4080, 4080, 17695, 18104, 15840, 10082, 15961, 10464, 16244, 17064, 10024, 2824, 2823, 17004, 17001, 16155, 23062, 9361, 22693, 23131, 23131, 16400, 22881, 9495, 10055, 3860, 16873, 22815, 15965, 22691, 3483, 2925, 23350, 9522, 23662, 17060, 15961, 10493, 9363, 16375, 15935, 16812, 22534, 3362, 16375, 16183, 3861, 16622, 22971, 9552, 3860, 2735, 23660, 17034, 3835, 3174]\n"
     ]
    }
   ],
   "source": [
    "selected_electrodes = [220 * y + x for x,y in zip(x_coords,y_coords)]\n",
    "print(selected_electrodes)"
   ]
  },
  {
   "cell_type": "code",
   "execution_count": null,
   "metadata": {},
   "outputs": [],
   "source": []
  },
  {
   "cell_type": "code",
   "execution_count": 6,
   "metadata": {},
   "outputs": [
    {
     "name": "stdout",
     "output_type": "stream",
     "text": [
      "[2, 16387, 4100, 12290, 4102, 10246, 22534, 22543, 16400, 8213, 22555, 4124, 20512, 20513, 4131, 14372, 14373, 14371, 24615, 14382, 6192, 18481, 8240, 2099, 8244, 2100, 12343, 20538, 18490, 22586, 2111, 12355, 12356, 22604, 14413, 14414, 20561, 14418, 20568, 14424, 18522, 18520, 18524, 8285, 22617, 14429, 20576, 10338, 22633, 12394, 14442, 18540, 20585, 20586, 6260, 117, 22645, 22649, 18554, 10365, 6273, 6274, 14467, 22672, 146, 12434, 18579, 24724, 18582, 152, 10392, 14490, 155, 18588, 156, 18593, 24738, 18595, 22689, 22693, 4262, 22691, 2222, 10415, 18606, 10421, 18617, 20669, 14525, 20673, 18627, 4293, 6343, 14535, 8393, 22727, 10440, 4300, 24781, 10446, 18639, 4304, 18641, 18642, 12499, 4308, 8403, 2262, 2263, 4312, 2265, 4314, 2267, 24794, 2269, 24798, 4319, 10464, 8419, 14566, 12518, 8425, 8426, 16619, 16617, 16622, 6383, 240, 22768, 12531, 16629, 16630, 22773, 24822, 2298, 6395, 6397, 10493, 18688, 14593, 20739, 14597, 2311, 20743, 6409, 6410, 12555, 14603, 2313, 24846, 8461, 272, 18705, 16649, 12569, 8473, 8476, 12573, 20766, 2332, 2333, 14624, 22815, 4388, 20774, 8486, 8488, 14633, 14634, 22827, 1280, 18733, 24878, 14639, 303, 20782, 306, 14643, 6452, 18741, 2359, 20793, 2368, 6469, 4421, 6472, 2377, 6474, 12619, 20808, 2385, 6481, 20819, 6485, 10585, 2394, 4446, 6495, 22881, 10602, 6510, 6516, 2421, 2422, 6518, 8568, 6520, 18809, 12667, 10619, 12669, 24958, 18813, 6528, 18818, 18825, 8593, 24978, 4501, 16789, 4502, 16796, 4508, 6559, 18849, 4513, 4515, 16806, 25001, 5376, 427, 2476, 428, 16812, 12720, 14768, 4531, 16820, 2486, 22971, 14781, 10685, 16832, 8642, 16835, 25028, 20933, 8646, 16839, 25032, 25033, 25034, 4552, 4554, 25042, 2515, 2516, 16853, 14806, 18902, 10712, 6617, 10711, 2523, 14812, 12765, 2527, 6629, 485, 6631, 16873, 14826, 494, 2550, 2553, 12793, 6650, 511, 25090, 21003, 6668, 6667, 14862, 21006, 16912, 14867, 25109, 23062, 9470, 6688, 6689, 6690, 12835, 23076, 14883, 21026, 18983, 2600, 6695, 554, 4649, 12843, 25133, 560, 6705, 21043, 21044, 12854, 21048, 23097, 6713, 4667, 19006, 6719, 21055, 577, 574, 21058, 21056, 10815, 14919, 589, 2637, 4687, 592, 12881, 6736, 595, 6740, 598, 2648, 19033, 19034, 25178, 6748, 23131, 4702, 19039, 16991, 2659, 8804, 12900, 17001, 8811, 620, 17004, 17007, 23152, 19058, 25205, 4726, 23159, 4728, 4729, 21112, 4732, 10880, 6784, 17026, 23172, 645, 10884, 2695, 21128, 2697, 19082, 2698, 17034, 10897, 12952, 4760, 666, 10908, 17053, 2718, 17054, 25248, 23202, 2722, 23204, 12963, 25254, 25252, 17064, 17060, 23213, 25262, 2735, 2736, 2737, 2742, 15031, 12985, 10938, 21178, 2747, 21181, 8894, 2752, 8896, 6850, 12995, 15043, 25283, 25286, 2757, 4804, 10958, 8913, 2769, 2772, 19163, 19165, 734, 24570, 13027, 6885, 23269, 21227, 15085, 21230, 17136, 13043, 6902, 6905, 8958, 15104, 8963, 23299, 23300, 15110, 2823, 2824, 6921, 779, 4875, 13071, 25365, 6933, 13081, 21275, 11036, 11037, 17192, 23337, 23339, 9007, 23343, 23344, 13106, 21299, 6964, 23346, 23349, 816, 19256, 21305, 23350, 17212, 19262, 835, 4932, 17222, 19710, 17249, 9057, 9058, 17251, 23399, 25449, 13164, 2925, 2926, 23406, 21362, 15219, 17268, 21366, 9080, 4985, 25466, 9083, 17274, 23420, 17279, 15232, 13185, 25473, 9091, 900, 17288, 21387, 21388, 19341, 15248, 7058, 7059, 21396, 914, 918, 9113, 23450, 19356, 21758, 23457, 21412, 11172, 2986, 15276, 23469, 21424, 2993, 13232, 13233, 13234, 19379, 9142, 13247, 3008, 25539, 9156, 7108, 17359, 13263, 11216, 25558, 21465, 15323, 7131, 7133, 13278, 23523, 7139, 21477, 21478, 21479, 25576, 25577, 19433, 3049, 13292, 23527, 5095, 13295, 9201, 7154, 21491, 23538, 25588, 13302, 17396, 3067, 13313, 13314, 9227, 7181, 13325, 19470, 13326, 5143, 5144, 13337, 5147, 5148, 1056, 5154, 5155, 5156, 25636, 19492, 23594, 13356, 23598, 5168, 3120, 3122, 13364, 3125, 21559, 15418, 17466, 1084, 23612, 9277, 23611, 13379, 15429, 15430, 23621, 13384, 11336, 5194, 11339, 3148, 23628, 17491, 17500, 23646, 23647, 25697, 3169, 17509, 25702, 17511, 15461, 17512, 19559, 25707, 23660, 3174, 23662, 3188, 25725, 15486, 1150, 1152, 23679, 23680, 1155, 23683, 7302, 17542, 23688, 21642, 3211, 3212, 15499, 3214, 9356, 25745, 7314, 7313, 9361, 9363, 15510, 15514, 23706, 25756, 1178, 1184, 15522, 23715, 13478, 3239, 7336, 1193, 9382, 7345, 7346, 13497, 9402, 1211, 23744, 5313, 1217, 5323, 1228, 13521, 15571, 7380, 23763, 15574, 19672, 15577, 21722, 1243, 21720, 9438, 25826, 13539, 13540, 9442, 21734, 19687, 19686, 9447, 1257, 25838, 5363, 3317, 11511, 5368, 11512, 5374, 1279, 25856, 23808, 9474, 21763, 15620, 21765, 19717, 25863, 21767, 7431, 23814, 23819, 19724, 19718, 25870, 17679, 25872, 11537, 7442, 5392, 23828, 5398, 9495, 15640, 23832, 3352, 3354, 9500, 17695, 3362, 5414, 23847, 19752, 17706, 5419, 11563, 11565, 17710, 17712, 19762, 9522, 17718, 11576, 25912, 17725, 17726, 5439, 19777, 19778, 23879, 9543, 13641, 9547, 1357, 9552, 3415, 23896, 9563, 11611, 23899, 1375, 7521, 1392, 19826, 23922, 3442, 9591, 9592, 13688, 23927, 7546, 19837, 1409, 1410, 15748, 13701, 15749, 7561, 13708, 13709, 7567, 1423, 5529, 13721, 11674, 3483, 1437, 15776, 23973, 15781, 1448, 15785, 15789, 19891, 19892, 7607, 1465, 1466, 9657, 23993, 9658, 11710, 15808, 19907, 26052, 11718, 13766, 11723, 11728, 5586, 5587, 21974, 24023, 19927, 26073, 21981, 15840, 17889, 11745, 11748, 21990, 21991, 7659, 26092, 19952, 11761, 5617, 1527, 3575, 11770, 24061, 11773, 11774, 19971, 11779, 5638, 19976, 17929, 22032, 19985, 9748, 17940, 17943, 5657, 19997, 19998, 17952, 22049, 20003, 11811, 15914, 1585, 1586, 13874, 24113, 24120, 1593, 15935, 15940, 11846, 3654, 15943, 24141, 20049, 15954, 5715, 15955, 20054, 22104, 9816, 7768, 15961, 7773, 15965, 13921, 24166, 5744, 9843, 13940, 5750, 7801, 18041, 1660, 15996, 16001, 18050, 16002, 16005, 22152, 16009, 20109, 7822, 20110, 7824, 7825, 13967, 3731, 3730, 16013, 13974, 1687, 20116, 1690, 24223, 9887, 26274, 20131, 11940, 18082, 22182, 13986, 11945, 11946, 5809, 20145, 26290, 1719, 7863, 18104, 11965, 14015, 22210, 24263, 5835, 11980, 24271, 5839, 5841, 11987, 26324, 24277, 24278, 22231, 11993, 11995, 11998, 20190, 24287, 12005, 12006, 9958, 22248, 18157, 16109, 3822, 22256, 7921, 26349, 24310, 3835, 3836, 9981, 18174, 1791, 20223, 14081, 14086, 26377, 26378, 3852, 16141, 3854, 5905, 16146, 3859, 16148, 3860, 7958, 3861, 18200, 22297, 24346, 3867, 16156, 16157, 16155, 3873, 10017, 10019, 24355, 10024, 3882, 16175, 16178, 22325, 16183, 16187, 22335, 7999, 16191, 24386, 10055, 10056, 5961, 24394, 22350, 24403, 22356, 14165, 10069, 12118, 12121, 18265, 18268, 22366, 10082, 24421, 22374, 16234, 8043, 8044, 22383, 8048, 1906, 16244, 16252, 18301, 3966, 22398, 24445, 3965, 18312, 14217, 14218, 18314, 12172, 18319, 18320, 12177, 1939, 1940, 12180, 12185, 3993, 22429, 22430, 12195, 14245, 6061, 14253, 16301, 8113, 12210, 18355, 4021, 18359, 20409, 12220, 12223, 18370, 12228, 22469, 18375, 18376, 24521, 14286, 24526, 18383, 14290, 10196, 4055, 4056, 10201, 8156, 22496, 12257, 14310, 4071, 18407, 4073, 4074, 14314, 20459, 20461, 4077, 4079, 16365, 4080, 2034, 18421, 18422, 16375, 10233, 10234, 10237]\n",
      "1070\n"
     ]
    }
   ],
   "source": [
    "selected_electrodes = list(set(selected_electrodes))\n",
    "print(selected_electrodes)\n"
   ]
  },
  {
   "cell_type": "code",
   "execution_count": 7,
   "metadata": {},
   "outputs": [
    {
     "name": "stdout",
     "output_type": "stream",
     "text": [
      "1020\n"
     ]
    }
   ],
   "source": [
    "import random\n",
    "selected_electrodes = random.sample(selected_electrodes,1020)\n",
    "print(len(selected_electrodes))"
   ]
  },
  {
   "cell_type": "code",
   "execution_count": null,
   "metadata": {},
   "outputs": [],
   "source": [
    "import pickle\n",
    "\n",
    "with open(\"/mnt/disk15tb/mmpatil/MEA_Analysis/Python/electrodes_7Jul.pkl\", \"wb\") as f:\n",
    "    pickle.dump(selected_electrodes, f)"
   ]
  },
  {
   "cell_type": "code",
   "execution_count": null,
   "metadata": {},
   "outputs": [],
   "source": [
    "sorter_path = '/mnt/disk15tb/mmpatil/Spikesorting/sorter_output/sorter_5min_16757/'"
   ]
  },
  {
   "cell_type": "code",
   "execution_count": null,
   "metadata": {},
   "outputs": [],
   "source": [
    "recording,rec_name = msp.get_data_maxwell(file_path,9)\n",
    "print(rec_name)"
   ]
  },
  {
   "cell_type": "code",
   "execution_count": null,
   "metadata": {},
   "outputs": [],
   "source": [
    "sorting = msp.get_kilosort_result(sorter_path+'block_rec0009/kilosort3_rec0009/sorter_output')\n",
    "waveforms = msp.get_waveforms_result(sorter_path+'block_rec0009/waveforms_rec0009',sorter=sorting)\n",
    "waveforms_good = msp.get_waveforms_result(sorter_path+'block_rec0009/waveforms_good_rec0009',sorter=sorting)"
   ]
  },
  {
   "cell_type": "code",
   "execution_count": null,
   "metadata": {},
   "outputs": [],
   "source": [
    "sorting = msp.get_kilosort_result(f\"{sorter_path}block_{rec_name}/kilosort3_{rec_name}/sorter_output\")\n",
    "waveforms = msp.get_waveforms_result(f\"{sorter_path}block_{rec_name}/waveforms_{rec_name}\",sorter=sorting)\n",
    "waveforms_good = msp.get_waveforms_result(f\"{sorter_path}block_{rec_name}/waveforms_good_{rec_name}\",sorter=sorting)"
   ]
  },
  {
   "cell_type": "code",
   "execution_count": null,
   "metadata": {},
   "outputs": [],
   "source": [
    "\n",
    "msp.analyse_waveforms_sigui(waveforms_good) #Need to implement compute noise levels."
   ]
  },
  {
   "cell_type": "code",
   "execution_count": null,
   "metadata": {},
   "outputs": [],
   "source": [
    "import pandas as pd\n",
    "pd.set_option('display.max_rows', 500)\n",
    "metrics = msp.get_quality_metrics(waveforms_good)\n",
    "metrics"
   ]
  },
  {
   "cell_type": "code",
   "execution_count": null,
   "metadata": {},
   "outputs": [],
   "source": [
    "indexes = metrics[(metrics['firing_rate']<0.5 )|(metrics['isi_violations_ratio']>=1)].index"
   ]
  },
  {
   "cell_type": "code",
   "execution_count": null,
   "metadata": {},
   "outputs": [],
   "source": [
    "print(indexes)"
   ]
  },
  {
   "cell_type": "code",
   "execution_count": null,
   "metadata": {},
   "outputs": [],
   "source": [
    "import spikeinterface.widgets as sw\n",
    "import spikeinterface.full\n",
    "%matplotlib widget\n",
    "sw.plot_probe_map(recording,with_channel_ids=False)"
   ]
  },
  {
   "cell_type": "code",
   "execution_count": null,
   "metadata": {},
   "outputs": [],
   "source": [
    "job_kwargs = dict(n_jobs=64, chunk_duration=\"1s\", progress_bar=True)\n",
    "waveforms_good.run_extract_waveforms(**job_kwargs)"
   ]
  },
  {
   "cell_type": "code",
   "execution_count": null,
   "metadata": {},
   "outputs": [],
   "source": [
    "import spikeinterface.postprocessing as sp\n",
    "import matplotlib.pyplot as plt\n",
    "import spikeinterface.widgets as sw\n",
    "%matplotlib widget\n",
    "locations = sp.compute_unit_locations(waveforms_good)\n",
    "print(type(locations))\n",
    "import numpy as np\n",
    "#np.savetxt(\"unitloc_10mins.txt\",locations)\n",
    "ax = plt.subplot(111)\n",
    "sw.plot_probe_map(recording,ax=ax,with_channel_ids=False)\n",
    "for x,y in locations:\n",
    "    ax.scatter(x,y)\n",
    "plt.show()"
   ]
  },
  {
   "cell_type": "code",
   "execution_count": null,
   "metadata": {},
   "outputs": [],
   "source": [
    "import spikeinterface.full\n",
    "unit_extremum_channel =spikeinterface.full.get_template_extremum_channel(waveforms_good, peak_sign='neg')\n",
    "print(unit_extremum_channel)\n",
    "\n",
    "x = [int(x) for x in unit_extremum_channel.values()]\n",
    "x.sort()\n",
    "print(x)"
   ]
  },
  {
   "cell_type": "code",
   "execution_count": null,
   "metadata": {},
   "outputs": [],
   "source": []
  },
  {
   "cell_type": "code",
   "execution_count": null,
   "metadata": {},
   "outputs": [],
   "source": [
    "import numpy as np\n",
    "channel_ids = spikeinterface.full.get_closest_channels(recording,num_channels=9)\n",
    "print(channel_ids[0])\n",
    "indices = np.where(channel_ids[0] ==571)\n",
    "row_index = indices[0][0]\n",
    "\n",
    "# Retrieve the row\n",
    "row = channel_ids[0][row_index]\n",
    "\n",
    "\n",
    "row = [ str(x) for x in row]\n",
    "\n",
    "print(row)"
   ]
  },
  {
   "cell_type": "code",
   "execution_count": null,
   "metadata": {},
   "outputs": [],
   "source": [
    "sw.plot_timeseries(recording,channel_ids=row,time_range=[0.5,0.6],return_scaled=True,show_channel_ids=True)"
   ]
  },
  {
   "cell_type": "code",
   "execution_count": null,
   "metadata": {},
   "outputs": [],
   "source": [
    "row = [ '8','31','869','895','214','423','701','923','118']\n",
    "list_traces = []\n",
    "\n",
    "traces = recording.get_traces(\n",
    "\n",
    "        channel_ids=row,\n",
    "        start_frame=int(0.825 *20000),\n",
    "        end_frame=int(0.925*20000),\n",
    "\n",
    "    )\n",
    "print(traces)"
   ]
  },
  {
   "cell_type": "code",
   "execution_count": null,
   "metadata": {},
   "outputs": [],
   "source": []
  },
  {
   "cell_type": "code",
   "execution_count": null,
   "metadata": {},
   "outputs": [],
   "source": [
    "import numpy as np\n",
    "import matplotlib.pyplot as plt\n",
    "import scalebury\n",
    "%matplotlib widget\n",
    "# Generate sample data\n",
    "\n",
    "\n",
    "## Set up the figure and axis\n",
    "fig, ax = plt.subplots(nrows=9, ncols=1, sharex=True)\n",
    "\n",
    "# Loop through each column and plot it on a separate axis\n",
    "for i in range(9):\n",
    "    ax[i].plot(traces[:, i])\n",
    "    ax[i]=scalebury.add_scalebar(ax[i])\n",
    "    #ax[i].set_ylabel(f\"C{row[i]}\")\n",
    "    #ax[i].set_ylim([480, 540])\n",
    "# Set the x-axis label on the bottom subplot\n",
    "#ax[-1].set_xlabel(\"samples ( Sampling rate 20K)\")\n",
    "\n",
    "# Show the plot\n",
    "plt.show()"
   ]
  },
  {
   "cell_type": "code",
   "execution_count": null,
   "metadata": {},
   "outputs": [],
   "source": [
    "row = [ '8','31','869','895','214','423','701','923','118']\n",
    "list_traces = []\n",
    "\n",
    "traces = recording.get_traces(\n",
    "\n",
    "        channel_ids=row,\n",
    "        start_frame=int(0.869 *20000),\n",
    "        end_frame=int(0.872*20000),\n",
    "\n",
    "    )\n",
    "print(traces)"
   ]
  },
  {
   "cell_type": "code",
   "execution_count": null,
   "metadata": {},
   "outputs": [],
   "source": [
    "%matplotlib widget\n",
    "import numpy as np\n",
    "import matplotlib.pyplot as plt\n",
    "import scalebury\n",
    "# Generate sample data\n",
    "\n",
    "\n",
    "## Set up the figure and axis\n",
    "fig, ax = plt.subplots(nrows=9, ncols=1, sharex=True)\n",
    "\n",
    "# Loop through each column and plot it on a separate axis\n",
    "for i in range(9):\n",
    "    ax[i].plot(traces[:, i])\n",
    "    ax[i]=scalebury.add_scalebar(ax[i])\n",
    "    #ax[i].set_ylabel(f\"C{row[i]}\")\n",
    "    #ax[i].set_ylim([480, 540])\n",
    "# Set the x-axis label on the bottom subplot\n",
    "#ax[-1].set_xlabel(\"samples ( Sampling rate 20K)\")\n",
    "\n",
    "# Show the plot\n",
    "plt.show()"
   ]
  },
  {
   "cell_type": "code",
   "execution_count": null,
   "metadata": {},
   "outputs": [],
   "source": [
    "import scalebury\n",
    "#obj = scalebury.AnchoredScaleBar(ax.transpose)\n",
    "ax2 = scalebury.add_scalebar(ax[1])\n",
    "plt.show()"
   ]
  },
  {
   "cell_type": "code",
   "execution_count": null,
   "metadata": {},
   "outputs": [],
   "source": []
  },
  {
   "cell_type": "code",
   "execution_count": null,
   "metadata": {},
   "outputs": [],
   "source": [
    "sw.plot_unit_templates(waveforms_good,channel_ids = row)"
   ]
  },
  {
   "cell_type": "code",
   "execution_count": null,
   "metadata": {},
   "outputs": [],
   "source": [
    "sw.plot_unit_waveforms(waveforms_good,unit_ids=[112])"
   ]
  },
  {
   "cell_type": "code",
   "execution_count": null,
   "metadata": {},
   "outputs": [],
   "source": [
    "channel_ids = recording.get_channel_ids()\n",
    "print(channel_ids)\n",
    "channel_association_dict = {int(y):x for x,y in enumerate(channel_ids) }\n",
    "print(channel_association_dict)"
   ]
  },
  {
   "cell_type": "code",
   "execution_count": null,
   "metadata": {},
   "outputs": [],
   "source": [
    "import matplotlib.pyplot as plt\n",
    "fig, ax = plt.subplots()\n",
    "for i, unit_id in enumerate([112]):\n",
    "    template = waveforms.get_waveforms(unit_id)\n",
    "    \n",
    "    ax.plot(template.T, lw=3, color ='Fuchsia')\n",
    "print(template.shape)"
   ]
  },
  {
   "cell_type": "code",
   "execution_count": null,
   "metadata": {},
   "outputs": [],
   "source": [
    "data = traces\n",
    "data_scaled = (data - np.mean(data, axis=0)) / np.std(data, axis=0)\n",
    "fig = plt.figure()\n",
    "for i, channel in enumerate(row):\n",
    "    plt.plot(data_scaled[:, i],label = channel)\n",
    "\n",
    "# Show the plot\n",
    "plt.legend()\n",
    "plt.show()"
   ]
  },
  {
   "cell_type": "code",
   "execution_count": null,
   "metadata": {},
   "outputs": [],
   "source": [
    "\n",
    "\n",
    "sw.plot_unit_waveforms(waveforms_good,unit_ids = [112])"
   ]
  },
  {
   "cell_type": "code",
   "execution_count": null,
   "metadata": {},
   "outputs": [],
   "source": [
    "sw.plot_unit_templates(waveforms_good,unit_ids = [112])"
   ]
  },
  {
   "cell_type": "code",
   "execution_count": null,
   "metadata": {},
   "outputs": [],
   "source": [
    "msp.export_to_phy_datatype(waveforms_good)"
   ]
  },
  {
   "cell_type": "code",
   "execution_count": null,
   "metadata": {},
   "outputs": [],
   "source": [
    "!phy extract-waveforms /home/mmpatil/Documents/spikesorting/MEA_Analysis/Python/phy_folder/params.py"
   ]
  },
  {
   "cell_type": "code",
   "execution_count": null,
   "metadata": {},
   "outputs": [],
   "source": [
    "!phy template-gui  /home/mmpatil/Documents/spikesorting/MEA_Analysis/Python/phy_folder/params.py"
   ]
  },
  {
   "cell_type": "code",
   "execution_count": null,
   "metadata": {},
   "outputs": [],
   "source": []
  },
  {
   "cell_type": "code",
   "execution_count": null,
   "metadata": {},
   "outputs": [],
   "source": [
    "non_violated_units = msp.remove_violated_units(sorting1min,waveforms1min)\n",
    "print(non_violated_units)\n",
    "template_channel_dict = msp.get_unique_templates_channels(non_violated_units,waveforms1min)\n",
    "non_redundant_templates = list(template_channel_dict.keys())\n",
    "print(non_redundant_templates)"
   ]
  },
  {
   "cell_type": "code",
   "execution_count": null,
   "metadata": {},
   "outputs": [],
   "source": [
    "\n",
    "import os\n",
    "os.chdir('/home/mmpatil/Documents/spikesorting/MEA_Analysis/Python/sorter_workspace/block_rec0005')\n",
    "waveform_good = waveforms1min.select_units(non_redundant_templates,new_folder='waveforms_good_rec0005')\n",
    "waveform_good.run_extract_waveforms()"
   ]
  },
  {
   "cell_type": "code",
   "execution_count": null,
   "metadata": {},
   "outputs": [],
   "source": [
    "print(waveforms_good.unit_ids)"
   ]
  },
  {
   "cell_type": "code",
   "execution_count": null,
   "metadata": {},
   "outputs": [],
   "source": [
    "template1 = waveforms_good.get_template(unit_id = 8)\n",
    "template1 = template1.transpose()\n",
    "print(template1.shape)"
   ]
  },
  {
   "cell_type": "code",
   "execution_count": null,
   "metadata": {},
   "outputs": [],
   "source": [
    "locations = waveforms_good.get_channel_locations()\n",
    "\n"
   ]
  },
  {
   "cell_type": "code",
   "execution_count": null,
   "metadata": {},
   "outputs": [],
   "source": [
    "waveforms_good.run_extract_waveforms()"
   ]
  },
  {
   "cell_type": "code",
   "execution_count": null,
   "metadata": {},
   "outputs": [],
   "source": [
    "%matplotlib widget\n",
    "import spikeinterface.widgets as sw\n",
    "import spikeinterface.postprocessing as sp\n",
    "import matplotlib.pyplot as plt\n",
    "locations = sp.compute_unit_locations(waveforms_good)\n",
    "print(locations.shape)\n",
    "#ax = plt.subplot(111)\n",
    "sw.plot_unit_waveforms(waveforms_good, unit_ids=[8])\n",
    "print(locations)"
   ]
  },
  {
   "cell_type": "code",
   "execution_count": null,
   "metadata": {},
   "outputs": [],
   "source": []
  },
  {
   "cell_type": "code",
   "execution_count": null,
   "metadata": {},
   "outputs": [],
   "source": [
    "good_units = msp.remove_violated_units(metrics)\n",
    "print(good_units)"
   ]
  },
  {
   "cell_type": "code",
   "execution_count": null,
   "metadata": {},
   "outputs": [],
   "source": [
    "recording,rec_name = msp.get_data_maxwell(file_path,6)\n",
    "channel_location_dict = msp.get_channel_locations_mapping(recording)\n",
    "print(channel_location_dict)"
   ]
  },
  {
   "cell_type": "code",
   "execution_count": null,
   "metadata": {},
   "outputs": [],
   "source": [
    "import spikeinterface.full\n",
    "unit_extremum_channel =spikeinterface.full.get_template_extremum_channel(waveforms1min, peak_sign='neg')\n",
    "    #Step 1: keep only units that are in good_units \n",
    "unit_extremum_channel = {key:value for key,value in unit_extremum_channel.items() if key in good_units}"
   ]
  },
  {
   "cell_type": "code",
   "execution_count": null,
   "metadata": {},
   "outputs": [],
   "source": [
    "# New dictionary with combined information\n",
    "new_dict = {}\n",
    "for template, channel in unit_extremum_channel.items():\n",
    "    if template not in new_dict:\n",
    "        new_dict[template] = {}\n",
    "\n",
    "# Add an entry for this template and its corresponding location to the new dictionary\n",
    "    new_dict[template][channel] = [int(channel_location_dict[channel][0]/17.5),int(channel_location_dict[channel][1]/17.5)]\n",
    "print(new_dict)"
   ]
  },
  {
   "cell_type": "code",
   "execution_count": null,
   "metadata": {},
   "outputs": [],
   "source": [
    "import axon_velocity as av\n",
    "\n",
    "gtr = av.compute_graph_propagation_velocity(template=template1, locations=locations, fs=20000)"
   ]
  },
  {
   "cell_type": "code",
   "execution_count": null,
   "metadata": {},
   "outputs": [],
   "source": [
    "templates = helper.get_templates_with_same_channels('/home/mmpatil/Documents/spikesorting/MEA_Analysis/Python/Electrodes_rec0010')\n",
    "print(templates)"
   ]
  },
  {
   "cell_type": "code",
   "execution_count": null,
   "metadata": {},
   "outputs": [],
   "source": [
    "metrics = msp.get_quality_metrics(waveforms_good)"
   ]
  },
  {
   "cell_type": "code",
   "execution_count": null,
   "metadata": {},
   "outputs": [],
   "source": []
  },
  {
   "cell_type": "code",
   "execution_count": null,
   "metadata": {},
   "outputs": [],
   "source": [
    "metrics"
   ]
  },
  {
   "cell_type": "code",
   "execution_count": null,
   "metadata": {},
   "outputs": [],
   "source": []
  },
  {
   "cell_type": "code",
   "execution_count": null,
   "metadata": {},
   "outputs": [],
   "source": [
    "%matplotlib widget"
   ]
  },
  {
   "cell_type": "code",
   "execution_count": null,
   "metadata": {},
   "outputs": [],
   "source": [
    "import spikeinterface.postprocessing as sp\n",
    "\n",
    "locations = sp.compute_unit_locations(waveforms1min)\n",
    "print(locations)\n",
    "import numpy as np\n",
    "#np.savetxt(\"unitloc_10mins.txt\",locations)\n",
    "ax = plt.subplot(111)\n",
    "sw.plot_probe_map(recording,ax=ax,with_channel_ids=False)\n",
    "for x,y in locations:\n",
    "    ax.scatter(x,y)\n"
   ]
  },
  {
   "cell_type": "code",
   "execution_count": null,
   "metadata": {},
   "outputs": [],
   "source": [
    "channel_locations = recording_chunk.get_channel_locations()\n",
    "channel_ids = recording_chunk.get_channel_ids()\n",
    "channel_locations_mappings= {channel_id: location for location, channel_id in zip(channel_locations, channel_ids)}\n",
    "print(channel_locations_mappings)\n",
    "\n"
   ]
  },
  {
   "cell_type": "code",
   "execution_count": null,
   "metadata": {},
   "outputs": [],
   "source": [
    "#thinking the unique locations have all the required electrodes.\n",
    "\n",
    "required_electrodes= {channels :[int(locations[0]/17.5),int(locations[1]/17.5)] for channels, locations in channel_locations_mappings.items() if channels in unique_channels }\n",
    "print(required_electrodes)"
   ]
  },
  {
   "cell_type": "code",
   "execution_count": null,
   "metadata": {},
   "outputs": [],
   "source": [
    "import json\n",
    "\n",
    "with open('electrode_locations_4min.json','w') as fileptr:\n",
    "    json.dump(required_electrodes,fileptr)\n",
    "\n"
   ]
  },
  {
   "cell_type": "code",
   "execution_count": null,
   "metadata": {},
   "outputs": [],
   "source": [
    "with open('electrode_locations_4min.json',) as fileptr:\n",
    "    data = json.load(fileptr)\n",
    "print(data)"
   ]
  },
  {
   "cell_type": "code",
   "execution_count": null,
   "metadata": {},
   "outputs": [],
   "source": [
    "selected_electrodes = [220 * locations[1] + locations[0] for locations in data.values()]\n",
    "print(selected_electrodes)"
   ]
  },
  {
   "cell_type": "code",
   "execution_count": null,
   "metadata": {},
   "outputs": [],
   "source": [
    "val = recording_chunk.get_electrode_info\n",
    "print(val)"
   ]
  },
  {
   "cell_type": "code",
   "execution_count": null,
   "metadata": {},
   "outputs": [],
   "source": [
    "def electrode_rectangle_indices(xmin, ymin, xmax, ymax):\n",
    "    return [220 * y + x for y in range(max(ymin, 0), min(ymax + 1, 120)) for x in range(max(xmin, 0), min(xmax + 1, 220))]\n",
    "\n",
    "\n",
    "def electrode_rectangle_um(xmin, ymin, xmax, ymax):\n",
    "    return electrode_rectangle_indices(int(xmin / 17.5), int(ymin / 17.5), int(xmax / 17.5), int(ymax / 17.5))\n",
    "\n",
    "XMULTIPLIER = 44\n",
    "YMULTIPLIER = 20\n",
    "\n",
    "for y in range(6):\n",
    "    for x in range(5):\n",
    "        #print(\"(\",XMULTIPLIER*x,YMULTIPLIER*y,XMULTIPLIER*x+XMULTIPLIER-1,YMULTIPLIER*y+YMULTIPLIER-1,\")\")\n",
    "        print(electrode_rectangle_indices(XMULTIPLIER*x,YMULTIPLIER*y,XMULTIPLIER*x+XMULTIPLIER-1,YMULTIPLIER*y+YMULTIPLIER-1))\n",
    "\n",
    "# print(electrode_rectangle_indices(218,0,219,1))"
   ]
  },
  {
   "cell_type": "code",
   "execution_count": null,
   "metadata": {},
   "outputs": [],
   "source": [
    "import datetime as datetime\n",
    "\n",
    "now = datetime.datetime.now()\n",
    "strfmt = now.strftime(\"%Y%m%d_%H_%M_%S\")\n",
    "print(strfmt)"
   ]
  },
  {
   "cell_type": "code",
   "execution_count": null,
   "metadata": {},
   "outputs": [],
   "source": [
    "import maxlab.saving\n",
    "\n",
    "obj = maxlab.saving.Saving()\n",
    "\n",
    "obj.start()"
   ]
  },
  {
   "cell_type": "code",
   "execution_count": null,
   "metadata": {},
   "outputs": [],
   "source": [
    "fig, ax1 = plt.subplots(figsize=(15,5))\n",
    "spike_times = {}\n",
    "for idx, unit_id in enumerate(clean_sorting.get_unit_ids()):\n",
    "    spike_train = clean_sorting.get_unit_spike_train(unit_id,start_frame=1*fs,end_frame=100*fs)\n",
    "    print(spike_train)\n",
    "    if len(spike_train) > 0:\n",
    "        spike_times[idx] = spike_train / float(fs)\n",
    "        #print(spike_times[unit_id])\n",
    "       # print(unit_id*np.ones_like(spike_times[unit_id]))\n",
    "        ax1.plot(spike_times[idx],idx*np.ones_like(spike_times[idx]),\n",
    "                             marker='|', mew=1, markersize=3,\n",
    "                             ls='',color='black')\n",
    "                       "
   ]
  },
  {
   "cell_type": "code",
   "execution_count": null,
   "metadata": {},
   "outputs": [],
   "source": [
    "t_start = 0 \n",
    "t_end = int(600*fs)\n",
    "dt = 1\n",
    "#initialising the spike train.\n",
    "units= clean_sorting.get_num_units()\n",
    "frame_numbers = t_end\n",
    "spike_array = np.zeros((units,frame_numbers), dtype= int)\n",
    "for idx, unit_id in enumerate(clean_sorting.get_unit_ids()):\n",
    "    spike_train = clean_sorting.get_unit_spike_train(unit_id,start_frame=t_start,end_frame=t_end)\n",
    "    for spike_time in spike_train:\n",
    "        spike_array[idx,spike_time] = 1\n",
    "\n",
    "print(spike_array)\n",
    "\n",
    "print(spike_array[0,63782])"
   ]
  },
  {
   "cell_type": "code",
   "execution_count": null,
   "metadata": {},
   "outputs": [],
   "source": [
    "np.savez_compressed('spike_array_compressed_blockactivity.npz',spike_array)"
   ]
  },
  {
   "cell_type": "code",
   "execution_count": null,
   "metadata": {},
   "outputs": [],
   "source": [
    "with np.load('spike_array_compressed_blockactivity.npz') as data:\n",
    "    decompressed_data = data['arr_0']\n",
    "\n",
    "print(np.array_equal(spike_array, decompressed_data))\n"
   ]
  },
  {
   "cell_type": "code",
   "execution_count": null,
   "metadata": {},
   "outputs": [],
   "source": [
    "extremum_channels_ids =spikeinterface.full.get_template_extremum_channel(waveforms, peak_sign='neg')\n",
    "print(extremum_channels_ids)\n",
    "\n"
   ]
  },
  {
   "cell_type": "code",
   "execution_count": null,
   "metadata": {},
   "outputs": [],
   "source": [
    "colors = [ 'Lime','Gold', 'Orange','Orangered']\n",
    "fig, ax = plt.subplots()\n",
    "wf=[]\n",
    "for i, unit_id in enumerate([34, 49]):\n",
    "    wf = waveforms.get_waveforms(unit_id)\n",
    "    color = colors[i]\n",
    "    ax.plot(wf[:, :,channel_association_dict[594]].T, color=color, lw=0.3)\n",
    "print(wf.shape)"
   ]
  },
  {
   "cell_type": "code",
   "execution_count": null,
   "metadata": {},
   "outputs": [],
   "source": [
    "colors = [ 'Fuchsia','Olive', 'Teal']\n",
    "fig, ax = plt.subplots()\n",
    "wf=[]\n",
    "for i, unit_id in enumerate([218]):\n",
    "    wf = waveform_good.get_waveforms(unit_id)\n",
    "    ax.plot(wf[:, :,channel_association_dict[902]].T, color=colors[0], lw=0.3)\n",
    "    ax.plot(wf[:, :,channel_association_dict[613]].T, color=colors[1], lw=0.3)\n",
    "    ax.plot(wf[:, :,channel_association_dict[663]].T, color=colors[2], lw=0.3)\n",
    "print(wf.shape)"
   ]
  },
  {
   "cell_type": "code",
   "execution_count": null,
   "metadata": {},
   "outputs": [],
   "source": [
    "peak_shift=si.get_template_extremum_channel_peak_shift(waveform_good)\n",
    "\n",
    "print(peak_shift)"
   ]
  },
  {
   "cell_type": "code",
   "execution_count": null,
   "metadata": {},
   "outputs": [],
   "source": [
    "colors = [ 'Fuchsia','Olive', 'Teal']\n",
    "fig, ax = plt.subplots()\n",
    "for i, unit_id in enumerate([26, 40 , 46]):\n",
    "    template = waveforms.get_template(unit_id)\n",
    "    color = colors[i]\n",
    "    ax.plot(template[:, channel_association_dict[780]].T, color=color, lw=3)\n",
    "print(template.shape)"
   ]
  },
  {
   "cell_type": "code",
   "execution_count": null,
   "metadata": {},
   "outputs": [],
   "source": [
    "w = sw.plot_unit_templates(waveform_good, unit_ids=[183],plot_channels=False )"
   ]
  },
  {
   "cell_type": "code",
   "execution_count": null,
   "metadata": {},
   "outputs": [],
   "source": [
    "w = sw.plot_unit_waveforms(waveform_good, unit_ids=[2,4,7])\n",
    "w = sw.plot_unit_templates(waveform_good, unit_ids=[2,4,7])\n",
    "w = sw.plot_unit_probe_map(waveform_good, unit_ids=[2,4,7])"
   ]
  },
  {
   "cell_type": "code",
   "execution_count": null,
   "metadata": {},
   "outputs": [],
   "source": [
    "    all_units = sortingKS3.get_unit_ids()\n",
    "    print(f\"Total units counts {len(all_units)}\")\n",
    "    print(f\"Units : {all_units}\")\n",
    "    rp_contamination,rp_violation = qm.compute_refrac_period_violations(waveforms)\n",
    "    print(f\"rp_contaminaiton : {rp_contamination}\")\n",
    "\n",
    "    refrct_violated_units = [unit for unit,ratio in rp_contamination.items() if ratio >0.0]\n",
    "\n",
    "    snr_ratio = qm.compute_snrs(waveforms)\n",
    "    print(f\"SNR ratio : {snr_ratio}\")\n",
    "    snr_violated_units = [unit for unit,ratio in snr_ratio.items() if ratio >5]\n",
    "\n",
    "    firing_rate = qm.compute_firing_rates(waveforms)\n",
    "    print(f\"Firing rate : {firing_rate}\")\n",
    "    fr_violated_units = [unit for unit,ratio in firing_rate.items() if ratio <=0.1]\n",
    "\n",
    "    violated_units = list(set(refrct_violated_units+fr_violated_units))\n",
    "    print(f\"violated units {violated_units} removed\")\n",
    "\n",
    "    \n",
    "    good_units = [units for units in all_units if units not in violated_units ]"
   ]
  }
 ],
 "metadata": {
  "kernelspec": {
   "display_name": "Python 3",
   "language": "python",
   "name": "python3"
  },
  "language_info": {
   "codemirror_mode": {
    "name": "ipython",
    "version": 3
   },
   "file_extension": ".py",
   "mimetype": "text/x-python",
   "name": "python",
   "nbconvert_exporter": "python",
   "pygments_lexer": "ipython3",
   "version": "3.10.6"
  },
  "orig_nbformat": 4,
  "vscode": {
   "interpreter": {
    "hash": "916dbcbb3f70747c44a77c7bcd40155683ae19c65e1c03b4aa3499c5328201f1"
   }
  }
 },
 "nbformat": 4,
 "nbformat_minor": 2
}
